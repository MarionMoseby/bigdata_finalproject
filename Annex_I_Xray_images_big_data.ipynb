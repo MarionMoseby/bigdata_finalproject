{
  "cells": [
    {
      "cell_type": "markdown",
      "metadata": {
        "id": "view-in-github",
        "colab_type": "text"
      },
      "source": [
        "<a href=\"https://colab.research.google.com/github/yaiza612/scalable_classification_x_ray_data/blob/main/Annex_I_Xray_images_big_data.ipynb\" target=\"_parent\"><img src=\"https://colab.research.google.com/assets/colab-badge.svg\" alt=\"Open In Colab\"/></a>"
      ]
    },
    {
      "cell_type": "markdown",
      "source": [
        "This jupyter notebook shall serve as accompanying material to this repositories' README, a report for the “Big Data Engineering” subject at UPM’s Master in Computational Biology. It is thus only intended as a recopilation of used code; for the full discussion, please refer to the README."
      ],
      "metadata": {
        "id": "XC214A53Zpb0"
      }
    },
    {
      "cell_type": "markdown",
      "metadata": {
        "id": "CMh9VCoUUG1l"
      },
      "source": [
        "**INITALIZATION OF SPARK AND IMPORTATION OF THE LIBRARIES**"
      ]
    },
    {
      "cell_type": "code",
      "execution_count": null,
      "metadata": {
        "colab": {
          "base_uri": "https://localhost:8080/"
        },
        "id": "H1b71XxWRvZN",
        "outputId": "0f55169b-8247-425a-c0af-56854cdf14ad"
      },
      "outputs": [
        {
          "output_type": "stream",
          "name": "stdout",
          "text": [
            "openjdk version \"1.8.0_312\"\n",
            "OpenJDK Runtime Environment (build 1.8.0_312-8u312-b07-0ubuntu1~18.04-b07)\n",
            "OpenJDK 64-Bit Server VM (build 25.312-b07, mixed mode)\n"
          ]
        }
      ],
      "source": [
        "# Install jdk8\n",
        "!apt-get install openjdk-8-jdk-headless -qq > /dev/null\n",
        "import os\n",
        "# Set environment variable JAVA_HOME.\n",
        "os.environ[\"JAVA_HOME\"] = \"/usr/lib/jvm/java-8-openjdk-amd64\"\n",
        "!update-alternatives --set java /usr/lib/jvm/java-8-openjdk-amd64/jre/bin/java\n",
        "!java -version"
      ]
    },
    {
      "cell_type": "code",
      "execution_count": null,
      "metadata": {
        "id": "wFI__sqinEWZ"
      },
      "outputs": [],
      "source": [
        "import sys\n",
        "\n",
        "# Set current python version\n",
        "python_version = f\"3.7.10\""
      ]
    },
    {
      "cell_type": "code",
      "execution_count": null,
      "metadata": {
        "colab": {
          "base_uri": "https://localhost:8080/"
        },
        "id": "raQSHj3aljzF",
        "outputId": "2b49efbf-6f51-4ca6-b8db-86a11cd529a9"
      },
      "outputs": [
        {
          "output_type": "stream",
          "name": "stdout",
          "text": [
            "--2022-02-10 21:40:56--  https://repo.continuum.io/miniconda/Miniconda3-4.5.4-Linux-x86_64.sh\n",
            "Resolving repo.continuum.io (repo.continuum.io)... 104.18.201.79, 104.18.200.79, 2606:4700::6812:c84f, ...\n",
            "Connecting to repo.continuum.io (repo.continuum.io)|104.18.201.79|:443... connected.\n",
            "HTTP request sent, awaiting response... 301 Moved Permanently\n",
            "Location: https://repo.anaconda.com/miniconda/Miniconda3-4.5.4-Linux-x86_64.sh [following]\n",
            "--2022-02-10 21:40:56--  https://repo.anaconda.com/miniconda/Miniconda3-4.5.4-Linux-x86_64.sh\n",
            "Resolving repo.anaconda.com (repo.anaconda.com)... 104.16.131.3, 104.16.130.3, 2606:4700::6810:8203, ...\n",
            "Connecting to repo.anaconda.com (repo.anaconda.com)|104.16.131.3|:443... connected.\n",
            "HTTP request sent, awaiting response... 200 OK\n",
            "Length: 58468498 (56M) [application/x-sh]\n",
            "Saving to: ‘Miniconda3-4.5.4-Linux-x86_64.sh.2’\n",
            "\n",
            "Miniconda3-4.5.4-Li 100%[===================>]  55.76M   234MB/s    in 0.2s    \n",
            "\n",
            "2022-02-10 21:40:57 (234 MB/s) - ‘Miniconda3-4.5.4-Linux-x86_64.sh.2’ saved [58468498/58468498]\n",
            "\n",
            "PREFIX=/usr/local\n",
            "installing: python-3.6.5-hc3d631a_2 ...\n",
            "Python 3.6.5 :: Anaconda, Inc.\n",
            "installing: ca-certificates-2018.03.07-0 ...\n",
            "installing: conda-env-2.6.0-h36134e3_1 ...\n",
            "installing: libgcc-ng-7.2.0-hdf63c60_3 ...\n",
            "installing: libstdcxx-ng-7.2.0-hdf63c60_3 ...\n",
            "installing: libffi-3.2.1-hd88cf55_4 ...\n",
            "installing: ncurses-6.1-hf484d3e_0 ...\n",
            "installing: openssl-1.0.2o-h20670df_0 ...\n",
            "installing: tk-8.6.7-hc745277_3 ...\n",
            "installing: xz-5.2.4-h14c3975_4 ...\n",
            "installing: yaml-0.1.7-had09818_2 ...\n",
            "installing: zlib-1.2.11-ha838bed_2 ...\n",
            "installing: libedit-3.1.20170329-h6b74fdf_2 ...\n",
            "installing: readline-7.0-ha6073c6_4 ...\n",
            "installing: sqlite-3.23.1-he433501_0 ...\n",
            "installing: asn1crypto-0.24.0-py36_0 ...\n",
            "installing: certifi-2018.4.16-py36_0 ...\n",
            "installing: chardet-3.0.4-py36h0f667ec_1 ...\n",
            "installing: idna-2.6-py36h82fb2a8_1 ...\n",
            "installing: pycosat-0.6.3-py36h0a5515d_0 ...\n",
            "installing: pycparser-2.18-py36hf9f622e_1 ...\n",
            "installing: pysocks-1.6.8-py36_0 ...\n",
            "installing: ruamel_yaml-0.15.37-py36h14c3975_2 ...\n",
            "installing: six-1.11.0-py36h372c433_1 ...\n",
            "installing: cffi-1.11.5-py36h9745a5d_0 ...\n",
            "installing: setuptools-39.2.0-py36_0 ...\n",
            "installing: cryptography-2.2.2-py36h14c3975_0 ...\n",
            "installing: wheel-0.31.1-py36_0 ...\n",
            "installing: pip-10.0.1-py36_0 ...\n",
            "installing: pyopenssl-18.0.0-py36_0 ...\n",
            "installing: urllib3-1.22-py36hbe7ace6_0 ...\n",
            "installing: requests-2.18.4-py36he2e5f8d_1 ...\n",
            "installing: conda-4.5.4-py36_0 ...\n",
            "unlinking: ca-certificates-2021.10.26-h06a4308_2\n",
            "unlinking: certifi-2021.10.8-py37h06a4308_2\n",
            "unlinking: cffi-1.15.0-py37hd667e15_1\n",
            "unlinking: conda-4.11.0-py37h06a4308_0\n",
            "unlinking: cryptography-36.0.0-py37h9ce1e76_0\n",
            "unlinking: idna-3.3-pyhd3eb1b0_0\n",
            "unlinking: libffi-3.3-he6710b0_2\n",
            "unlinking: libgcc-ng-9.3.0-h5101ec6_17\n",
            "unlinking: libstdcxx-ng-9.3.0-hd4cf53a_17\n",
            "unlinking: ncurses-6.3-h7f8727e_2\n",
            "unlinking: openssl-1.1.1m-h7f8727e_0\n",
            "unlinking: pip-21.2.2-py37h06a4308_0\n",
            "unlinking: pycosat-0.6.3-py37h27cfd23_0\n",
            "unlinking: pycparser-2.21-pyhd3eb1b0_0\n",
            "unlinking: pyopenssl-22.0.0-pyhd3eb1b0_0\n",
            "unlinking: pysocks-1.7.1-py37_1\n",
            "unlinking: python-3.7.11-h12debd9_0\n",
            "unlinking: readline-8.1.2-h7f8727e_1\n",
            "unlinking: requests-2.27.1-pyhd3eb1b0_0\n",
            "unlinking: ruamel_yaml-0.15.100-py37h27cfd23_0\n",
            "unlinking: setuptools-58.0.4-py37h06a4308_0\n",
            "unlinking: six-1.16.0-pyhd3eb1b0_0\n",
            "unlinking: sqlite-3.37.2-hc218d9a_0\n",
            "unlinking: tk-8.6.11-h1ccaba5_0\n",
            "unlinking: urllib3-1.26.8-pyhd3eb1b0_0\n",
            "unlinking: wheel-0.37.1-pyhd3eb1b0_0\n",
            "unlinking: xz-5.2.5-h7b6447c_0\n",
            "unlinking: yaml-0.2.5-h7b6447c_0\n",
            "unlinking: zlib-1.2.11-h7f8727e_4\n",
            "installation finished.\n",
            "WARNING:\n",
            "    You currently have a PYTHONPATH environment variable set. This may cause\n",
            "    unexpected behavior when running the Python interpreter in Miniconda3.\n",
            "    For best results, please verify that your PYTHONPATH only points to\n",
            "    directories of packages that are compatible with the Python interpreter\n",
            "    in Miniconda3: /usr/local\n",
            "Solving environment: - \b\b\\ \b\b| \b\b/ \b\b- \b\b\\ \b\b| \b\b/ \b\b- \b\b\\ \b\b| \b\b/ \b\b- \b\b\\ \b\b| \b\b/ \b\b- \b\b\\ \b\b| \b\b/ \b\b- \b\b\\ \b\b| \b\b/ \b\b- \b\b\\ \b\b| \b\b/ \b\b- \b\b\\ \b\b| \b\b/ \b\b- \b\b\\ \b\b| \b\b/ \b\b- \b\b\\ \b\b| \b\b/ \b\b- \b\b\\ \b\b| \b\b/ \b\b- \b\b\\ \b\b| \b\b/ \b\b- \b\b\\ \b\b| \b\b/ \b\b- \b\b\\ \b\b| \b\b/ \b\b- \b\b\\ \b\b| \b\b/ \b\b- \b\b\\ \b\b| \b\b/ \b\b- \b\b\\ \b\b| \b\b/ \b\b- \b\b\\ \b\b| \b\b/ \b\b- \b\b\\ \b\b| \b\b/ \b\b- \b\b\\ \b\b| \b\b/ \b\b- \b\b\\ \b\b| \b\b/ \b\b- \b\b\\ \b\b| \b\b/ \b\b- \b\b\\ \b\b| \b\b/ \b\b- \b\b\\ \b\b| \b\b/ \b\b- \b\b\\ \b\b| \b\b/ \b\b- \b\b\\ \b\b| \b\b/ \b\b- \b\b\\ \b\b| \b\b/ \b\b- \b\b\\ \b\b| \b\b/ \b\b- \b\b\\ \b\b| \b\b/ \b\b- \b\b\\ \b\b| \b\b/ \b\b- \b\b\\ \b\b| \b\b/ \b\b- \b\b\\ \b\b| \b\b/ \b\b- \b\b\\ \b\b| \b\b/ \b\b- \b\b\\ \b\b| \b\b/ \b\b- \b\b\\ \b\b| \b\b/ \b\b- \b\b\\ \b\b| \b\b/ \b\b- \b\b\\ \b\b| \b\b/ \b\b- \b\b\\ \b\b| \b\b/ \b\b- \b\b\\ \b\b| \b\b/ \b\b- \b\b\\ \b\b| \b\b/ \b\b- \b\b\\ \b\b| \b\b/ \b\b- \b\b\\ \b\b| \b\b/ \b\b- \b\b\\ \b\b| \b\b/ \b\b- \b\b\\ \b\b| \b\b/ \b\b- \b\b\\ \b\b| \b\b/ \b\b- \b\b\\ \b\b| \b\b/ \b\b- \b\b\\ \b\b| \b\b/ \b\b- \b\b\\ \b\b| \b\b/ \b\b- \b\b\\ \b\b| \b\b/ \b\b- \b\b\\ \b\b| \b\b/ \b\b- \b\b\\ \b\b| \b\b/ \b\b- \b\b\\ \b\b| \b\b/ \b\b- \b\b\\ \b\b| \b\b/ \b\b- \b\b\\ \b\b| \b\b/ \b\b- \b\b\\ \b\b| \b\b/ \b\b- \b\b\\ \b\b| \b\b/ \b\b- \b\b\\ \b\b| \b\b/ \b\b- \b\b\\ \b\b| \b\b/ \b\b- \b\b\\ \b\b| \b\bdone\n",
            "\n",
            "## Package Plan ##\n",
            "\n",
            "  environment location: /usr/local\n",
            "\n",
            "  added / updated specs: \n",
            "    - conda\n",
            "    - python=3.7.10\n",
            "\n",
            "\n",
            "The following packages will be UPDATED:\n",
            "\n",
            "    asn1crypto:         0.24.0-py36_0          --> 1.4.0-py_0              \n",
            "    ca-certificates:    2018.03.07-0           --> 2021.10.26-h06a4308_2   \n",
            "    certifi:            2018.4.16-py36_0       --> 2021.10.8-py37h06a4308_2\n",
            "    cffi:               1.11.5-py36h9745a5d_0  --> 1.15.0-py37hd667e15_1   \n",
            "    chardet:            3.0.4-py36h0f667ec_1   --> 4.0.0-py37h06a4308_1003 \n",
            "    charset-normalizer: 2.0.4-pyhd3eb1b0_0     --> 2.0.4-pyhd3eb1b0_0      \n",
            "    conda:              4.5.4-py36_0           --> 4.11.0-py37h06a4308_0   \n",
            "    cryptography:       2.2.2-py36h14c3975_0   --> 36.0.0-py37h9ce1e76_0   \n",
            "    idna:               2.6-py36h82fb2a8_1     --> 3.3-pyhd3eb1b0_0        \n",
            "    libffi:             3.2.1-hd88cf55_4       --> 3.3-he6710b0_2          \n",
            "    libgcc-ng:          7.2.0-hdf63c60_3       --> 9.1.0-hdf63c60_0        \n",
            "    libstdcxx-ng:       7.2.0-hdf63c60_3       --> 9.1.0-hdf63c60_0        \n",
            "    ncurses:            6.1-hf484d3e_0         --> 6.3-h7f8727e_2          \n",
            "    openssl:            1.0.2o-h20670df_0      --> 1.1.1m-h7f8727e_0       \n",
            "    pip:                10.0.1-py36_0          --> 21.2.2-py37h06a4308_0   \n",
            "    pycosat:            0.6.3-py36h0a5515d_0   --> 0.6.3-py37h27cfd23_0    \n",
            "    pycparser:          2.18-py36hf9f622e_1    --> 2.21-pyhd3eb1b0_0       \n",
            "    pyopenssl:          18.0.0-py36_0          --> 22.0.0-pyhd3eb1b0_0     \n",
            "    pysocks:            1.6.8-py36_0           --> 1.7.1-py37_1            \n",
            "    python:             3.6.5-hc3d631a_2       --> 3.7.10-h12debd9_4       \n",
            "    readline:           7.0-ha6073c6_4         --> 8.1.2-h7f8727e_1        \n",
            "    requests:           2.18.4-py36he2e5f8d_1  --> 2.27.1-pyhd3eb1b0_0     \n",
            "    ruamel_yaml:        0.15.37-py36h14c3975_2 --> 0.15.87-py37h7b6447c_0  \n",
            "    setuptools:         39.2.0-py36_0          --> 58.0.4-py37h06a4308_0   \n",
            "    six:                1.11.0-py36h372c433_1  --> 1.16.0-pyhd3eb1b0_0     \n",
            "    sqlite:             3.23.1-he433501_0      --> 3.37.2-hc218d9a_0       \n",
            "    tk:                 8.6.7-hc745277_3       --> 8.6.11-h1ccaba5_0       \n",
            "    tqdm:               4.62.3-pyhd3eb1b0_1    --> 4.62.3-pyhd3eb1b0_1     \n",
            "    urllib3:            1.22-py36hbe7ace6_0    --> 1.26.8-pyhd3eb1b0_0     \n",
            "    wheel:              0.31.1-py36_0          --> 0.37.1-pyhd3eb1b0_0     \n",
            "    xz:                 5.2.4-h14c3975_4       --> 5.2.5-h7b6447c_0        \n",
            "\n",
            "Preparing transaction: - \b\b\\ \b\b| \b\b/ \b\b- \b\bdone\n",
            "Verifying transaction: | \b\b/ \b\b- \b\b\\ \b\b| \b\b/ \b\b- \b\b\\ \b\b| \b\b/ \b\b- \b\b\\ \b\b| \b\b/ \b\b- \b\b\\ \b\b| \b\b/ \b\b- \b\b\\ \b\b| \b\b/ \b\b- \b\b\\ \b\b| \b\b/ \b\b- \b\b\\ \b\b| \b\b/ \b\b- \b\b\\ \b\b| \b\b/ \b\b- \b\b\\ \b\b| \b\b/ \b\b- \b\b\\ \b\b| \b\b/ \b\b- \b\b\\ \b\b| \b\b/ \b\b- \b\b\\ \b\b| \b\b/ \b\b- \b\b\\ \b\b| \b\bdone\n",
            "Executing transaction: - \b\b\\ \b\b| \b\b/ \b\b- \b\b\\ \b\b| \b\b/ \b\b- \b\b\\ \b\b| \b\b/ \b\b- \b\b\\ \b\b| \b\b/ \b\b- \b\b\\ \b\b| \b\b/ \b\b- \b\b\\ \b\b| \b\b/ \b\b- \b\b\\ \b\b| \b\b/ \b\b- \b\b\\ \b\b| \b\b/ \b\b- \b\b\\ \b\b| \b\b/ \b\b- \b\b\\ \b\b| \b\b/ \b\b- \b\b\\ \b\b| \b\b/ \b\b- \b\b\\ \b\b| \b\b/ \b\b- \b\b\\ \b\b| \b\b/ \b\b- \b\b\\ \b\b| \b\b/ \b\b- \b\b\\ \b\b| \b\b/ \b\b- \b\b\\ \b\b| \b\b/ \b\b- \b\b\\ \b\b| \b\b/ \b\b- \b\b\\ \b\b| \b\b/ \b\b- \b\b\\ \b\b| \b\b/ \b\b- \b\b\\ \b\bdone\n",
            "Collecting package metadata (current_repodata.json): - \b\b\\ \b\b| \b\b/ \b\b- \b\b\\ \b\bdone\n",
            "Solving environment: / \b\b- \b\b\\ \b\b| \b\bdone\n",
            "\n",
            "## Package Plan ##\n",
            "\n",
            "  environment location: /usr/local\n",
            "\n",
            "\n",
            "The following packages will be REMOVED:\n",
            "\n",
            "  asn1crypto-1.4.0-py_0\n",
            "  chardet-4.0.0-py37h06a4308_1003\n",
            "  conda-env-2.6.0-h36134e3_1\n",
            "  libedit-3.1.20170329-h6b74fdf_2\n",
            "\n",
            "The following packages will be UPDATED:\n",
            "\n",
            "  libgcc-ng                                9.1.0-hdf63c60_0 --> 9.3.0-h5101ec6_17\n",
            "  libstdcxx-ng                             9.1.0-hdf63c60_0 --> 9.3.0-hd4cf53a_17\n",
            "  python                                  3.7.10-h12debd9_4 --> 3.7.11-h12debd9_0\n",
            "  ruamel_yaml                        0.15.87-py37h7b6447c_0 --> 0.15.100-py37h27cfd23_0\n",
            "  yaml                                     0.1.7-had09818_2 --> 0.2.5-h7b6447c_0\n",
            "  zlib                                    1.2.11-ha838bed_2 --> 1.2.11-h7f8727e_4\n",
            "\n",
            "\n",
            "Preparing transaction: - \b\bdone\n",
            "Verifying transaction: | \b\b/ \b\b- \b\b\\ \b\bdone\n",
            "Executing transaction: / \b\b- \b\b\\ \b\bdone\n"
          ]
        }
      ],
      "source": [
        "# Install Miniconda\n",
        "!wget https://repo.continuum.io/miniconda/Miniconda3-4.5.4-Linux-x86_64.sh\n",
        "!chmod +x Miniconda3-4.5.4-Linux-x86_64.sh\n",
        "!./Miniconda3-4.5.4-Linux-x86_64.sh -b -f -p /usr/local\n",
        "\n",
        "# Update Conda\n",
        "!conda install --channel defaults conda python=$python_version --yes\n",
        "!conda update --channel defaults --all --yes\n",
        "\n",
        "# Append to the sys.path\n",
        "_ = (sys.path\n",
        "        .append(f\"/usr/local/lib/python3.7/site-packages\"))\n",
        "\n",
        "os.environ['PYTHONHOME']=\"/usr/local\"\n",
        "\n"
      ]
    },
    {
      "cell_type": "code",
      "execution_count": null,
      "metadata": {
        "colab": {
          "base_uri": "https://localhost:8080/"
        },
        "id": "DBWLmbYcxcKn",
        "outputId": "a5eb0304-0311-4c02-bfde-fee4063d6556"
      },
      "outputs": [
        {
          "output_type": "stream",
          "name": "stdout",
          "text": [
            "Requirement already satisfied: bigdl-orca in /usr/local/lib/python3.7/site-packages (0.14.0b20220210)\n",
            "Requirement already satisfied: bigdl-dllib==0.14.0b20220210 in /usr/local/lib/python3.7/site-packages (from bigdl-orca) (0.14.0b20220210)\n",
            "Requirement already satisfied: packaging in /usr/local/lib/python3.7/site-packages (from bigdl-orca) (21.3)\n",
            "Requirement already satisfied: filelock in /usr/local/lib/python3.7/site-packages (from bigdl-orca) (3.4.2)\n",
            "Requirement already satisfied: bigdl-math==0.14.0.dev1 in /usr/local/lib/python3.7/site-packages (from bigdl-orca) (0.14.0.dev1)\n",
            "Requirement already satisfied: pyzmq in /usr/local/lib/python3.7/site-packages (from bigdl-orca) (22.3.0)\n",
            "Requirement already satisfied: conda-pack==0.3.1 in /usr/local/lib/python3.7/site-packages (from bigdl-orca) (0.3.1)\n",
            "Requirement already satisfied: bigdl-tf==0.14.0.dev1 in /usr/local/lib/python3.7/site-packages (from bigdl-orca) (0.14.0.dev1)\n",
            "Requirement already satisfied: pyspark==2.4.6 in /usr/local/lib/python3.7/site-packages (from bigdl-dllib==0.14.0b20220210->bigdl-orca) (2.4.6)\n",
            "Requirement already satisfied: six>=1.10.0 in /usr/local/lib/python3.7/site-packages (from bigdl-dllib==0.14.0b20220210->bigdl-orca) (1.16.0)\n",
            "Requirement already satisfied: numpy>=1.19.5 in /usr/local/lib/python3.7/site-packages (from bigdl-dllib==0.14.0b20220210->bigdl-orca) (1.21.5)\n",
            "Requirement already satisfied: setuptools in /usr/local/lib/python3.7/site-packages (from conda-pack==0.3.1->bigdl-orca) (58.0.4)\n",
            "Requirement already satisfied: py4j==0.10.7 in /usr/local/lib/python3.7/site-packages (from pyspark==2.4.6->bigdl-dllib==0.14.0b20220210->bigdl-orca) (0.10.7)\n",
            "Requirement already satisfied: pyparsing!=3.0.5,>=2.0.2 in /usr/local/lib/python3.7/site-packages (from packaging->bigdl-orca) (3.0.7)\n",
            "\u001b[33mWARNING: Running pip as the 'root' user can result in broken permissions and conflicting behaviour with the system package manager. It is recommended to use a virtual environment instead: https://pip.pypa.io/warnings/venv\u001b[0m\n"
          ]
        }
      ],
      "source": [
        "\n",
        "# Install latest pre-release version of BigDL Orca \n",
        "# Installing BigDL Orca from pip will automatically install pyspark, bigdl, and their dependencies.\n",
        "!pip install --pre --upgrade bigdl-orca\n"
      ]
    },
    {
      "cell_type": "code",
      "execution_count": null,
      "metadata": {
        "colab": {
          "base_uri": "https://localhost:8080/"
        },
        "id": "-VehCSB3lAf3",
        "outputId": "5f6b2a87-1f6a-4224-8304-bfae50edcef9"
      },
      "outputs": [
        {
          "output_type": "stream",
          "name": "stdout",
          "text": [
            "Requirement already satisfied: torch==1.7.1 in /usr/local/lib/python3.7/site-packages (1.7.1)\n",
            "Requirement already satisfied: torchvision==0.8.2 in /usr/local/lib/python3.7/site-packages (0.8.2)\n",
            "Requirement already satisfied: typing-extensions in /usr/local/lib/python3.7/site-packages (from torch==1.7.1) (4.0.1)\n",
            "Requirement already satisfied: numpy in /usr/local/lib/python3.7/site-packages (from torch==1.7.1) (1.21.5)\n",
            "Requirement already satisfied: pillow>=4.1.1 in /usr/local/lib/python3.7/site-packages (from torchvision==0.8.2) (9.0.1)\n",
            "\u001b[33mWARNING: Running pip as the 'root' user can result in broken permissions and conflicting behaviour with the system package manager. It is recommended to use a virtual environment instead: https://pip.pypa.io/warnings/venv\u001b[0m\n",
            "Requirement already satisfied: six in /usr/local/lib/python3.7/site-packages (1.16.0)\n",
            "Requirement already satisfied: cloudpickle in /usr/local/lib/python3.7/site-packages (2.0.0)\n",
            "\u001b[33mWARNING: Running pip as the 'root' user can result in broken permissions and conflicting behaviour with the system package manager. It is recommended to use a virtual environment instead: https://pip.pypa.io/warnings/venv\u001b[0m\n",
            "Requirement already satisfied: jep==3.9.0 in /usr/local/lib/python3.7/site-packages (3.9.0)\n",
            "\u001b[33mWARNING: Running pip as the 'root' user can result in broken permissions and conflicting behaviour with the system package manager. It is recommended to use a virtual environment instead: https://pip.pypa.io/warnings/venv\u001b[0m\n"
          ]
        }
      ],
      "source": [
        "# Install python dependencies\n",
        "!pip install torch==1.7.1 torchvision==0.8.2\n",
        "!pip install six cloudpickle\n",
        "!pip install jep==3.9.0"
      ]
    },
    {
      "cell_type": "code",
      "execution_count": null,
      "metadata": {
        "colab": {
          "base_uri": "https://localhost:8080/"
        },
        "id": "FCK36DcnR1Fo",
        "outputId": "e6eb1221-45d9-4532-f1f3-453c37affd58"
      },
      "outputs": [
        {
          "output_type": "stream",
          "name": "stdout",
          "text": [
            "Drive already mounted at /content/drive; to attempt to forcibly remount, call drive.mount(\"/content/drive\", force_remount=True).\n"
          ]
        }
      ],
      "source": [
        "from google.colab import drive\n",
        "drive.mount('/content/drive')"
      ]
    },
    {
      "cell_type": "markdown",
      "metadata": {
        "id": "-WItKrNzShng"
      },
      "source": [
        "The aim of our code is classify chest ray images to provide a diagnosis of bacterial pneumonia o viral pneumonia. \n",
        "The interpretation of the X-ray images it is a bottleneck in the hospitals, and different classificators for these type of images are needed.\n",
        " "
      ]
    },
    {
      "cell_type": "markdown",
      "metadata": {
        "id": "CL-8-3ZtUd7u"
      },
      "source": [
        "It is possible follow different approaches to reach our objective so we decide to look at the current state of the art for classification of x_ray images https://doi.org/10.1016/j.asoc.2020.106859. See more detail information in the README. "
      ]
    },
    {
      "cell_type": "markdown",
      "metadata": {
        "id": "A7VPP_EokzBR"
      },
      "source": [
        "**We would like to consider the tranfer learning to try out the model (InstaCovNet-19) but the code it is not available. \n",
        "But since the paper introduce the idea of improve the X-chest ray image classification by integration stacking of neural networks already known as good models, we will explore it by designing our own model in Spark with integrated stacking.**"
      ]
    },
    {
      "cell_type": "code",
      "execution_count": null,
      "metadata": {
        "id": "lbG-vuTopVj1"
      },
      "outputs": [],
      "source": [
        "#!unzip /content/drive/MyDrive/Colab_Notebooks/archive.zip -d /content/drive/MyDrive/Colab_Notebooks/"
      ]
    },
    {
      "cell_type": "markdown",
      "metadata": {
        "id": "77dEWvEbW9CK"
      },
      "source": [
        "The dataset can be found her: https://data.mendeley.com/datasets/rscbjbr9sj/2?__hstc=25856994.9a09a91357a104706292fa960434cfb0.1643116296328.1643116296328.1643116296328.1&__hssc=25856994.1.1643116296328&__hsfp=4215451866\n",
        "\n",
        "It is used in this paper: https://www.cell.com/cell/fulltext/S0092-8674(18)30154-5 to be classified by using ImageNet. \n",
        "\n",
        "The dataset is organized ito 3 folders: Train, test and validation.\n",
        "It contains subfolders of each image category: Pneumonia and normal. \n",
        "\n",
        "Chest X-ray images (anterior-posterior) were selected from retrospective cohorts of pediatric patients of one to five years old from Guangzhou Women and Children’s Medical Center, Guangzhou. All chest X-ray imaging was performed as part of patients’ routine clinical care.\n",
        "\n",
        "For the analysis of chest x-ray images, all chest radiographs were initially screened for quality control by removing all low quality or unreadable scans. The diagnoses for the images were then graded by two expert physicians before being cleared for training the AI system. In order to account for any grading errors, the evaluation set was also checked by a third expert."
      ]
    },
    {
      "cell_type": "markdown",
      "metadata": {
        "id": "UzTHhgKEXyFb"
      },
      "source": [
        "![dataset_big.png](data:image/png;base64,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)"
      ]
    },
    {
      "cell_type": "code",
      "execution_count": null,
      "metadata": {
        "id": "VUTfSLztf7Uw"
      },
      "outputs": [],
      "source": [
        "# Define the path to the different folders:\n",
        "\n",
        "test_path = '/content/drive/MyDrive/Colab_Notebooks/chest_xray/test'\n",
        "train_path = '/content/drive/MyDrive/Colab_Notebooks/chest_xray/train'\n",
        "validation_path = '/content/drive/MyDrive/Colab_Notebooks/chest_xray/val'"
      ]
    },
    {
      "cell_type": "code",
      "execution_count": null,
      "metadata": {
        "id": "no9Dc-8ERFvr"
      },
      "outputs": [],
      "source": [
        "import torch\n",
        "import torch.nn as nn\n",
        "import torch.optim as optim\n",
        "import torch.nn.functional as F\n",
        "import torchvision\n",
        "import torchvision.models as models\n",
        "import torchvision.transforms as T\n"
      ]
    },
    {
      "cell_type": "markdown",
      "metadata": {
        "id": "A07A1wEvvKOH"
      },
      "source": [
        "We want to realize the following preprocessing: \n",
        "\n",
        "* CenterCrop - resizes the image to 224 x 224 \n",
        "* RandomFlip - Randomly flips 50% of the image horizontally \n",
        "* ColorJitter- Randomly adjust the brigthness of 50% of the images\n",
        "* Normalize - Normalize the images \n"
      ]
    },
    {
      "cell_type": "code",
      "execution_count": null,
      "metadata": {
        "id": "kWnjM9btbMYE"
      },
      "outputs": [],
      "source": [
        "def custom_transform(sample):\n",
        "  transformer = torchvision.transforms.Compose([T.CenterCrop(size=(299, 299)), T.ToTensor(), T.RandomHorizontalFlip(p=0.5), \n",
        "                                  T.ColorJitter(brightness=0.5, hue=0), \n",
        "                                  T.Normalize([0.485, 0.456, 0.406], [0.229, 0.224, 0.225]),])\n",
        "  return transformer(sample[\"image\"]), sample[\"label\"]"
      ]
    },
    {
      "cell_type": "code",
      "execution_count": null,
      "metadata": {
        "id": "_Au8knKLWA6d"
      },
      "outputs": [],
      "source": [
        "from torch.utils.data import Dataset, DataLoader\n",
        "import numpy as np\n",
        "from os import listdir\n",
        "from os.path import isfile, join\n",
        "from PIL import Image\n",
        "#from skimage import io\n",
        "\n",
        "class CustomDataset(Dataset):\n",
        "    \"\"\"Face Landmarks dataset.\"\"\"\n",
        "\n",
        "    def __init__(self, root_dir, transform=None):\n",
        "        \"\"\"\n",
        "        Args:\n",
        "            root_dir (string): Directory with all the images.\n",
        "            transform (callable, optional): Optional transform to be applied\n",
        "                on a sample.\n",
        "        \"\"\"\n",
        "        self.root_dir = root_dir\n",
        "        self.transform = transform\n",
        "        normal_names = [\"NORMAL/\" + f for f in listdir(join(root_dir, \"NORMAL\")) if isfile(join(root_dir, \"NORMAL\", f))]\n",
        "        labels_normal = [0]*len(normal_names)\n",
        "        pneumonia_names = [\"PNEUMONIA/\" + f for f in listdir(join(root_dir, \"PNEUMONIA\")) if isfile(join(root_dir, \"PNEUMONIA\", f))]\n",
        "        labels_pneumonia = [1]*len(pneumonia_names)\n",
        "        self.labels = labels_normal\n",
        "        self.labels.extend(labels_pneumonia)\n",
        "        self.labels = np.asarray(self.labels, dtype=np.float32)\n",
        "        # labelling done\n",
        "\n",
        "        self.filenames = normal_names\n",
        "        self.filenames.extend(pneumonia_names)\n",
        "\n",
        "        \n",
        "\n",
        "    def __len__(self):\n",
        "        return len(self.filenames)\n",
        "\n",
        "    def __getitem__(self, idx):\n",
        "        if torch.is_tensor(idx):\n",
        "            idx = idx.tolist()\n",
        "\n",
        "        img_name = os.path.join(self.root_dir,\n",
        "                                self.filenames[idx])\n",
        "        image = Image.open(img_name).convert(\"RGB\")\n",
        "        #print(image.shape)\n",
        "        label = torch.Tensor([self.labels[idx]])\n",
        "        sample = {\"image\": image, \"label\": label}\n",
        "\n",
        "        if self.transform:\n",
        "            sample = self.transform(sample)\n",
        "\n",
        "        return sample"
      ]
    },
    {
      "cell_type": "code",
      "execution_count": null,
      "metadata": {
        "id": "TK6DTEDJZp5o"
      },
      "outputs": [],
      "source": [
        "train_data = CustomDataset(train_path, transform=custom_transform)\n",
        "val_data = CustomDataset(validation_path, transform=custom_transform)\n",
        "test_data = CustomDataset(test_path, transform=custom_transform)\n",
        "\n"
      ]
    },
    {
      "cell_type": "code",
      "execution_count": null,
      "metadata": {
        "id": "cAnyZp2hZQtb"
      },
      "outputs": [],
      "source": [
        "import torchvision\n",
        "batch_size = 32\n",
        "train_loader = torch.utils.data.DataLoader(train_data, batch_size=batch_size, shuffle=True, num_workers=2)\n",
        "val_loader = torch.utils.data.DataLoader(val_data, batch_size=batch_size, shuffle=True, num_workers=2)\n",
        "test_loader = torch.utils.data.DataLoader(test_data, batch_size=batch_size, shuffle=False, num_workers=2)"
      ]
    },
    {
      "cell_type": "code",
      "execution_count": null,
      "metadata": {
        "colab": {
          "base_uri": "https://localhost:8080/"
        },
        "id": "L-JTIqhoj3cQ",
        "outputId": "b2c62c3d-470f-45a3-bfa5-c0b9e35df120"
      },
      "outputs": [
        {
          "output_type": "stream",
          "name": "stdout",
          "text": [
            "Number of images for training:  5216\n",
            "Number of images for testing:  624\n",
            "Number of images for validation:  16\n"
          ]
        }
      ],
      "source": [
        "print('Number of images for training: ', len(train_data))\n",
        "print('Number of images for testing: ', len(test_data))\n",
        "print('Number of images for validation: ', len(val_data))"
      ]
    },
    {
      "cell_type": "markdown",
      "metadata": {
        "id": "jhKTv9rSVAM1"
      },
      "source": [
        "## 5. NEURAL NETWORK ESTRUCTURE"
      ]
    },
    {
      "cell_type": "markdown",
      "metadata": {
        "id": "YO_A7Wg-yxc9"
      },
      "source": [
        "### INTEGRATED STACKING NETWORK"
      ]
    },
    {
      "cell_type": "code",
      "execution_count": null,
      "metadata": {
        "id": "-L-V90UVxjby"
      },
      "outputs": [],
      "source": [
        "# import necesary libraries and modules\n",
        "from __future__ import print_function\n",
        "import os\n",
        "import argparse\n",
        "\n",
        "from bigdl.orca import init_orca_context, stop_orca_context\n",
        "from bigdl.orca import OrcaContext"
      ]
    },
    {
      "cell_type": "code",
      "execution_count": null,
      "metadata": {
        "colab": {
          "base_uri": "https://localhost:8080/"
        },
        "id": "FT2xsXpdQ9LU",
        "outputId": "517b6f9b-0816-4c49-b3b3-fafcc37d842d"
      },
      "outputs": [
        {
          "output_type": "stream",
          "name": "stdout",
          "text": [
            "Initializing orca context\n",
            "Current pyspark location is : /usr/local/lib/python3.7/site-packages/pyspark/__init__.py\n",
            "Start to getOrCreate SparkContext\n",
            "pyspark_submit_args is:  --driver-class-path /usr/local/lib/python3.7/site-packages/bigdl/share/dllib/lib/bigdl-dllib-spark_2.4.6-0.14.0-SNAPSHOT-jar-with-dependencies.jar:/usr/local/lib/python3.7/site-packages/bigdl/share/orca/lib/bigdl-orca-spark_2.4.6-0.14.0-SNAPSHOT-jar-with-dependencies.jar pyspark-shell \n",
            "2022-02-10 21:42:16 WARN  NativeCodeLoader:62 - Unable to load native-hadoop library for your platform... using builtin-java classes where applicable\n"
          ]
        },
        {
          "output_type": "stream",
          "name": "stderr",
          "text": [
            "Setting default log level to \"WARN\".\n",
            "To adjust logging level use sc.setLogLevel(newLevel). For SparkR, use setLogLevel(newLevel).\n"
          ]
        },
        {
          "output_type": "stream",
          "name": "stdout",
          "text": [
            "2022-02-10 21:42:20,290 Thread-4 WARN The bufferSize is set to 4000 but bufferedIo is false: false\n",
            "2022-02-10 21:42:20,294 Thread-4 WARN The bufferSize is set to 4000 but bufferedIo is false: false\n",
            "2022-02-10 21:42:20,295 Thread-4 WARN The bufferSize is set to 4000 but bufferedIo is false: false\n",
            "2022-02-10 21:42:20,296 Thread-4 WARN The bufferSize is set to 4000 but bufferedIo is false: false\n",
            "22-02-10 21:42:20 [Thread-4] INFO  Engine$:121 - Auto detect executor number and executor cores number\n",
            "22-02-10 21:42:20 [Thread-4] INFO  Engine$:123 - Executor number is 1 and executor cores number is 1\n",
            "22-02-10 21:42:21 [Thread-4] INFO  ThreadPool$:95 - Set mkl threads to 1 on thread 15\n",
            "2022-02-10 21:42:21 WARN  SparkContext:66 - Using an existing SparkContext; some configuration may not take effect.\n",
            "22-02-10 21:42:21 [Thread-4] INFO  Engine$:446 - Find existing spark context. Checking the spark conf...\n",
            "cls.getname: com.intel.analytics.bigdl.dllib.utils.python.api.Sample\n",
            "BigDLBasePickler registering: bigdl.dllib.utils.common  Sample\n",
            "cls.getname: com.intel.analytics.bigdl.dllib.utils.python.api.EvaluatedResult\n",
            "BigDLBasePickler registering: bigdl.dllib.utils.common  EvaluatedResult\n",
            "cls.getname: com.intel.analytics.bigdl.dllib.utils.python.api.JTensor\n",
            "BigDLBasePickler registering: bigdl.dllib.utils.common  JTensor\n",
            "cls.getname: com.intel.analytics.bigdl.dllib.utils.python.api.JActivity\n",
            "BigDLBasePickler registering: bigdl.dllib.utils.common  JActivity\n",
            "Successfully got a SparkContext\n"
          ]
        },
        {
          "output_type": "stream",
          "name": "stderr",
          "text": [
            "\n",
            "User settings:\n",
            "\n",
            "   KMP_AFFINITY=granularity=fine,compact,1,0\n",
            "   KMP_BLOCKTIME=0\n",
            "   KMP_SETTINGS=1\n",
            "   OMP_NUM_THREADS=1\n",
            "\n",
            "Effective settings:\n",
            "\n",
            "   KMP_ABORT_DELAY=0\n",
            "   KMP_ADAPTIVE_LOCK_PROPS='1,1024'\n",
            "   KMP_ALIGN_ALLOC=64\n",
            "   KMP_ALL_THREADPRIVATE=128\n",
            "   KMP_ATOMIC_MODE=2\n",
            "   KMP_BLOCKTIME=0\n",
            "   KMP_CPUINFO_FILE: value is not defined\n",
            "   KMP_DETERMINISTIC_REDUCTION=false\n",
            "   KMP_DEVICE_THREAD_LIMIT=2147483647\n",
            "   KMP_DISP_HAND_THREAD=false\n",
            "   KMP_DISP_NUM_BUFFERS=7\n",
            "   KMP_DUPLICATE_LIB_OK=false\n",
            "   KMP_FORCE_REDUCTION: value is not defined\n",
            "   KMP_FOREIGN_THREADS_THREADPRIVATE=true\n",
            "   KMP_FORKJOIN_BARRIER='2,2'\n",
            "   KMP_FORKJOIN_BARRIER_PATTERN='hyper,hyper'\n",
            "   KMP_FORKJOIN_FRAMES=true\n",
            "   KMP_FORKJOIN_FRAMES_MODE=3\n",
            "   KMP_GTID_MODE=3\n",
            "   KMP_HANDLE_SIGNALS=false\n",
            "   KMP_HOT_TEAMS_MAX_LEVEL=1\n",
            "   KMP_HOT_TEAMS_MODE=0\n",
            "   KMP_INIT_AT_FORK=true\n",
            "   KMP_ITT_PREPARE_DELAY=0\n",
            "   KMP_LIBRARY=throughput\n",
            "   KMP_LOCK_KIND=queuing\n",
            "   KMP_MALLOC_POOL_INCR=1M\n",
            "   KMP_MWAIT_HINTS=0\n",
            "   KMP_NUM_LOCKS_IN_BLOCK=1\n",
            "   KMP_PLAIN_BARRIER='2,2'\n",
            "   KMP_PLAIN_BARRIER_PATTERN='hyper,hyper'\n",
            "   KMP_REDUCTION_BARRIER='1,1'\n",
            "   KMP_REDUCTION_BARRIER_PATTERN='hyper,hyper'\n",
            "   KMP_SCHEDULE='static,balanced;guided,iterative'\n",
            "   KMP_SETTINGS=true\n",
            "   KMP_SPIN_BACKOFF_PARAMS='4096,100'\n",
            "   KMP_STACKOFFSET=64\n",
            "   KMP_STACKPAD=0\n",
            "   KMP_STACKSIZE=8M\n",
            "   KMP_STORAGE_MAP=false\n",
            "   KMP_TASKING=2\n",
            "   KMP_TASKLOOP_MIN_TASKS=0\n",
            "   KMP_TASK_STEALING_CONSTRAINT=1\n",
            "   KMP_TEAMS_THREAD_LIMIT=4\n",
            "   KMP_TOPOLOGY_METHOD=all\n",
            "   KMP_USER_LEVEL_MWAIT=false\n",
            "   KMP_USE_YIELD=1\n",
            "   KMP_VERSION=false\n",
            "   KMP_WARNINGS=true\n",
            "   OMP_AFFINITY_FORMAT='OMP: pid %P tid %i thread %n bound to OS proc set {%A}'\n",
            "   OMP_ALLOCATOR=omp_default_mem_alloc\n",
            "   OMP_CANCELLATION=false\n",
            "   OMP_DEBUG=disabled\n",
            "   OMP_DEFAULT_DEVICE=0\n",
            "   OMP_DISPLAY_AFFINITY=false\n",
            "   OMP_DISPLAY_ENV=false\n",
            "   OMP_DYNAMIC=false\n",
            "   OMP_MAX_ACTIVE_LEVELS=2147483647\n",
            "   OMP_MAX_TASK_PRIORITY=0\n",
            "   OMP_NESTED=false\n",
            "   OMP_NUM_THREADS='1'\n",
            "   OMP_PLACES: value is not defined\n",
            "   OMP_PROC_BIND='intel'\n",
            "   OMP_SCHEDULE='static'\n",
            "   OMP_STACKSIZE=8M\n",
            "   OMP_TARGET_OFFLOAD=DEFAULT\n",
            "   OMP_THREAD_LIMIT=2147483647\n",
            "   OMP_TOOL=enabled\n",
            "   OMP_TOOL_LIBRARIES: value is not defined\n",
            "   OMP_WAIT_POLICY=PASSIVE\n",
            "   KMP_AFFINITY='noverbose,warnings,respect,granularity=fine,compact,1,0'\n",
            "\n"
          ]
        }
      ],
      "source": [
        "# recommended to set it to True when running BigDL in Jupyter notebook. \n",
        "OrcaContext.log_output = True # (this will display terminal's stdout and stderr in the Jupyter notebook).\n",
        "\n",
        "cluster_mode = \"local\"\n",
        "\n",
        "if cluster_mode == \"local\":\n",
        "    init_orca_context(cores=1, memory=\"8g\") # run in local mode\n",
        "elif cluster_mode == \"k8s\":\n",
        "    init_orca_context(cluster_mode=\"k8s\", num_nodes=2, cores=4) # run on K8s cluster\n",
        "elif cluster_mode == \"yarn\":\n",
        "    init_orca_context(\n",
        "        cluster_mode=\"yarn-client\", cores=4, num_nodes=2, memory=\"2g\",\n",
        "        driver_memory=\"10g\", driver_cores=1,\n",
        "        conf={\"spark.rpc.message.maxSize\": \"1024\",\n",
        "              \"spark.task.maxFailures\": \"1\",\n",
        "              \"spark.driver.extraJavaOptions\": \"-Dbigdl.failure.retryTimes=1\"}) # run on Hadoop YARN cluster"
      ]
    },
    {
      "cell_type": "markdown",
      "source": [
        "At the end the stacking of the 5 neural networks because a problem of the memory ram (12 gb in google collab free) and the resources of the paper are bigger than the one we have. \n",
        "It is just not possible define the same neural network they did because the session crush due to the limit of the ram, but we define the code and check that the network works anyways: \n",
        "\n",
        "```\n",
        "# Define the network\n",
        "class IntegratedNet(nn.Module):\n",
        "  def __init__(self):\n",
        "    super(IntegratedNet, self).__init__()\n",
        "\n",
        "    self.resnet18 = models.resnet18(pretrained=True)\n",
        "    self.resnet18.fc = nn.Linear(512, 32)\n",
        "\n",
        "    self.densenet = models.densenet161(pretrained=True)\n",
        "    self.densenet.classifier = nn.Linear(2208, 32)\n",
        "\n",
        "    self.inception = models.inception_v3(pretrained=True)\n",
        "    self.inception.fc = nn.Linear(2048, 32)\n",
        "    \n",
        "    self.mnasnet = models.mnasnet1_0(pretrained=True)\n",
        "    self.mnasnet.classifier = nn.Sequential(nn.Dropout(0.2, inplace=True),\n",
        "                                            nn.Linear(1280, 32))\n",
        "\n",
        "    self.mobilenet_v2 = models.mobilenet_v2(pretrained=True)\n",
        "    self.mobilenet_v2.classifier = nn.Sequential(nn.Dropout(0.2), nn.Linear(1280, 32))\n",
        "    \n",
        "\n",
        "    self.fc_out = nn.Linear(2*32, 1)  # for binary classification, use single output\n",
        "\n",
        "  def forward(self, x):\n",
        "    x_res = self.resnet18(x)\n",
        "    x_dense = self.densenet(x.detach())\n",
        "    x_inception = self.inception(x)[0]\n",
        "    x_mnas = self.mnasnet(x)\n",
        "    x_mobilenet = self.mobilenet_v2(x)\n",
        "    \n",
        "    #Concatenate the outputs\n",
        "    x = torch.cat((x_res, x_dense, x_inception, x_mnas, x_mobilenet), axis=-1)\n",
        "    x = self.fc_out(x)\n",
        "    return x\n",
        "\n",
        "\n",
        "\n",
        "```\n",
        "But with the actual resources we cannot use it, we define therefore another \n",
        "neural network stacking two models instead. Which is what google collab can handle. "
      ],
      "metadata": {
        "id": "p6a_jT5XbK2s"
      }
    },
    {
      "cell_type": "code",
      "execution_count": null,
      "metadata": {
        "colab": {
          "base_uri": "https://localhost:8080/"
        },
        "id": "4Q7RETg5MtpR",
        "outputId": "a9864887-7605-445e-892b-aba6d316dbc4"
      },
      "outputs": [
        {
          "output_type": "stream",
          "name": "stdout",
          "text": [
            "torch.Size([8, 32])\n",
            "torch.Size([8, 96])\n"
          ]
        }
      ],
      "source": [
        "# check that stacking works as expected\n",
        "a = torch.rand(size=(8, 32))\n",
        "b = torch.rand(size=(8, 32))\n",
        "c = torch.rand(size=(8, 32))\n",
        "print(a.shape)\n",
        "d = torch.cat((a, b, c), axis=-1)\n",
        "print(d.shape)"
      ]
    },
    {
      "cell_type": "markdown",
      "source": [
        "The stacking works well and as we can see it is possible concatenate the models if we have the same shape. That means that it is needed to look at the network at every last layer to be able to stack all of them well. \n",
        "And we can be still improve our network using best practices for transfer learning. (https://arxiv.org/pdf/1911.02685.pdf)"
      ],
      "metadata": {
        "id": "WA4Z28C7bSBf"
      }
    },
    {
      "cell_type": "code",
      "execution_count": null,
      "metadata": {
        "id": "fnFQIiyO2DZb"
      },
      "outputs": [],
      "source": [
        "# Define the network\n",
        "class IntegratedNet(nn.Module):\n",
        "  def __init__(self):\n",
        "    super(IntegratedNet, self).__init__()\n",
        "\n",
        "    self.resnet18 = models.resnet18(pretrained=True)\n",
        "    for param in self.resnet18.parameters():\n",
        "      param.requires_grad = False\n",
        "    self.resnet18.avgpool = nn.Sequential(nn.ReLU(),\n",
        "                          nn.MaxPool2d(2, 2),\n",
        "                          nn.Conv2d(in_channels=512, out_channels=64, kernel_size=3, stride=1, padding=1),\n",
        "                          nn.BatchNorm2d(num_features=64),\n",
        "                          nn.ReLU(),\n",
        "                          nn.Conv2d(in_channels=64, out_channels=32, kernel_size=3, stride=1, padding=1),\n",
        "                          nn.BatchNorm2d(num_features=32),\n",
        "                          nn.ReLU(),\n",
        "                          nn.AdaptiveAvgPool2d(output_size=1))\n",
        "    self.resnet18.fc = nn.Identity()\n",
        "    # This code will help us to mantain the weights and extract the features according to the papers research to improve the \n",
        "    # performance of the transfering leaning (https://arxiv.org/pdf/1911.02685.pdf)\n",
        "    self.mnasnet = models.mnasnet1_0(pretrained=True)\n",
        "    for param in self.mnasnet.parameters():\n",
        "      param.requires_grad = False\n",
        "    self.mnasnet.classifier = nn.Sequential(nn.Dropout(p=0.2, inplace=True),\n",
        "                                      nn.ReLU(),\n",
        "                                      nn.Linear(in_features=1280, out_features=256),\n",
        "                                      nn.Dropout(p=0.2, inplace=True),\n",
        "                                      nn.ReLU(),\n",
        "                                      nn.Linear(256, 32))\n",
        "    \n",
        "\n",
        "    self.fc_out = nn.Sequential(nn.Linear(2*32, 1), nn.Sigmoid()) # for binary classification, use single output\n",
        "    # will return values between 0 and 1 \n",
        "\n",
        "  def forward(self, x):\n",
        "    x_res = self.resnet18(x)\n",
        "    x_mnas = self.mnasnet(x)\n",
        "    x = torch.cat((x_res, x_mnas), axis=-1)\n",
        "    x = self.fc_out(x)\n",
        "    return x"
      ]
    },
    {
      "cell_type": "code",
      "execution_count": null,
      "metadata": {
        "id": "byGhyoAmYgo9"
      },
      "outputs": [],
      "source": [
        "net = IntegratedNet()\n",
        "optimizer = optim.Adam(net.parameters(), lr=0.0001)\n"
      ]
    },
    {
      "cell_type": "code",
      "execution_count": null,
      "metadata": {
        "id": "ovlS3kspYs0t"
      },
      "outputs": [],
      "source": [
        "# training loss vs. epochs\n",
        "criterion = nn.BCELoss() # binary cross entropy \n",
        "batch_size = 32\n",
        "epochs = 2"
      ]
    },
    {
      "cell_type": "code",
      "execution_count": null,
      "metadata": {
        "colab": {
          "base_uri": "https://localhost:8080/"
        },
        "id": "Eafs_Z6Skbuw",
        "outputId": "159f4c70-a8f4-41ba-dfef-2b0b18db03fe"
      },
      "outputs": [
        {
          "output_type": "stream",
          "name": "stdout",
          "text": [
            "creating: createTorchLoss\n",
            "creating: createTorchOptim\n",
            "creating: createZooKerasBinaryAccuracy\n",
            "creating: createEstimator\n"
          ]
        }
      ],
      "source": [
        "from bigdl.orca.learn.pytorch import Estimator \n",
        "from bigdl.orca.learn.metrics import BinaryAccuracy  # because we will have an output between 0 and 1. \n",
        "\n",
        "est = Estimator.from_torch(model=net, optimizer=optimizer, loss=criterion, metrics=[BinaryAccuracy()])"
      ]
    },
    {
      "cell_type": "code",
      "execution_count": null,
      "metadata": {
        "colab": {
          "base_uri": "https://localhost:8080/"
        },
        "id": "Xs-fGGn7qQq1",
        "outputId": "fd498c67-1c14-4e04-e5cf-672c1b34ae62"
      },
      "outputs": [
        {
          "output_type": "stream",
          "name": "stdout",
          "text": [
            "creating: createEveryEpoch\n",
            "creating: createMaxEpoch\n"
          ]
        },
        {
          "output_type": "stream",
          "name": "stderr",
          "text": [
            ""
          ]
        },
        {
          "output_type": "stream",
          "name": "stdout",
          "text": [
            "22-02-10 21:42:56 [Thread-4] INFO  InternalDistriOptimizer$:944 - TorchModel[f33d891a] isTorch is true\n",
            "22-02-10 21:42:56 [Thread-4] INFO  InternalDistriOptimizer$:950 - torch model will use 1 OMP threads.\n",
            "22-02-10 21:42:56 [Thread-4] INFO  DistriOptimizer$:826 - caching training rdd ...\n"
          ]
        },
        {
          "output_type": "stream",
          "name": "stderr",
          "text": [
            ""
          ]
        },
        {
          "output_type": "stream",
          "name": "stdout",
          "text": [
            "22-02-10 21:43:26 [Thread-4] INFO  DistriOptimizer$:652 - Cache thread models...\n",
            "22-02-10 21:43:26 [Executor task launch worker for task 5] INFO  ThreadPool$:95 - Set mkl threads to 1 on thread 51\n",
            "22-02-10 21:43:26 [Executor task launch worker for task 5] INFO  ThreadPool$:95 - Set mkl threads to 1 on thread 51\n",
            "22-02-10 21:43:26 [Executor task launch worker for task 5] INFO  DistriOptimizer$:635 - model thread pool size is 1\n",
            "2022-02-10 21:43:26 WARN  BlockManager:66 - Asked to remove block test_0weights0, which does not exist\n",
            "2022-02-10 21:43:26 WARN  BlockManager:66 - Asked to remove block test_0gradients0, which does not exist\n",
            "22-02-10 21:43:26 [Thread-4] INFO  DistriOptimizer$:654 - Cache thread models... done\n",
            "22-02-10 21:43:26 [Thread-4] INFO  DistriOptimizer$:164 - Count dataset\n"
          ]
        },
        {
          "output_type": "stream",
          "name": "stderr",
          "text": [
            ""
          ]
        },
        {
          "output_type": "stream",
          "name": "stdout",
          "text": [
            "22-02-10 21:44:35 [Thread-4] INFO  DistriOptimizer$:168 - Count dataset complete. Time elapsed: 68.657940791s\n"
          ]
        },
        {
          "output_type": "stream",
          "name": "stderr",
          "text": [
            ""
          ]
        },
        {
          "output_type": "stream",
          "name": "stdout",
          "text": [
            "22-02-10 21:45:43 [Thread-4] WARN  DistriOptimizer$:170 - If the dataset is built directly from RDD[Minibatch], the data in each minibatch is fixed, and a single minibatch is randomly selected in each partition. If the dataset is transformed from RDD[Sample], each minibatch will be constructed on the fly from random samples, which is better for convergence.\n",
            "22-02-10 21:45:43 [Thread-4] INFO  DistriOptimizer$:176 - config  {\n",
            "\tcomputeThresholdbatchSize: 100\n",
            "\tmaxDropPercentage: 0.0\n",
            "\twarmupIterationNum: 200\n",
            "\tisLayerwiseScaled: false\n",
            "\tdropPercentage: 0.0\n",
            " }\n",
            "22-02-10 21:45:43 [Thread-4] INFO  DistriOptimizer$:180 - Shuffle data\n",
            "22-02-10 21:45:43 [Thread-4] INFO  DistriOptimizer$:183 - Shuffle data complete. Takes 1.2321E-4s\n"
          ]
        },
        {
          "output_type": "stream",
          "name": "stderr",
          "text": [
            ""
          ]
        },
        {
          "output_type": "stream",
          "name": "stdout",
          "text": [
            "22-02-10 21:46:07 [Thread-4] INFO  DistriOptimizer$:430 - [Epoch 1 32/5216][Iteration 1][Wall Clock 18.958772659s] Trained 32.0 records in 18.958772659 seconds. Throughput is 1.687873 records/second. Loss is 0.7409593. \n"
          ]
        },
        {
          "output_type": "stream",
          "name": "stderr",
          "text": [
            ""
          ]
        },
        {
          "output_type": "stream",
          "name": "stdout",
          "text": [
            "22-02-10 21:46:14 [Thread-4] INFO  DistriOptimizer$:430 - [Epoch 1 64/5216][Iteration 2][Wall Clock 25.856106064s] Trained 32.0 records in 6.897333405 seconds. Throughput is 4.639474 records/second. Loss is 0.6954171. \n"
          ]
        },
        {
          "output_type": "stream",
          "name": "stderr",
          "text": [
            ""
          ]
        },
        {
          "output_type": "stream",
          "name": "stdout",
          "text": [
            "22-02-10 21:46:21 [Thread-4] INFO  DistriOptimizer$:430 - [Epoch 1 96/5216][Iteration 3][Wall Clock 32.647618171s] Trained 32.0 records in 6.791512107 seconds. Throughput is 4.711764 records/second. Loss is 0.67712724. \n"
          ]
        },
        {
          "output_type": "stream",
          "name": "stderr",
          "text": [
            ""
          ]
        },
        {
          "output_type": "stream",
          "name": "stdout",
          "text": [
            "22-02-10 21:46:28 [Thread-4] INFO  DistriOptimizer$:430 - [Epoch 1 128/5216][Iteration 4][Wall Clock 39.440653429s] Trained 32.0 records in 6.793035258 seconds. Throughput is 4.710707 records/second. Loss is 0.631244. \n"
          ]
        },
        {
          "output_type": "stream",
          "name": "stderr",
          "text": [
            ""
          ]
        },
        {
          "output_type": "stream",
          "name": "stdout",
          "text": [
            "22-02-10 21:46:35 [Thread-4] INFO  DistriOptimizer$:430 - [Epoch 1 160/5216][Iteration 5][Wall Clock 46.321818466s] Trained 32.0 records in 6.881165037 seconds. Throughput is 4.6503754 records/second. Loss is 0.5949562. \n"
          ]
        },
        {
          "output_type": "stream",
          "name": "stderr",
          "text": [
            ""
          ]
        },
        {
          "output_type": "stream",
          "name": "stdout",
          "text": [
            "22-02-10 21:46:42 [Thread-4] INFO  DistriOptimizer$:430 - [Epoch 1 192/5216][Iteration 6][Wall Clock 53.122212812s] Trained 32.0 records in 6.800394346 seconds. Throughput is 4.7056093 records/second. Loss is 0.5836719. \n"
          ]
        },
        {
          "output_type": "stream",
          "name": "stderr",
          "text": [
            ""
          ]
        },
        {
          "output_type": "stream",
          "name": "stdout",
          "text": [
            "22-02-10 21:46:48 [Thread-4] INFO  DistriOptimizer$:430 - [Epoch 1 224/5216][Iteration 7][Wall Clock 59.933256448s] Trained 32.0 records in 6.811043636 seconds. Throughput is 4.698252 records/second. Loss is 0.5472795. \n"
          ]
        },
        {
          "output_type": "stream",
          "name": "stderr",
          "text": [
            ""
          ]
        },
        {
          "output_type": "stream",
          "name": "stdout",
          "text": [
            "22-02-10 21:46:55 [Thread-4] INFO  DistriOptimizer$:430 - [Epoch 1 256/5216][Iteration 8][Wall Clock 66.715599266s] Trained 32.0 records in 6.782342818 seconds. Throughput is 4.7181334 records/second. Loss is 0.5152236. \n"
          ]
        },
        {
          "output_type": "stream",
          "name": "stderr",
          "text": [
            ""
          ]
        },
        {
          "output_type": "stream",
          "name": "stdout",
          "text": [
            "22-02-10 21:47:02 [Thread-4] INFO  DistriOptimizer$:430 - [Epoch 1 288/5216][Iteration 9][Wall Clock 73.506168474s] Trained 32.0 records in 6.790569208 seconds. Throughput is 4.712418 records/second. Loss is 0.5098698. \n"
          ]
        },
        {
          "output_type": "stream",
          "name": "stderr",
          "text": [
            ""
          ]
        },
        {
          "output_type": "stream",
          "name": "stdout",
          "text": [
            "22-02-10 21:47:09 [Thread-4] INFO  DistriOptimizer$:430 - [Epoch 1 320/5216][Iteration 10][Wall Clock 80.263415276s] Trained 32.0 records in 6.757246802 seconds. Throughput is 4.7356563 records/second. Loss is 0.47625983. \n"
          ]
        },
        {
          "output_type": "stream",
          "name": "stderr",
          "text": [
            ""
          ]
        },
        {
          "output_type": "stream",
          "name": "stdout",
          "text": [
            "22-02-10 21:47:15 [Thread-4] INFO  DistriOptimizer$:430 - [Epoch 1 352/5216][Iteration 11][Wall Clock 87.033361606s] Trained 32.0 records in 6.76994633 seconds. Throughput is 4.7267733 records/second. Loss is 0.49023643. \n"
          ]
        },
        {
          "output_type": "stream",
          "name": "stderr",
          "text": [
            ""
          ]
        },
        {
          "output_type": "stream",
          "name": "stdout",
          "text": [
            "22-02-10 21:47:22 [Thread-4] INFO  DistriOptimizer$:430 - [Epoch 1 384/5216][Iteration 12][Wall Clock 93.7706748s] Trained 32.0 records in 6.737313194 seconds. Throughput is 4.7496676 records/second. Loss is 0.44272727. \n"
          ]
        },
        {
          "output_type": "stream",
          "name": "stderr",
          "text": [
            ""
          ]
        },
        {
          "output_type": "stream",
          "name": "stdout",
          "text": [
            "22-02-10 21:47:29 [Thread-4] INFO  DistriOptimizer$:430 - [Epoch 1 416/5216][Iteration 13][Wall Clock 101.058661889s] Trained 32.0 records in 7.287987089 seconds. Throughput is 4.390787 records/second. Loss is 0.41462737. \n"
          ]
        },
        {
          "output_type": "stream",
          "name": "stderr",
          "text": [
            ""
          ]
        },
        {
          "output_type": "stream",
          "name": "stdout",
          "text": [
            "22-02-10 21:47:40 [Thread-4] INFO  DistriOptimizer$:430 - [Epoch 1 448/5216][Iteration 14][Wall Clock 111.393746668s] Trained 32.0 records in 10.335084779 seconds. Throughput is 3.0962493 records/second. Loss is 0.39545882. \n"
          ]
        },
        {
          "output_type": "stream",
          "name": "stderr",
          "text": [
            ""
          ]
        },
        {
          "output_type": "stream",
          "name": "stdout",
          "text": [
            "22-02-10 21:47:47 [Thread-4] INFO  DistriOptimizer$:430 - [Epoch 1 480/5216][Iteration 15][Wall Clock 118.859456396s] Trained 32.0 records in 7.465709728 seconds. Throughput is 4.2862635 records/second. Loss is 0.41585344. \n"
          ]
        },
        {
          "output_type": "stream",
          "name": "stderr",
          "text": [
            ""
          ]
        },
        {
          "output_type": "stream",
          "name": "stdout",
          "text": [
            "22-02-10 21:47:54 [Thread-4] INFO  DistriOptimizer$:430 - [Epoch 1 512/5216][Iteration 16][Wall Clock 125.658540022s] Trained 32.0 records in 6.799083626 seconds. Throughput is 4.7065167 records/second. Loss is 0.37532234. \n"
          ]
        },
        {
          "output_type": "stream",
          "name": "stderr",
          "text": [
            ""
          ]
        },
        {
          "output_type": "stream",
          "name": "stdout",
          "text": [
            "22-02-10 21:48:01 [Thread-4] INFO  DistriOptimizer$:430 - [Epoch 1 544/5216][Iteration 17][Wall Clock 132.404444545s] Trained 32.0 records in 6.745904523 seconds. Throughput is 4.743619 records/second. Loss is 0.349044. \n"
          ]
        },
        {
          "output_type": "stream",
          "name": "stderr",
          "text": [
            ""
          ]
        },
        {
          "output_type": "stream",
          "name": "stdout",
          "text": [
            "22-02-10 21:48:08 [Thread-4] INFO  DistriOptimizer$:430 - [Epoch 1 576/5216][Iteration 18][Wall Clock 139.22069048s] Trained 32.0 records in 6.816245935 seconds. Throughput is 4.6946664 records/second. Loss is 0.35089. \n"
          ]
        },
        {
          "output_type": "stream",
          "name": "stderr",
          "text": [
            ""
          ]
        },
        {
          "output_type": "stream",
          "name": "stdout",
          "text": [
            "22-02-10 21:48:14 [Thread-4] INFO  DistriOptimizer$:430 - [Epoch 1 608/5216][Iteration 19][Wall Clock 146.018535506s] Trained 32.0 records in 6.797845026 seconds. Throughput is 4.707374 records/second. Loss is 0.38825566. \n"
          ]
        },
        {
          "output_type": "stream",
          "name": "stderr",
          "text": [
            ""
          ]
        },
        {
          "output_type": "stream",
          "name": "stdout",
          "text": [
            "22-02-10 21:48:21 [Thread-4] INFO  DistriOptimizer$:430 - [Epoch 1 640/5216][Iteration 20][Wall Clock 152.783803897s] Trained 32.0 records in 6.765268391 seconds. Throughput is 4.7300415 records/second. Loss is 0.32899144. \n"
          ]
        },
        {
          "output_type": "stream",
          "name": "stderr",
          "text": [
            ""
          ]
        },
        {
          "output_type": "stream",
          "name": "stdout",
          "text": [
            "22-02-10 21:48:28 [Thread-4] INFO  DistriOptimizer$:430 - [Epoch 1 672/5216][Iteration 21][Wall Clock 159.622185819s] Trained 32.0 records in 6.838381922 seconds. Throughput is 4.6794696 records/second. Loss is 0.3136489. \n"
          ]
        },
        {
          "output_type": "stream",
          "name": "stderr",
          "text": [
            ""
          ]
        },
        {
          "output_type": "stream",
          "name": "stdout",
          "text": [
            "22-02-10 21:48:35 [Thread-4] INFO  DistriOptimizer$:430 - [Epoch 1 704/5216][Iteration 22][Wall Clock 166.446241182s] Trained 32.0 records in 6.824055363 seconds. Throughput is 4.689294 records/second. Loss is 0.31508517. \n"
          ]
        },
        {
          "output_type": "stream",
          "name": "stderr",
          "text": [
            ""
          ]
        },
        {
          "output_type": "stream",
          "name": "stdout",
          "text": [
            "22-02-10 21:48:42 [Thread-4] INFO  DistriOptimizer$:430 - [Epoch 1 736/5216][Iteration 23][Wall Clock 173.222055251s] Trained 32.0 records in 6.775814069 seconds. Throughput is 4.7226796 records/second. Loss is 0.33683923. \n"
          ]
        },
        {
          "output_type": "stream",
          "name": "stderr",
          "text": [
            ""
          ]
        },
        {
          "output_type": "stream",
          "name": "stdout",
          "text": [
            "22-02-10 21:48:48 [Thread-4] INFO  DistriOptimizer$:430 - [Epoch 1 768/5216][Iteration 24][Wall Clock 179.9197875s] Trained 32.0 records in 6.697732249 seconds. Throughput is 4.777736 records/second. Loss is 0.28181. \n"
          ]
        },
        {
          "output_type": "stream",
          "name": "stderr",
          "text": [
            ""
          ]
        },
        {
          "output_type": "stream",
          "name": "stdout",
          "text": [
            "22-02-10 21:48:55 [Thread-4] INFO  DistriOptimizer$:430 - [Epoch 1 800/5216][Iteration 25][Wall Clock 186.727560375s] Trained 32.0 records in 6.807772875 seconds. Throughput is 4.700509 records/second. Loss is 0.3039229. \n"
          ]
        },
        {
          "output_type": "stream",
          "name": "stderr",
          "text": [
            ""
          ]
        },
        {
          "output_type": "stream",
          "name": "stdout",
          "text": [
            "22-02-10 21:49:02 [Thread-4] INFO  DistriOptimizer$:430 - [Epoch 1 832/5216][Iteration 26][Wall Clock 193.522956942s] Trained 32.0 records in 6.795396567 seconds. Throughput is 4.70907 records/second. Loss is 0.33218768. \n"
          ]
        },
        {
          "output_type": "stream",
          "name": "stderr",
          "text": [
            ""
          ]
        },
        {
          "output_type": "stream",
          "name": "stdout",
          "text": [
            "22-02-10 21:49:09 [Thread-4] INFO  DistriOptimizer$:430 - [Epoch 1 864/5216][Iteration 27][Wall Clock 200.3053435s] Trained 32.0 records in 6.782386558 seconds. Throughput is 4.718103 records/second. Loss is 0.25397834. \n"
          ]
        },
        {
          "output_type": "stream",
          "name": "stderr",
          "text": [
            ""
          ]
        },
        {
          "output_type": "stream",
          "name": "stdout",
          "text": [
            "22-02-10 21:49:15 [Thread-4] INFO  DistriOptimizer$:430 - [Epoch 1 896/5216][Iteration 28][Wall Clock 207.017343117s] Trained 32.0 records in 6.711999617 seconds. Throughput is 4.767581 records/second. Loss is 0.24323863. \n"
          ]
        },
        {
          "output_type": "stream",
          "name": "stderr",
          "text": [
            ""
          ]
        },
        {
          "output_type": "stream",
          "name": "stdout",
          "text": [
            "22-02-10 21:49:22 [Thread-4] INFO  DistriOptimizer$:430 - [Epoch 1 928/5216][Iteration 29][Wall Clock 213.807601555s] Trained 32.0 records in 6.790258438 seconds. Throughput is 4.7126336 records/second. Loss is 0.20609272. \n"
          ]
        },
        {
          "output_type": "stream",
          "name": "stderr",
          "text": [
            ""
          ]
        },
        {
          "output_type": "stream",
          "name": "stdout",
          "text": [
            "22-02-10 21:49:29 [Thread-4] INFO  DistriOptimizer$:430 - [Epoch 1 960/5216][Iteration 30][Wall Clock 220.638302568s] Trained 32.0 records in 6.830701013 seconds. Throughput is 4.6847315 records/second. Loss is 0.30081338. \n"
          ]
        },
        {
          "output_type": "stream",
          "name": "stderr",
          "text": [
            ""
          ]
        },
        {
          "output_type": "stream",
          "name": "stdout",
          "text": [
            "22-02-10 21:49:36 [Thread-4] INFO  DistriOptimizer$:430 - [Epoch 1 992/5216][Iteration 31][Wall Clock 227.505102886s] Trained 32.0 records in 6.866800318 seconds. Throughput is 4.6601033 records/second. Loss is 0.36461398. \n"
          ]
        },
        {
          "output_type": "stream",
          "name": "stderr",
          "text": [
            ""
          ]
        },
        {
          "output_type": "stream",
          "name": "stdout",
          "text": [
            "22-02-10 21:49:43 [Thread-4] INFO  DistriOptimizer$:430 - [Epoch 1 1024/5216][Iteration 32][Wall Clock 234.315430881s] Trained 32.0 records in 6.810327995 seconds. Throughput is 4.6987457 records/second. Loss is 0.59439397. \n"
          ]
        },
        {
          "output_type": "stream",
          "name": "stderr",
          "text": [
            ""
          ]
        },
        {
          "output_type": "stream",
          "name": "stdout",
          "text": [
            "22-02-10 21:49:50 [Thread-4] INFO  DistriOptimizer$:430 - [Epoch 1 1056/5216][Iteration 33][Wall Clock 241.129526766s] Trained 32.0 records in 6.814095885 seconds. Throughput is 4.6961474 records/second. Loss is 0.35055575. \n"
          ]
        },
        {
          "output_type": "stream",
          "name": "stderr",
          "text": [
            ""
          ]
        },
        {
          "output_type": "stream",
          "name": "stdout",
          "text": [
            "22-02-10 21:49:56 [Thread-4] INFO  DistriOptimizer$:430 - [Epoch 1 1088/5216][Iteration 34][Wall Clock 247.834827934s] Trained 32.0 records in 6.705301168 seconds. Throughput is 4.772343 records/second. Loss is 0.25412917. \n"
          ]
        },
        {
          "output_type": "stream",
          "name": "stderr",
          "text": [
            ""
          ]
        },
        {
          "output_type": "stream",
          "name": "stdout",
          "text": [
            "22-02-10 21:50:03 [Thread-4] INFO  DistriOptimizer$:430 - [Epoch 1 1120/5216][Iteration 35][Wall Clock 254.625150112s] Trained 32.0 records in 6.790322178 seconds. Throughput is 4.7125893 records/second. Loss is 0.1865121. \n"
          ]
        },
        {
          "output_type": "stream",
          "name": "stderr",
          "text": [
            ""
          ]
        },
        {
          "output_type": "stream",
          "name": "stdout",
          "text": [
            "22-02-10 21:50:10 [Thread-4] INFO  DistriOptimizer$:430 - [Epoch 1 1152/5216][Iteration 36][Wall Clock 261.364822455s] Trained 32.0 records in 6.739672343 seconds. Throughput is 4.7480054 records/second. Loss is 0.31071025. \n"
          ]
        },
        {
          "output_type": "stream",
          "name": "stderr",
          "text": [
            ""
          ]
        },
        {
          "output_type": "stream",
          "name": "stdout",
          "text": [
            "22-02-10 21:50:17 [Thread-4] INFO  DistriOptimizer$:430 - [Epoch 1 1184/5216][Iteration 37][Wall Clock 268.101945448s] Trained 32.0 records in 6.737122993 seconds. Throughput is 4.749802 records/second. Loss is 0.2971943. \n"
          ]
        },
        {
          "output_type": "stream",
          "name": "stderr",
          "text": [
            ""
          ]
        },
        {
          "output_type": "stream",
          "name": "stdout",
          "text": [
            "22-02-10 21:50:23 [Thread-4] INFO  DistriOptimizer$:430 - [Epoch 1 1216/5216][Iteration 38][Wall Clock 274.868748738s] Trained 32.0 records in 6.76680329 seconds. Throughput is 4.7289686 records/second. Loss is 0.1827384. \n"
          ]
        },
        {
          "output_type": "stream",
          "name": "stderr",
          "text": [
            ""
          ]
        },
        {
          "output_type": "stream",
          "name": "stdout",
          "text": [
            "22-02-10 21:50:30 [Thread-4] INFO  DistriOptimizer$:430 - [Epoch 1 1248/5216][Iteration 39][Wall Clock 281.6256142s] Trained 32.0 records in 6.756865462 seconds. Throughput is 4.735924 records/second. Loss is 0.1761009. \n"
          ]
        },
        {
          "output_type": "stream",
          "name": "stderr",
          "text": [
            ""
          ]
        },
        {
          "output_type": "stream",
          "name": "stdout",
          "text": [
            "22-02-10 21:50:37 [Thread-4] INFO  DistriOptimizer$:430 - [Epoch 1 1280/5216][Iteration 40][Wall Clock 288.39495119s] Trained 32.0 records in 6.76933699 seconds. Throughput is 4.7271986 records/second. Loss is 0.4032011. \n"
          ]
        },
        {
          "output_type": "stream",
          "name": "stderr",
          "text": [
            ""
          ]
        },
        {
          "output_type": "stream",
          "name": "stdout",
          "text": [
            "22-02-10 21:50:44 [Thread-4] INFO  DistriOptimizer$:430 - [Epoch 1 1312/5216][Iteration 41][Wall Clock 295.183220978s] Trained 32.0 records in 6.788269788 seconds. Throughput is 4.714014 records/second. Loss is 0.27252793. \n"
          ]
        },
        {
          "output_type": "stream",
          "name": "stderr",
          "text": [
            ""
          ]
        },
        {
          "output_type": "stream",
          "name": "stdout",
          "text": [
            "22-02-10 21:50:50 [Thread-4] INFO  DistriOptimizer$:430 - [Epoch 1 1344/5216][Iteration 42][Wall Clock 301.921077822s] Trained 32.0 records in 6.737856844 seconds. Throughput is 4.7492847 records/second. Loss is 0.31315118. \n"
          ]
        },
        {
          "output_type": "stream",
          "name": "stderr",
          "text": [
            ""
          ]
        },
        {
          "output_type": "stream",
          "name": "stdout",
          "text": [
            "22-02-10 21:50:57 [Thread-4] INFO  DistriOptimizer$:430 - [Epoch 1 1376/5216][Iteration 43][Wall Clock 308.770502863s] Trained 32.0 records in 6.849425041 seconds. Throughput is 4.671925 records/second. Loss is 0.26336163. \n"
          ]
        },
        {
          "output_type": "stream",
          "name": "stderr",
          "text": [
            ""
          ]
        },
        {
          "output_type": "stream",
          "name": "stdout",
          "text": [
            "22-02-10 21:51:04 [Thread-4] INFO  DistriOptimizer$:430 - [Epoch 1 1408/5216][Iteration 44][Wall Clock 315.538317493s] Trained 32.0 records in 6.76781463 seconds. Throughput is 4.728262 records/second. Loss is 0.17597584. \n"
          ]
        },
        {
          "output_type": "stream",
          "name": "stderr",
          "text": [
            ""
          ]
        },
        {
          "output_type": "stream",
          "name": "stdout",
          "text": [
            "22-02-10 21:51:11 [Thread-4] INFO  DistriOptimizer$:430 - [Epoch 1 1440/5216][Iteration 45][Wall Clock 322.298508645s] Trained 32.0 records in 6.760191152 seconds. Throughput is 4.733594 records/second. Loss is 0.2258178. \n"
          ]
        },
        {
          "output_type": "stream",
          "name": "stderr",
          "text": [
            ""
          ]
        },
        {
          "output_type": "stream",
          "name": "stdout",
          "text": [
            "22-02-10 21:51:18 [Thread-4] INFO  DistriOptimizer$:430 - [Epoch 1 1472/5216][Iteration 46][Wall Clock 329.084691931s] Trained 32.0 records in 6.786183286 seconds. Throughput is 4.7154636 records/second. Loss is 0.22913301. \n"
          ]
        },
        {
          "output_type": "stream",
          "name": "stderr",
          "text": [
            ""
          ]
        },
        {
          "output_type": "stream",
          "name": "stdout",
          "text": [
            "22-02-10 21:51:24 [Thread-4] INFO  DistriOptimizer$:430 - [Epoch 1 1504/5216][Iteration 47][Wall Clock 335.819242218s] Trained 32.0 records in 6.734550287 seconds. Throughput is 4.7516165 records/second. Loss is 0.22196561. \n"
          ]
        },
        {
          "output_type": "stream",
          "name": "stderr",
          "text": [
            ""
          ]
        },
        {
          "output_type": "stream",
          "name": "stdout",
          "text": [
            "22-02-10 21:51:31 [Thread-4] INFO  DistriOptimizer$:430 - [Epoch 1 1536/5216][Iteration 48][Wall Clock 342.628164485s] Trained 32.0 records in 6.808922267 seconds. Throughput is 4.6997156 records/second. Loss is 0.2210895. \n"
          ]
        },
        {
          "output_type": "stream",
          "name": "stderr",
          "text": [
            ""
          ]
        },
        {
          "output_type": "stream",
          "name": "stdout",
          "text": [
            "22-02-10 21:51:38 [Thread-4] INFO  DistriOptimizer$:430 - [Epoch 1 1568/5216][Iteration 49][Wall Clock 349.484031166s] Trained 32.0 records in 6.855866681 seconds. Throughput is 4.6675353 records/second. Loss is 0.33125776. \n"
          ]
        },
        {
          "output_type": "stream",
          "name": "stderr",
          "text": [
            ""
          ]
        },
        {
          "output_type": "stream",
          "name": "stdout",
          "text": [
            "22-02-10 21:51:45 [Thread-4] INFO  DistriOptimizer$:430 - [Epoch 1 1600/5216][Iteration 50][Wall Clock 356.317319069s] Trained 32.0 records in 6.833287903 seconds. Throughput is 4.682958 records/second. Loss is 0.36880094. \n"
          ]
        },
        {
          "output_type": "stream",
          "name": "stderr",
          "text": [
            ""
          ]
        },
        {
          "output_type": "stream",
          "name": "stdout",
          "text": [
            "22-02-10 21:51:52 [Thread-4] INFO  DistriOptimizer$:430 - [Epoch 1 1632/5216][Iteration 51][Wall Clock 363.094483681s] Trained 32.0 records in 6.777164612 seconds. Throughput is 4.721739 records/second. Loss is 0.27387702. \n"
          ]
        },
        {
          "output_type": "stream",
          "name": "stderr",
          "text": [
            ""
          ]
        },
        {
          "output_type": "stream",
          "name": "stdout",
          "text": [
            "22-02-10 21:51:58 [Thread-4] INFO  DistriOptimizer$:430 - [Epoch 1 1664/5216][Iteration 52][Wall Clock 369.813809611s] Trained 32.0 records in 6.71932593 seconds. Throughput is 4.7623825 records/second. Loss is 0.1542029. \n"
          ]
        },
        {
          "output_type": "stream",
          "name": "stderr",
          "text": [
            ""
          ]
        },
        {
          "output_type": "stream",
          "name": "stdout",
          "text": [
            "22-02-10 21:52:05 [Thread-4] INFO  DistriOptimizer$:430 - [Epoch 1 1696/5216][Iteration 53][Wall Clock 376.619378499s] Trained 32.0 records in 6.805568888 seconds. Throughput is 4.7020316 records/second. Loss is 0.17516123. \n"
          ]
        },
        {
          "output_type": "stream",
          "name": "stderr",
          "text": [
            ""
          ]
        },
        {
          "output_type": "stream",
          "name": "stdout",
          "text": [
            "22-02-10 21:52:12 [Thread-4] INFO  DistriOptimizer$:430 - [Epoch 1 1728/5216][Iteration 54][Wall Clock 383.337157787s] Trained 32.0 records in 6.717779288 seconds. Throughput is 4.763479 records/second. Loss is 0.16206574. \n"
          ]
        },
        {
          "output_type": "stream",
          "name": "stderr",
          "text": [
            ""
          ]
        },
        {
          "output_type": "stream",
          "name": "stdout",
          "text": [
            "22-02-10 21:52:19 [Thread-4] INFO  DistriOptimizer$:430 - [Epoch 1 1760/5216][Iteration 55][Wall Clock 390.075957474s] Trained 32.0 records in 6.738799687 seconds. Throughput is 4.74862 records/second. Loss is 0.24132498. \n"
          ]
        },
        {
          "output_type": "stream",
          "name": "stderr",
          "text": [
            ""
          ]
        },
        {
          "output_type": "stream",
          "name": "stdout",
          "text": [
            "22-02-10 21:52:25 [Thread-4] INFO  DistriOptimizer$:430 - [Epoch 1 1792/5216][Iteration 56][Wall Clock 396.749384099s] Trained 32.0 records in 6.673426625 seconds. Throughput is 4.795138 records/second. Loss is 0.1807705. \n"
          ]
        },
        {
          "output_type": "stream",
          "name": "stderr",
          "text": [
            ""
          ]
        },
        {
          "output_type": "stream",
          "name": "stdout",
          "text": [
            "22-02-10 21:52:32 [Thread-4] INFO  DistriOptimizer$:430 - [Epoch 1 1824/5216][Iteration 57][Wall Clock 403.570949314s] Trained 32.0 records in 6.821565215 seconds. Throughput is 4.6910057 records/second. Loss is 0.21054552. \n"
          ]
        },
        {
          "output_type": "stream",
          "name": "stderr",
          "text": [
            ""
          ]
        },
        {
          "output_type": "stream",
          "name": "stdout",
          "text": [
            "22-02-10 21:52:39 [Thread-4] INFO  DistriOptimizer$:430 - [Epoch 1 1856/5216][Iteration 58][Wall Clock 410.351934625s] Trained 32.0 records in 6.780985311 seconds. Throughput is 4.719078 records/second. Loss is 0.22094488. \n"
          ]
        },
        {
          "output_type": "stream",
          "name": "stderr",
          "text": [
            ""
          ]
        },
        {
          "output_type": "stream",
          "name": "stdout",
          "text": [
            "22-02-10 21:52:46 [Thread-4] INFO  DistriOptimizer$:430 - [Epoch 1 1888/5216][Iteration 59][Wall Clock 417.134873645s] Trained 32.0 records in 6.78293902 seconds. Throughput is 4.717719 records/second. Loss is 0.29512477. \n"
          ]
        },
        {
          "output_type": "stream",
          "name": "stderr",
          "text": [
            ""
          ]
        },
        {
          "output_type": "stream",
          "name": "stdout",
          "text": [
            "22-02-10 21:52:52 [Thread-4] INFO  DistriOptimizer$:430 - [Epoch 1 1920/5216][Iteration 60][Wall Clock 423.784983823s] Trained 32.0 records in 6.650110178 seconds. Throughput is 4.81195 records/second. Loss is 0.18638173. \n"
          ]
        },
        {
          "output_type": "stream",
          "name": "stderr",
          "text": [
            ""
          ]
        },
        {
          "output_type": "stream",
          "name": "stdout",
          "text": [
            "22-02-10 21:52:59 [Thread-4] INFO  DistriOptimizer$:430 - [Epoch 1 1952/5216][Iteration 61][Wall Clock 430.535333277s] Trained 32.0 records in 6.750349454 seconds. Throughput is 4.740495 records/second. Loss is 0.13764668. \n"
          ]
        },
        {
          "output_type": "stream",
          "name": "stderr",
          "text": [
            ""
          ]
        },
        {
          "output_type": "stream",
          "name": "stdout",
          "text": [
            "22-02-10 21:53:06 [Thread-4] INFO  DistriOptimizer$:430 - [Epoch 1 1984/5216][Iteration 62][Wall Clock 437.319049228s] Trained 32.0 records in 6.783715951 seconds. Throughput is 4.717179 records/second. Loss is 0.22197035. \n"
          ]
        },
        {
          "output_type": "stream",
          "name": "stderr",
          "text": [
            ""
          ]
        },
        {
          "output_type": "stream",
          "name": "stdout",
          "text": [
            "22-02-10 21:53:13 [Thread-4] INFO  DistriOptimizer$:430 - [Epoch 1 2016/5216][Iteration 63][Wall Clock 444.135539783s] Trained 32.0 records in 6.816490555 seconds. Throughput is 4.6944976 records/second. Loss is 0.14469346. \n"
          ]
        },
        {
          "output_type": "stream",
          "name": "stderr",
          "text": [
            ""
          ]
        },
        {
          "output_type": "stream",
          "name": "stdout",
          "text": [
            "22-02-10 21:53:19 [Thread-4] INFO  DistriOptimizer$:430 - [Epoch 1 2048/5216][Iteration 64][Wall Clock 450.968796607s] Trained 32.0 records in 6.833256824 seconds. Throughput is 4.682979 records/second. Loss is 0.187809. \n"
          ]
        },
        {
          "output_type": "stream",
          "name": "stderr",
          "text": [
            ""
          ]
        },
        {
          "output_type": "stream",
          "name": "stdout",
          "text": [
            "22-02-10 21:53:26 [Thread-4] INFO  DistriOptimizer$:430 - [Epoch 1 2080/5216][Iteration 65][Wall Clock 457.73510084s] Trained 32.0 records in 6.766304233 seconds. Throughput is 4.7293177 records/second. Loss is 0.14461237. \n"
          ]
        },
        {
          "output_type": "stream",
          "name": "stderr",
          "text": [
            ""
          ]
        },
        {
          "output_type": "stream",
          "name": "stdout",
          "text": [
            "22-02-10 21:53:33 [Thread-4] INFO  DistriOptimizer$:430 - [Epoch 1 2112/5216][Iteration 66][Wall Clock 464.505803692s] Trained 32.0 records in 6.770702852 seconds. Throughput is 4.726245 records/second. Loss is 0.16437449. \n"
          ]
        },
        {
          "output_type": "stream",
          "name": "stderr",
          "text": [
            ""
          ]
        },
        {
          "output_type": "stream",
          "name": "stdout",
          "text": [
            "22-02-10 21:53:40 [Thread-4] INFO  DistriOptimizer$:430 - [Epoch 1 2144/5216][Iteration 67][Wall Clock 471.370337762s] Trained 32.0 records in 6.86453407 seconds. Throughput is 4.661642 records/second. Loss is 0.33725885. \n"
          ]
        },
        {
          "output_type": "stream",
          "name": "stderr",
          "text": [
            ""
          ]
        },
        {
          "output_type": "stream",
          "name": "stdout",
          "text": [
            "22-02-10 21:53:47 [Thread-4] INFO  DistriOptimizer$:430 - [Epoch 1 2176/5216][Iteration 68][Wall Clock 478.165744871s] Trained 32.0 records in 6.795407109 seconds. Throughput is 4.709063 records/second. Loss is 0.26953664. \n"
          ]
        },
        {
          "output_type": "stream",
          "name": "stderr",
          "text": [
            ""
          ]
        },
        {
          "output_type": "stream",
          "name": "stdout",
          "text": [
            "22-02-10 21:53:54 [Thread-4] INFO  DistriOptimizer$:430 - [Epoch 1 2208/5216][Iteration 69][Wall Clock 485.002154595s] Trained 32.0 records in 6.836409724 seconds. Throughput is 4.6808195 records/second. Loss is 0.21637137. \n"
          ]
        },
        {
          "output_type": "stream",
          "name": "stderr",
          "text": [
            ""
          ]
        },
        {
          "output_type": "stream",
          "name": "stdout",
          "text": [
            "22-02-10 21:54:00 [Thread-4] INFO  DistriOptimizer$:430 - [Epoch 1 2240/5216][Iteration 70][Wall Clock 491.817387401s] Trained 32.0 records in 6.815232806 seconds. Throughput is 4.695364 records/second. Loss is 0.19883518. \n"
          ]
        },
        {
          "output_type": "stream",
          "name": "stderr",
          "text": [
            ""
          ]
        },
        {
          "output_type": "stream",
          "name": "stdout",
          "text": [
            "22-02-10 21:54:07 [Thread-4] INFO  DistriOptimizer$:430 - [Epoch 1 2272/5216][Iteration 71][Wall Clock 498.581032464s] Trained 32.0 records in 6.763645063 seconds. Throughput is 4.731177 records/second. Loss is 0.13596493. \n"
          ]
        },
        {
          "output_type": "stream",
          "name": "stderr",
          "text": [
            ""
          ]
        },
        {
          "output_type": "stream",
          "name": "stdout",
          "text": [
            "22-02-10 21:54:14 [Thread-4] INFO  DistriOptimizer$:430 - [Epoch 1 2304/5216][Iteration 72][Wall Clock 505.354967625s] Trained 32.0 records in 6.773935161 seconds. Throughput is 4.7239895 records/second. Loss is 0.13678177. \n"
          ]
        },
        {
          "output_type": "stream",
          "name": "stderr",
          "text": [
            ""
          ]
        },
        {
          "output_type": "stream",
          "name": "stdout",
          "text": [
            "22-02-10 21:54:21 [Thread-4] INFO  DistriOptimizer$:430 - [Epoch 1 2336/5216][Iteration 73][Wall Clock 512.138171545s] Trained 32.0 records in 6.78320392 seconds. Throughput is 4.7175345 records/second. Loss is 0.2678615. \n"
          ]
        },
        {
          "output_type": "stream",
          "name": "stderr",
          "text": [
            ""
          ]
        },
        {
          "output_type": "stream",
          "name": "stdout",
          "text": [
            "22-02-10 21:54:27 [Thread-4] INFO  DistriOptimizer$:430 - [Epoch 1 2368/5216][Iteration 74][Wall Clock 518.88708231s] Trained 32.0 records in 6.748910765 seconds. Throughput is 4.7415056 records/second. Loss is 0.19904917. \n"
          ]
        },
        {
          "output_type": "stream",
          "name": "stderr",
          "text": [
            ""
          ]
        },
        {
          "output_type": "stream",
          "name": "stdout",
          "text": [
            "22-02-10 21:54:34 [Thread-4] INFO  DistriOptimizer$:430 - [Epoch 1 2400/5216][Iteration 75][Wall Clock 525.661121382s] Trained 32.0 records in 6.774039072 seconds. Throughput is 4.723917 records/second. Loss is 0.2796418. \n"
          ]
        },
        {
          "output_type": "stream",
          "name": "stderr",
          "text": [
            ""
          ]
        },
        {
          "output_type": "stream",
          "name": "stdout",
          "text": [
            "22-02-10 21:54:41 [Thread-4] INFO  DistriOptimizer$:430 - [Epoch 1 2432/5216][Iteration 76][Wall Clock 532.341938596s] Trained 32.0 records in 6.680817214 seconds. Throughput is 4.789833 records/second. Loss is 0.14647543. \n"
          ]
        },
        {
          "output_type": "stream",
          "name": "stderr",
          "text": [
            ""
          ]
        },
        {
          "output_type": "stream",
          "name": "stdout",
          "text": [
            "22-02-10 21:54:48 [Thread-4] INFO  DistriOptimizer$:430 - [Epoch 1 2464/5216][Iteration 77][Wall Clock 539.16928228s] Trained 32.0 records in 6.827343684 seconds. Throughput is 4.6870356 records/second. Loss is 0.32743. \n"
          ]
        },
        {
          "output_type": "stream",
          "name": "stderr",
          "text": [
            ""
          ]
        },
        {
          "output_type": "stream",
          "name": "stdout",
          "text": [
            "22-02-10 21:54:54 [Thread-4] INFO  DistriOptimizer$:430 - [Epoch 1 2496/5216][Iteration 78][Wall Clock 545.914887856s] Trained 32.0 records in 6.745605576 seconds. Throughput is 4.7438293 records/second. Loss is 0.18688497. \n"
          ]
        },
        {
          "output_type": "stream",
          "name": "stderr",
          "text": [
            ""
          ]
        },
        {
          "output_type": "stream",
          "name": "stdout",
          "text": [
            "22-02-10 21:55:01 [Thread-4] INFO  DistriOptimizer$:430 - [Epoch 1 2528/5216][Iteration 79][Wall Clock 552.647337904s] Trained 32.0 records in 6.732450048 seconds. Throughput is 4.753099 records/second. Loss is 0.23845446. \n"
          ]
        },
        {
          "output_type": "stream",
          "name": "stderr",
          "text": [
            ""
          ]
        },
        {
          "output_type": "stream",
          "name": "stdout",
          "text": [
            "22-02-10 21:55:08 [Thread-4] INFO  DistriOptimizer$:430 - [Epoch 1 2560/5216][Iteration 80][Wall Clock 559.371336613s] Trained 32.0 records in 6.723998709 seconds. Throughput is 4.759073 records/second. Loss is 0.16988738. \n"
          ]
        },
        {
          "output_type": "stream",
          "name": "stderr",
          "text": [
            ""
          ]
        },
        {
          "output_type": "stream",
          "name": "stdout",
          "text": [
            "22-02-10 21:55:15 [Thread-4] INFO  DistriOptimizer$:430 - [Epoch 1 2592/5216][Iteration 81][Wall Clock 566.131565306s] Trained 32.0 records in 6.760228693 seconds. Throughput is 4.7335677 records/second. Loss is 0.13906235. \n"
          ]
        },
        {
          "output_type": "stream",
          "name": "stderr",
          "text": [
            ""
          ]
        },
        {
          "output_type": "stream",
          "name": "stdout",
          "text": [
            "22-02-10 21:55:21 [Thread-4] INFO  DistriOptimizer$:430 - [Epoch 1 2624/5216][Iteration 82][Wall Clock 572.843014815s] Trained 32.0 records in 6.711449509 seconds. Throughput is 4.7679715 records/second. Loss is 0.21579969. \n"
          ]
        },
        {
          "output_type": "stream",
          "name": "stderr",
          "text": [
            ""
          ]
        },
        {
          "output_type": "stream",
          "name": "stdout",
          "text": [
            "22-02-10 21:55:28 [Thread-4] INFO  DistriOptimizer$:430 - [Epoch 1 2656/5216][Iteration 83][Wall Clock 579.533760008s] Trained 32.0 records in 6.690745193 seconds. Throughput is 4.782726 records/second. Loss is 0.15427372. \n"
          ]
        },
        {
          "output_type": "stream",
          "name": "stderr",
          "text": [
            ""
          ]
        },
        {
          "output_type": "stream",
          "name": "stdout",
          "text": [
            "22-02-10 21:55:35 [Thread-4] INFO  DistriOptimizer$:430 - [Epoch 1 2688/5216][Iteration 84][Wall Clock 586.372081151s] Trained 32.0 records in 6.838321143 seconds. Throughput is 4.679511 records/second. Loss is 0.14539114. \n"
          ]
        },
        {
          "output_type": "stream",
          "name": "stderr",
          "text": [
            ""
          ]
        },
        {
          "output_type": "stream",
          "name": "stdout",
          "text": [
            "22-02-10 21:55:42 [Thread-4] INFO  DistriOptimizer$:430 - [Epoch 1 2720/5216][Iteration 85][Wall Clock 593.096883119s] Trained 32.0 records in 6.724801968 seconds. Throughput is 4.7585044 records/second. Loss is 0.15692309. \n"
          ]
        },
        {
          "output_type": "stream",
          "name": "stderr",
          "text": [
            ""
          ]
        },
        {
          "output_type": "stream",
          "name": "stdout",
          "text": [
            "22-02-10 21:55:48 [Thread-4] INFO  DistriOptimizer$:430 - [Epoch 1 2752/5216][Iteration 86][Wall Clock 599.79599855s] Trained 32.0 records in 6.699115431 seconds. Throughput is 4.77675 records/second. Loss is 0.15897769. \n"
          ]
        },
        {
          "output_type": "stream",
          "name": "stderr",
          "text": [
            ""
          ]
        },
        {
          "output_type": "stream",
          "name": "stdout",
          "text": [
            "22-02-10 21:55:55 [Thread-4] INFO  DistriOptimizer$:430 - [Epoch 1 2784/5216][Iteration 87][Wall Clock 606.502156831s] Trained 32.0 records in 6.706158281 seconds. Throughput is 4.7717338 records/second. Loss is 0.13225605. \n"
          ]
        },
        {
          "output_type": "stream",
          "name": "stderr",
          "text": [
            ""
          ]
        },
        {
          "output_type": "stream",
          "name": "stdout",
          "text": [
            "22-02-10 21:56:02 [Thread-4] INFO  DistriOptimizer$:430 - [Epoch 1 2816/5216][Iteration 88][Wall Clock 613.30298778s] Trained 32.0 records in 6.800830949 seconds. Throughput is 4.7053075 records/second. Loss is 0.17590977. \n"
          ]
        },
        {
          "output_type": "stream",
          "name": "stderr",
          "text": [
            ""
          ]
        },
        {
          "output_type": "stream",
          "name": "stdout",
          "text": [
            "22-02-10 21:56:09 [Thread-4] INFO  DistriOptimizer$:430 - [Epoch 1 2848/5216][Iteration 89][Wall Clock 620.063338714s] Trained 32.0 records in 6.760350934 seconds. Throughput is 4.7334824 records/second. Loss is 0.18737496. \n"
          ]
        },
        {
          "output_type": "stream",
          "name": "stderr",
          "text": [
            ""
          ]
        },
        {
          "output_type": "stream",
          "name": "stdout",
          "text": [
            "22-02-10 21:56:15 [Thread-4] INFO  DistriOptimizer$:430 - [Epoch 1 2880/5216][Iteration 90][Wall Clock 626.859529402s] Trained 32.0 records in 6.796190688 seconds. Throughput is 4.70852 records/second. Loss is 0.2648821. \n"
          ]
        },
        {
          "output_type": "stream",
          "name": "stderr",
          "text": [
            ""
          ]
        },
        {
          "output_type": "stream",
          "name": "stdout",
          "text": [
            "22-02-10 21:56:22 [Thread-4] INFO  DistriOptimizer$:430 - [Epoch 1 2912/5216][Iteration 91][Wall Clock 633.611201937s] Trained 32.0 records in 6.751672535 seconds. Throughput is 4.7395663 records/second. Loss is 0.11329633. \n"
          ]
        },
        {
          "output_type": "stream",
          "name": "stderr",
          "text": [
            ""
          ]
        },
        {
          "output_type": "stream",
          "name": "stdout",
          "text": [
            "22-02-10 21:56:29 [Thread-4] INFO  DistriOptimizer$:430 - [Epoch 1 2944/5216][Iteration 92][Wall Clock 640.301207569s] Trained 32.0 records in 6.690005632 seconds. Throughput is 4.7832546 records/second. Loss is 0.15274645. \n"
          ]
        },
        {
          "output_type": "stream",
          "name": "stderr",
          "text": [
            ""
          ]
        },
        {
          "output_type": "stream",
          "name": "stdout",
          "text": [
            "22-02-10 21:56:36 [Thread-4] INFO  DistriOptimizer$:430 - [Epoch 1 2976/5216][Iteration 93][Wall Clock 647.115259835s] Trained 32.0 records in 6.814052266 seconds. Throughput is 4.696178 records/second. Loss is 0.25433618. \n"
          ]
        },
        {
          "output_type": "stream",
          "name": "stderr",
          "text": [
            ""
          ]
        },
        {
          "output_type": "stream",
          "name": "stdout",
          "text": [
            "22-02-10 21:56:42 [Thread-4] INFO  DistriOptimizer$:430 - [Epoch 1 3008/5216][Iteration 94][Wall Clock 653.898993906s] Trained 32.0 records in 6.783734071 seconds. Throughput is 4.7171664 records/second. Loss is 0.15290111. \n"
          ]
        },
        {
          "output_type": "stream",
          "name": "stderr",
          "text": [
            ""
          ]
        },
        {
          "output_type": "stream",
          "name": "stdout",
          "text": [
            "22-02-10 21:56:49 [Thread-4] INFO  DistriOptimizer$:430 - [Epoch 1 3040/5216][Iteration 95][Wall Clock 660.724480991s] Trained 32.0 records in 6.825487085 seconds. Throughput is 4.68831 records/second. Loss is 0.2581003. \n"
          ]
        },
        {
          "output_type": "stream",
          "name": "stderr",
          "text": [
            ""
          ]
        },
        {
          "output_type": "stream",
          "name": "stdout",
          "text": [
            "22-02-10 21:56:56 [Thread-4] INFO  DistriOptimizer$:430 - [Epoch 1 3072/5216][Iteration 96][Wall Clock 667.430151362s] Trained 32.0 records in 6.705670371 seconds. Throughput is 4.772081 records/second. Loss is 0.15010372. \n"
          ]
        },
        {
          "output_type": "stream",
          "name": "stderr",
          "text": [
            ""
          ]
        },
        {
          "output_type": "stream",
          "name": "stdout",
          "text": [
            "22-02-10 21:57:03 [Thread-4] INFO  DistriOptimizer$:430 - [Epoch 1 3104/5216][Iteration 97][Wall Clock 674.235728649s] Trained 32.0 records in 6.805577287 seconds. Throughput is 4.702026 records/second. Loss is 0.13532987. \n"
          ]
        },
        {
          "output_type": "stream",
          "name": "stderr",
          "text": [
            ""
          ]
        },
        {
          "output_type": "stream",
          "name": "stdout",
          "text": [
            "22-02-10 21:57:09 [Thread-4] INFO  DistriOptimizer$:430 - [Epoch 1 3136/5216][Iteration 98][Wall Clock 680.949401619s] Trained 32.0 records in 6.71367297 seconds. Throughput is 4.766392 records/second. Loss is 0.11280563. \n"
          ]
        },
        {
          "output_type": "stream",
          "name": "stderr",
          "text": [
            ""
          ]
        },
        {
          "output_type": "stream",
          "name": "stdout",
          "text": [
            "22-02-10 21:57:16 [Thread-4] INFO  DistriOptimizer$:430 - [Epoch 1 3168/5216][Iteration 99][Wall Clock 687.781583763s] Trained 32.0 records in 6.832182144 seconds. Throughput is 4.683716 records/second. Loss is 0.1720517. \n"
          ]
        },
        {
          "output_type": "stream",
          "name": "stderr",
          "text": [
            ""
          ]
        },
        {
          "output_type": "stream",
          "name": "stdout",
          "text": [
            "22-02-10 21:57:23 [Thread-4] INFO  DistriOptimizer$:430 - [Epoch 1 3200/5216][Iteration 100][Wall Clock 694.571733863s] Trained 32.0 records in 6.7901501 seconds. Throughput is 4.712709 records/second. Loss is 0.106909506. \n"
          ]
        },
        {
          "output_type": "stream",
          "name": "stderr",
          "text": [
            ""
          ]
        },
        {
          "output_type": "stream",
          "name": "stdout",
          "text": [
            "22-02-10 21:57:30 [Thread-4] INFO  DistriOptimizer$:430 - [Epoch 1 3232/5216][Iteration 101][Wall Clock 701.360011623s] Trained 32.0 records in 6.78827776 seconds. Throughput is 4.714009 records/second. Loss is 0.09179832. \n"
          ]
        },
        {
          "output_type": "stream",
          "name": "stderr",
          "text": [
            ""
          ]
        },
        {
          "output_type": "stream",
          "name": "stdout",
          "text": [
            "22-02-10 21:57:37 [Thread-4] INFO  DistriOptimizer$:430 - [Epoch 1 3264/5216][Iteration 102][Wall Clock 708.220740323s] Trained 32.0 records in 6.8607287 seconds. Throughput is 4.6642275 records/second. Loss is 0.22691554. \n"
          ]
        },
        {
          "output_type": "stream",
          "name": "stderr",
          "text": [
            ""
          ]
        },
        {
          "output_type": "stream",
          "name": "stdout",
          "text": [
            "22-02-10 21:57:44 [Thread-4] INFO  DistriOptimizer$:430 - [Epoch 1 3296/5216][Iteration 103][Wall Clock 714.996709434s] Trained 32.0 records in 6.775969111 seconds. Throughput is 4.722572 records/second. Loss is 0.14895684. \n"
          ]
        },
        {
          "output_type": "stream",
          "name": "stderr",
          "text": [
            ""
          ]
        },
        {
          "output_type": "stream",
          "name": "stdout",
          "text": [
            "22-02-10 21:57:50 [Thread-4] INFO  DistriOptimizer$:430 - [Epoch 1 3328/5216][Iteration 104][Wall Clock 721.731046821s] Trained 32.0 records in 6.734337387 seconds. Throughput is 4.7517667 records/second. Loss is 0.19885175. \n"
          ]
        },
        {
          "output_type": "stream",
          "name": "stderr",
          "text": [
            ""
          ]
        },
        {
          "output_type": "stream",
          "name": "stdout",
          "text": [
            "22-02-10 21:57:57 [Thread-4] INFO  DistriOptimizer$:430 - [Epoch 1 3360/5216][Iteration 105][Wall Clock 728.510744022s] Trained 32.0 records in 6.779697201 seconds. Throughput is 4.7199745 records/second. Loss is 0.19454193. \n"
          ]
        },
        {
          "output_type": "stream",
          "name": "stderr",
          "text": [
            ""
          ]
        },
        {
          "output_type": "stream",
          "name": "stdout",
          "text": [
            "22-02-10 21:58:04 [Thread-4] INFO  DistriOptimizer$:430 - [Epoch 1 3392/5216][Iteration 106][Wall Clock 735.372224752s] Trained 32.0 records in 6.86148073 seconds. Throughput is 4.6637163 records/second. Loss is 0.12056172. \n"
          ]
        },
        {
          "output_type": "stream",
          "name": "stderr",
          "text": [
            ""
          ]
        },
        {
          "output_type": "stream",
          "name": "stdout",
          "text": [
            "22-02-10 21:58:11 [Thread-4] INFO  DistriOptimizer$:430 - [Epoch 1 3424/5216][Iteration 107][Wall Clock 742.131011516s] Trained 32.0 records in 6.758786764 seconds. Throughput is 4.7345777 records/second. Loss is 0.137075. \n"
          ]
        },
        {
          "output_type": "stream",
          "name": "stderr",
          "text": [
            ""
          ]
        },
        {
          "output_type": "stream",
          "name": "stdout",
          "text": [
            "22-02-10 21:58:17 [Thread-4] INFO  DistriOptimizer$:430 - [Epoch 1 3456/5216][Iteration 108][Wall Clock 748.80626275s] Trained 32.0 records in 6.675251234 seconds. Throughput is 4.793827 records/second. Loss is 0.107153356. \n"
          ]
        },
        {
          "output_type": "stream",
          "name": "stderr",
          "text": [
            ""
          ]
        },
        {
          "output_type": "stream",
          "name": "stdout",
          "text": [
            "22-02-10 21:58:24 [Thread-4] INFO  DistriOptimizer$:430 - [Epoch 1 3488/5216][Iteration 109][Wall Clock 755.668238141s] Trained 32.0 records in 6.861975391 seconds. Throughput is 4.66338 records/second. Loss is 0.19318223. \n"
          ]
        },
        {
          "output_type": "stream",
          "name": "stderr",
          "text": [
            ""
          ]
        },
        {
          "output_type": "stream",
          "name": "stdout",
          "text": [
            "22-02-10 21:58:31 [Thread-4] INFO  DistriOptimizer$:430 - [Epoch 1 3520/5216][Iteration 110][Wall Clock 762.429594185s] Trained 32.0 records in 6.761356044 seconds. Throughput is 4.7327785 records/second. Loss is 0.15277529. \n"
          ]
        },
        {
          "output_type": "stream",
          "name": "stderr",
          "text": [
            ""
          ]
        },
        {
          "output_type": "stream",
          "name": "stdout",
          "text": [
            "22-02-10 21:58:38 [Thread-4] INFO  DistriOptimizer$:430 - [Epoch 1 3552/5216][Iteration 111][Wall Clock 769.212623245s] Trained 32.0 records in 6.78302906 seconds. Throughput is 4.717656 records/second. Loss is 0.09626183. \n"
          ]
        },
        {
          "output_type": "stream",
          "name": "stderr",
          "text": [
            ""
          ]
        },
        {
          "output_type": "stream",
          "name": "stdout",
          "text": [
            "22-02-10 21:58:45 [Thread-4] INFO  DistriOptimizer$:430 - [Epoch 1 3584/5216][Iteration 112][Wall Clock 776.014308834s] Trained 32.0 records in 6.801685589 seconds. Throughput is 4.704716 records/second. Loss is 0.10834856. \n"
          ]
        },
        {
          "output_type": "stream",
          "name": "stderr",
          "text": [
            ""
          ]
        },
        {
          "output_type": "stream",
          "name": "stdout",
          "text": [
            "22-02-10 21:58:51 [Thread-4] INFO  DistriOptimizer$:430 - [Epoch 1 3616/5216][Iteration 113][Wall Clock 782.710978996s] Trained 32.0 records in 6.696670162 seconds. Throughput is 4.7784944 records/second. Loss is 0.1213431. \n"
          ]
        },
        {
          "output_type": "stream",
          "name": "stderr",
          "text": [
            ""
          ]
        },
        {
          "output_type": "stream",
          "name": "stdout",
          "text": [
            "22-02-10 21:58:58 [Thread-4] INFO  DistriOptimizer$:430 - [Epoch 1 3648/5216][Iteration 114][Wall Clock 789.491921627s] Trained 32.0 records in 6.780942631 seconds. Throughput is 4.719108 records/second. Loss is 0.11271076. \n"
          ]
        },
        {
          "output_type": "stream",
          "name": "stderr",
          "text": [
            ""
          ]
        },
        {
          "output_type": "stream",
          "name": "stdout",
          "text": [
            "22-02-10 21:59:05 [Thread-4] INFO  DistriOptimizer$:430 - [Epoch 1 3680/5216][Iteration 115][Wall Clock 796.222577094s] Trained 32.0 records in 6.730655467 seconds. Throughput is 4.754366 records/second. Loss is 0.24562243. \n"
          ]
        },
        {
          "output_type": "stream",
          "name": "stderr",
          "text": [
            ""
          ]
        },
        {
          "output_type": "stream",
          "name": "stdout",
          "text": [
            "22-02-10 21:59:12 [Thread-4] INFO  DistriOptimizer$:430 - [Epoch 1 3712/5216][Iteration 116][Wall Clock 803.013196193s] Trained 32.0 records in 6.790619099 seconds. Throughput is 4.7123833 records/second. Loss is 0.17568555. \n"
          ]
        },
        {
          "output_type": "stream",
          "name": "stderr",
          "text": [
            ""
          ]
        },
        {
          "output_type": "stream",
          "name": "stdout",
          "text": [
            "22-02-10 21:59:18 [Thread-4] INFO  DistriOptimizer$:430 - [Epoch 1 3744/5216][Iteration 117][Wall Clock 809.821113871s] Trained 32.0 records in 6.807917678 seconds. Throughput is 4.7004094 records/second. Loss is 0.14830168. \n"
          ]
        },
        {
          "output_type": "stream",
          "name": "stderr",
          "text": [
            ""
          ]
        },
        {
          "output_type": "stream",
          "name": "stdout",
          "text": [
            "22-02-10 21:59:25 [Thread-4] INFO  DistriOptimizer$:430 - [Epoch 1 3776/5216][Iteration 118][Wall Clock 816.53414131s] Trained 32.0 records in 6.713027439 seconds. Throughput is 4.766851 records/second. Loss is 0.121589705. \n"
          ]
        },
        {
          "output_type": "stream",
          "name": "stderr",
          "text": [
            ""
          ]
        },
        {
          "output_type": "stream",
          "name": "stdout",
          "text": [
            "22-02-10 21:59:32 [Thread-4] INFO  DistriOptimizer$:430 - [Epoch 1 3808/5216][Iteration 119][Wall Clock 823.276304715s] Trained 32.0 records in 6.742163405 seconds. Throughput is 4.746251 records/second. Loss is 0.15787977. \n"
          ]
        },
        {
          "output_type": "stream",
          "name": "stderr",
          "text": [
            ""
          ]
        },
        {
          "output_type": "stream",
          "name": "stdout",
          "text": [
            "22-02-10 21:59:39 [Thread-4] INFO  DistriOptimizer$:430 - [Epoch 1 3840/5216][Iteration 120][Wall Clock 830.116225628s] Trained 32.0 records in 6.839920913 seconds. Throughput is 4.6784167 records/second. Loss is 0.10928552. \n"
          ]
        },
        {
          "output_type": "stream",
          "name": "stderr",
          "text": [
            ""
          ]
        },
        {
          "output_type": "stream",
          "name": "stdout",
          "text": [
            "22-02-10 21:59:45 [Thread-4] INFO  DistriOptimizer$:430 - [Epoch 1 3872/5216][Iteration 121][Wall Clock 836.916152179s] Trained 32.0 records in 6.799926551 seconds. Throughput is 4.705933 records/second. Loss is 0.085648045. \n"
          ]
        },
        {
          "output_type": "stream",
          "name": "stderr",
          "text": [
            ""
          ]
        },
        {
          "output_type": "stream",
          "name": "stdout",
          "text": [
            "22-02-10 21:59:52 [Thread-4] INFO  DistriOptimizer$:430 - [Epoch 1 3904/5216][Iteration 122][Wall Clock 843.693556481s] Trained 32.0 records in 6.777404302 seconds. Throughput is 4.7215714 records/second. Loss is 0.21453269. \n"
          ]
        },
        {
          "output_type": "stream",
          "name": "stderr",
          "text": [
            ""
          ]
        },
        {
          "output_type": "stream",
          "name": "stdout",
          "text": [
            "22-02-10 21:59:59 [Thread-4] INFO  DistriOptimizer$:430 - [Epoch 1 3936/5216][Iteration 123][Wall Clock 850.444829906s] Trained 32.0 records in 6.751273425 seconds. Throughput is 4.739846 records/second. Loss is 0.0913267. \n"
          ]
        },
        {
          "output_type": "stream",
          "name": "stderr",
          "text": [
            ""
          ]
        },
        {
          "output_type": "stream",
          "name": "stdout",
          "text": [
            "22-02-10 22:00:06 [Thread-4] INFO  DistriOptimizer$:430 - [Epoch 1 3968/5216][Iteration 124][Wall Clock 857.187161634s] Trained 32.0 records in 6.742331728 seconds. Throughput is 4.746133 records/second. Loss is 0.07844189. \n"
          ]
        },
        {
          "output_type": "stream",
          "name": "stderr",
          "text": [
            ""
          ]
        },
        {
          "output_type": "stream",
          "name": "stdout",
          "text": [
            "22-02-10 22:00:13 [Thread-4] INFO  DistriOptimizer$:430 - [Epoch 1 4000/5216][Iteration 125][Wall Clock 864.020873871s] Trained 32.0 records in 6.833712237 seconds. Throughput is 4.6826673 records/second. Loss is 0.086605534. \n"
          ]
        },
        {
          "output_type": "stream",
          "name": "stderr",
          "text": [
            ""
          ]
        },
        {
          "output_type": "stream",
          "name": "stdout",
          "text": [
            "22-02-10 22:00:19 [Thread-4] INFO  DistriOptimizer$:430 - [Epoch 1 4032/5216][Iteration 126][Wall Clock 870.820868092s] Trained 32.0 records in 6.799994221 seconds. Throughput is 4.7058864 records/second. Loss is 0.079634. \n"
          ]
        },
        {
          "output_type": "stream",
          "name": "stderr",
          "text": [
            ""
          ]
        },
        {
          "output_type": "stream",
          "name": "stdout",
          "text": [
            "22-02-10 22:00:26 [Thread-4] INFO  DistriOptimizer$:430 - [Epoch 1 4064/5216][Iteration 127][Wall Clock 877.581527845s] Trained 32.0 records in 6.760659753 seconds. Throughput is 4.733266 records/second. Loss is 0.06550676. \n"
          ]
        },
        {
          "output_type": "stream",
          "name": "stderr",
          "text": [
            ""
          ]
        },
        {
          "output_type": "stream",
          "name": "stdout",
          "text": [
            "22-02-10 22:00:33 [Thread-4] INFO  DistriOptimizer$:430 - [Epoch 1 4096/5216][Iteration 128][Wall Clock 884.401044821s] Trained 32.0 records in 6.819516976 seconds. Throughput is 4.6924143 records/second. Loss is 0.09587483. \n"
          ]
        },
        {
          "output_type": "stream",
          "name": "stderr",
          "text": [
            ""
          ]
        },
        {
          "output_type": "stream",
          "name": "stdout",
          "text": [
            "22-02-10 22:00:40 [Thread-4] INFO  DistriOptimizer$:430 - [Epoch 1 4128/5216][Iteration 129][Wall Clock 891.209141618s] Trained 32.0 records in 6.808096797 seconds. Throughput is 4.7002854 records/second. Loss is 0.08211537. \n"
          ]
        },
        {
          "output_type": "stream",
          "name": "stderr",
          "text": [
            ""
          ]
        },
        {
          "output_type": "stream",
          "name": "stdout",
          "text": [
            "22-02-10 22:00:47 [Thread-4] INFO  DistriOptimizer$:430 - [Epoch 1 4160/5216][Iteration 130][Wall Clock 898.062641029s] Trained 32.0 records in 6.853499411 seconds. Throughput is 4.6691475 records/second. Loss is 0.089452386. \n"
          ]
        },
        {
          "output_type": "stream",
          "name": "stderr",
          "text": [
            ""
          ]
        },
        {
          "output_type": "stream",
          "name": "stdout",
          "text": [
            "22-02-10 22:00:53 [Thread-4] INFO  DistriOptimizer$:430 - [Epoch 1 4192/5216][Iteration 131][Wall Clock 904.776157688s] Trained 32.0 records in 6.713516659 seconds. Throughput is 4.7665033 records/second. Loss is 0.06624305. \n"
          ]
        },
        {
          "output_type": "stream",
          "name": "stderr",
          "text": [
            ""
          ]
        },
        {
          "output_type": "stream",
          "name": "stdout",
          "text": [
            "22-02-10 22:01:00 [Thread-4] INFO  DistriOptimizer$:430 - [Epoch 1 4224/5216][Iteration 132][Wall Clock 911.565186978s] Trained 32.0 records in 6.78902929 seconds. Throughput is 4.713487 records/second. Loss is 0.0826805. \n"
          ]
        },
        {
          "output_type": "stream",
          "name": "stderr",
          "text": [
            ""
          ]
        },
        {
          "output_type": "stream",
          "name": "stdout",
          "text": [
            "22-02-10 22:01:07 [Thread-4] INFO  DistriOptimizer$:430 - [Epoch 1 4256/5216][Iteration 133][Wall Clock 918.314392512s] Trained 32.0 records in 6.749205534 seconds. Throughput is 4.7412987 records/second. Loss is 0.14187321. \n"
          ]
        },
        {
          "output_type": "stream",
          "name": "stderr",
          "text": [
            ""
          ]
        },
        {
          "output_type": "stream",
          "name": "stdout",
          "text": [
            "22-02-10 22:01:14 [Thread-4] INFO  DistriOptimizer$:430 - [Epoch 1 4288/5216][Iteration 134][Wall Clock 925.072321315s] Trained 32.0 records in 6.757928803 seconds. Throughput is 4.7351785 records/second. Loss is 0.06650776. \n"
          ]
        },
        {
          "output_type": "stream",
          "name": "stderr",
          "text": [
            ""
          ]
        },
        {
          "output_type": "stream",
          "name": "stdout",
          "text": [
            "22-02-10 22:01:20 [Thread-4] INFO  DistriOptimizer$:430 - [Epoch 1 4320/5216][Iteration 135][Wall Clock 931.855824566s] Trained 32.0 records in 6.783503251 seconds. Throughput is 4.7173266 records/second. Loss is 0.15353185. \n"
          ]
        },
        {
          "output_type": "stream",
          "name": "stderr",
          "text": [
            ""
          ]
        },
        {
          "output_type": "stream",
          "name": "stdout",
          "text": [
            "22-02-10 22:01:27 [Thread-4] INFO  DistriOptimizer$:430 - [Epoch 1 4352/5216][Iteration 136][Wall Clock 938.720085626s] Trained 32.0 records in 6.86426106 seconds. Throughput is 4.661827 records/second. Loss is 0.23408332. \n"
          ]
        },
        {
          "output_type": "stream",
          "name": "stderr",
          "text": [
            ""
          ]
        },
        {
          "output_type": "stream",
          "name": "stdout",
          "text": [
            "22-02-10 22:01:34 [Thread-4] INFO  DistriOptimizer$:430 - [Epoch 1 4384/5216][Iteration 137][Wall Clock 945.664278366s] Trained 32.0 records in 6.94419274 seconds. Throughput is 4.6081667 records/second. Loss is 0.14926878. \n"
          ]
        },
        {
          "output_type": "stream",
          "name": "stderr",
          "text": [
            ""
          ]
        },
        {
          "output_type": "stream",
          "name": "stdout",
          "text": [
            "22-02-10 22:01:41 [Thread-4] INFO  DistriOptimizer$:430 - [Epoch 1 4416/5216][Iteration 138][Wall Clock 952.449862686s] Trained 32.0 records in 6.78558432 seconds. Throughput is 4.71588 records/second. Loss is 0.10525458. \n"
          ]
        },
        {
          "output_type": "stream",
          "name": "stderr",
          "text": [
            ""
          ]
        },
        {
          "output_type": "stream",
          "name": "stdout",
          "text": [
            "22-02-10 22:01:48 [Thread-4] INFO  DistriOptimizer$:430 - [Epoch 1 4448/5216][Iteration 139][Wall Clock 959.251484564s] Trained 32.0 records in 6.801621878 seconds. Throughput is 4.70476 records/second. Loss is 0.1341818. \n"
          ]
        },
        {
          "output_type": "stream",
          "name": "stderr",
          "text": [
            ""
          ]
        },
        {
          "output_type": "stream",
          "name": "stdout",
          "text": [
            "22-02-10 22:01:55 [Thread-4] INFO  DistriOptimizer$:430 - [Epoch 1 4480/5216][Iteration 140][Wall Clock 966.020428086s] Trained 32.0 records in 6.768943522 seconds. Throughput is 4.7274733 records/second. Loss is 0.06436069. \n"
          ]
        },
        {
          "output_type": "stream",
          "name": "stderr",
          "text": [
            ""
          ]
        },
        {
          "output_type": "stream",
          "name": "stdout",
          "text": [
            "22-02-10 22:02:01 [Thread-4] INFO  DistriOptimizer$:430 - [Epoch 1 4512/5216][Iteration 141][Wall Clock 972.786675079s] Trained 32.0 records in 6.766246993 seconds. Throughput is 4.7293577 records/second. Loss is 0.09290875. \n"
          ]
        },
        {
          "output_type": "stream",
          "name": "stderr",
          "text": [
            ""
          ]
        },
        {
          "output_type": "stream",
          "name": "stdout",
          "text": [
            "22-02-10 22:02:08 [Thread-4] INFO  DistriOptimizer$:430 - [Epoch 1 4544/5216][Iteration 142][Wall Clock 979.535595624s] Trained 32.0 records in 6.748920545 seconds. Throughput is 4.741499 records/second. Loss is 0.13062987. \n"
          ]
        },
        {
          "output_type": "stream",
          "name": "stderr",
          "text": [
            ""
          ]
        },
        {
          "output_type": "stream",
          "name": "stdout",
          "text": [
            "22-02-10 22:02:15 [Thread-4] INFO  DistriOptimizer$:430 - [Epoch 1 4576/5216][Iteration 143][Wall Clock 986.343917332s] Trained 32.0 records in 6.808321708 seconds. Throughput is 4.7001305 records/second. Loss is 0.15823394. \n"
          ]
        },
        {
          "output_type": "stream",
          "name": "stderr",
          "text": [
            ""
          ]
        },
        {
          "output_type": "stream",
          "name": "stdout",
          "text": [
            "22-02-10 22:02:22 [Thread-4] INFO  DistriOptimizer$:430 - [Epoch 1 4608/5216][Iteration 144][Wall Clock 993.15293503s] Trained 32.0 records in 6.809017698 seconds. Throughput is 4.69965 records/second. Loss is 0.10641916. \n"
          ]
        },
        {
          "output_type": "stream",
          "name": "stderr",
          "text": [
            ""
          ]
        },
        {
          "output_type": "stream",
          "name": "stdout",
          "text": [
            "22-02-10 22:02:28 [Thread-4] INFO  DistriOptimizer$:430 - [Epoch 1 4640/5216][Iteration 145][Wall Clock 999.918971653s] Trained 32.0 records in 6.766036623 seconds. Throughput is 4.7295046 records/second. Loss is 0.07621796. \n"
          ]
        },
        {
          "output_type": "stream",
          "name": "stderr",
          "text": [
            ""
          ]
        },
        {
          "output_type": "stream",
          "name": "stdout",
          "text": [
            "22-02-10 22:02:35 [Thread-4] INFO  DistriOptimizer$:430 - [Epoch 1 4672/5216][Iteration 146][Wall Clock 1006.65198961s] Trained 32.0 records in 6.733017957 seconds. Throughput is 4.752698 records/second. Loss is 0.061431445. \n"
          ]
        },
        {
          "output_type": "stream",
          "name": "stderr",
          "text": [
            ""
          ]
        },
        {
          "output_type": "stream",
          "name": "stdout",
          "text": [
            "22-02-10 22:02:42 [Thread-4] INFO  DistriOptimizer$:430 - [Epoch 1 4704/5216][Iteration 147][Wall Clock 1013.419359322s] Trained 32.0 records in 6.767369712 seconds. Throughput is 4.728573 records/second. Loss is 0.10362315. \n"
          ]
        },
        {
          "output_type": "stream",
          "name": "stderr",
          "text": [
            ""
          ]
        },
        {
          "output_type": "stream",
          "name": "stdout",
          "text": [
            "22-02-10 22:02:49 [Thread-4] INFO  DistriOptimizer$:430 - [Epoch 1 4736/5216][Iteration 148][Wall Clock 1020.154452648s] Trained 32.0 records in 6.735093326 seconds. Throughput is 4.7512336 records/second. Loss is 0.11575904. \n"
          ]
        },
        {
          "output_type": "stream",
          "name": "stderr",
          "text": [
            ""
          ]
        },
        {
          "output_type": "stream",
          "name": "stdout",
          "text": [
            "22-02-10 22:02:56 [Thread-4] INFO  DistriOptimizer$:430 - [Epoch 1 4768/5216][Iteration 149][Wall Clock 1026.927711169s] Trained 32.0 records in 6.773258521 seconds. Throughput is 4.7244616 records/second. Loss is 0.05681411. \n"
          ]
        },
        {
          "output_type": "stream",
          "name": "stderr",
          "text": [
            ""
          ]
        },
        {
          "output_type": "stream",
          "name": "stdout",
          "text": [
            "22-02-10 22:03:02 [Thread-4] INFO  DistriOptimizer$:430 - [Epoch 1 4800/5216][Iteration 150][Wall Clock 1033.694225571s] Trained 32.0 records in 6.766514402 seconds. Throughput is 4.7291703 records/second. Loss is 0.060877793. \n"
          ]
        },
        {
          "output_type": "stream",
          "name": "stderr",
          "text": [
            ""
          ]
        },
        {
          "output_type": "stream",
          "name": "stdout",
          "text": [
            "22-02-10 22:03:09 [Thread-4] INFO  DistriOptimizer$:430 - [Epoch 1 4832/5216][Iteration 151][Wall Clock 1040.516422206s] Trained 32.0 records in 6.822196635 seconds. Throughput is 4.6905713 records/second. Loss is 0.042783625. \n"
          ]
        },
        {
          "output_type": "stream",
          "name": "stderr",
          "text": [
            ""
          ]
        },
        {
          "output_type": "stream",
          "name": "stdout",
          "text": [
            "22-02-10 22:03:16 [Thread-4] INFO  DistriOptimizer$:430 - [Epoch 1 4864/5216][Iteration 152][Wall Clock 1047.326092743s] Trained 32.0 records in 6.809670537 seconds. Throughput is 4.6991997 records/second. Loss is 0.08216939. \n"
          ]
        },
        {
          "output_type": "stream",
          "name": "stderr",
          "text": [
            ""
          ]
        },
        {
          "output_type": "stream",
          "name": "stdout",
          "text": [
            "22-02-10 22:03:23 [Thread-4] INFO  DistriOptimizer$:430 - [Epoch 1 4896/5216][Iteration 153][Wall Clock 1054.120556031s] Trained 32.0 records in 6.794463288 seconds. Throughput is 4.7097173 records/second. Loss is 0.07741855. \n"
          ]
        },
        {
          "output_type": "stream",
          "name": "stderr",
          "text": [
            ""
          ]
        },
        {
          "output_type": "stream",
          "name": "stdout",
          "text": [
            "22-02-10 22:03:29 [Thread-4] INFO  DistriOptimizer$:430 - [Epoch 1 4928/5216][Iteration 154][Wall Clock 1060.852311018s] Trained 32.0 records in 6.731754987 seconds. Throughput is 4.7535896 records/second. Loss is 0.2626429. \n"
          ]
        },
        {
          "output_type": "stream",
          "name": "stderr",
          "text": [
            ""
          ]
        },
        {
          "output_type": "stream",
          "name": "stdout",
          "text": [
            "22-02-10 22:03:36 [Thread-4] INFO  DistriOptimizer$:430 - [Epoch 1 4960/5216][Iteration 155][Wall Clock 1067.612095532s] Trained 32.0 records in 6.759784514 seconds. Throughput is 4.7338786 records/second. Loss is 0.07869965. \n"
          ]
        },
        {
          "output_type": "stream",
          "name": "stderr",
          "text": [
            ""
          ]
        },
        {
          "output_type": "stream",
          "name": "stdout",
          "text": [
            "22-02-10 22:03:43 [Thread-4] INFO  DistriOptimizer$:430 - [Epoch 1 4992/5216][Iteration 156][Wall Clock 1074.320605472s] Trained 32.0 records in 6.70850994 seconds. Throughput is 4.7700605 records/second. Loss is 0.093527876. \n"
          ]
        },
        {
          "output_type": "stream",
          "name": "stderr",
          "text": [
            ""
          ]
        },
        {
          "output_type": "stream",
          "name": "stdout",
          "text": [
            "22-02-10 22:03:50 [Thread-4] INFO  DistriOptimizer$:430 - [Epoch 1 5024/5216][Iteration 157][Wall Clock 1081.079708425s] Trained 32.0 records in 6.759102953 seconds. Throughput is 4.734356 records/second. Loss is 0.15742125. \n"
          ]
        },
        {
          "output_type": "stream",
          "name": "stderr",
          "text": [
            ""
          ]
        },
        {
          "output_type": "stream",
          "name": "stdout",
          "text": [
            "22-02-10 22:03:56 [Thread-4] INFO  DistriOptimizer$:430 - [Epoch 1 5056/5216][Iteration 158][Wall Clock 1087.782810616s] Trained 32.0 records in 6.703102191 seconds. Throughput is 4.773909 records/second. Loss is 0.04349641. \n"
          ]
        },
        {
          "output_type": "stream",
          "name": "stderr",
          "text": [
            ""
          ]
        },
        {
          "output_type": "stream",
          "name": "stdout",
          "text": [
            "22-02-10 22:04:03 [Thread-4] INFO  DistriOptimizer$:430 - [Epoch 1 5088/5216][Iteration 159][Wall Clock 1094.577397916s] Trained 32.0 records in 6.7945873 seconds. Throughput is 4.7096314 records/second. Loss is 0.078870356. \n"
          ]
        },
        {
          "output_type": "stream",
          "name": "stderr",
          "text": [
            ""
          ]
        },
        {
          "output_type": "stream",
          "name": "stdout",
          "text": [
            "22-02-10 22:04:10 [Thread-4] INFO  DistriOptimizer$:430 - [Epoch 1 5120/5216][Iteration 160][Wall Clock 1101.370426085s] Trained 32.0 records in 6.793028169 seconds. Throughput is 4.710712 records/second. Loss is 0.04059176. \n"
          ]
        },
        {
          "output_type": "stream",
          "name": "stderr",
          "text": [
            ""
          ]
        },
        {
          "output_type": "stream",
          "name": "stdout",
          "text": [
            "22-02-10 22:04:17 [Thread-4] INFO  DistriOptimizer$:430 - [Epoch 1 5152/5216][Iteration 161][Wall Clock 1108.111915812s] Trained 32.0 records in 6.741489727 seconds. Throughput is 4.746725 records/second. Loss is 0.041039396. \n"
          ]
        },
        {
          "output_type": "stream",
          "name": "stderr",
          "text": [
            ""
          ]
        },
        {
          "output_type": "stream",
          "name": "stdout",
          "text": [
            "22-02-10 22:04:23 [Thread-4] INFO  DistriOptimizer$:430 - [Epoch 1 5184/5216][Iteration 162][Wall Clock 1114.791108766s] Trained 32.0 records in 6.679192954 seconds. Throughput is 4.790998 records/second. Loss is 0.05375761. \n"
          ]
        },
        {
          "output_type": "stream",
          "name": "stderr",
          "text": [
            ""
          ]
        },
        {
          "output_type": "stream",
          "name": "stdout",
          "text": [
            "22-02-10 22:04:30 [Thread-4] INFO  DistriOptimizer$:430 - [Epoch 1 5216/5216][Iteration 163][Wall Clock 1121.554214669s] Trained 32.0 records in 6.763105903 seconds. Throughput is 4.731554 records/second. Loss is 0.059842613. \n",
            "22-02-10 22:04:30 [Thread-4] INFO  DistriOptimizer$:475 - [Epoch 1 5216/5216][Iteration 163][Wall Clock 1121.554214669s] Epoch finished. Wall clock time is 1127524.834879 ms\n",
            "22-02-10 22:04:30 [Thread-4] INFO  DistriOptimizer$:112 - [Epoch 1 5216/5216][Iteration 163][Wall Clock 1121.554214669s] Validate model...\n"
          ]
        },
        {
          "output_type": "stream",
          "name": "stderr",
          "text": [
            ""
          ]
        },
        {
          "output_type": "stream",
          "name": "stdout",
          "text": [
            "22-02-10 22:06:12 [Thread-4] INFO  DistriOptimizer$:178 - [Epoch 1 5216/5216][Iteration 163][Wall Clock 1121.554214669s] validate model throughput is 6.1448555 records/second\n",
            "22-02-10 22:06:12 [Thread-4] INFO  DistriOptimizer$:181 - [Epoch 1 5216/5216][Iteration 163][Wall Clock 1121.554214669s] Top1Accuracy is Accuracy(correct: 404, count: 624, accuracy: 0.6474358974358975)\n"
          ]
        },
        {
          "output_type": "stream",
          "name": "stderr",
          "text": [
            ""
          ]
        },
        {
          "output_type": "stream",
          "name": "stdout",
          "text": [
            "22-02-10 22:06:18 [Thread-4] INFO  DistriOptimizer$:430 - [Epoch 2 32/5216][Iteration 164][Wall Clock 1134.273668244s] Trained 32.0 records in 6.748833365 seconds. Throughput is 4.7415605 records/second. Loss is 0.054734804. \n"
          ]
        },
        {
          "output_type": "stream",
          "name": "stderr",
          "text": [
            ""
          ]
        },
        {
          "output_type": "stream",
          "name": "stdout",
          "text": [
            "22-02-10 22:06:25 [Thread-4] INFO  DistriOptimizer$:430 - [Epoch 2 64/5216][Iteration 165][Wall Clock 1140.965908117s] Trained 32.0 records in 6.692239873 seconds. Throughput is 4.7816577 records/second. Loss is 0.10637416. \n"
          ]
        },
        {
          "output_type": "stream",
          "name": "stderr",
          "text": [
            ""
          ]
        },
        {
          "output_type": "stream",
          "name": "stdout",
          "text": [
            "22-02-10 22:06:32 [Thread-4] INFO  DistriOptimizer$:430 - [Epoch 2 96/5216][Iteration 166][Wall Clock 1147.765643725s] Trained 32.0 records in 6.799735608 seconds. Throughput is 4.706065 records/second. Loss is 0.06186908. \n"
          ]
        },
        {
          "output_type": "stream",
          "name": "stderr",
          "text": [
            ""
          ]
        },
        {
          "output_type": "stream",
          "name": "stdout",
          "text": [
            "22-02-10 22:06:39 [Thread-4] INFO  DistriOptimizer$:430 - [Epoch 2 128/5216][Iteration 167][Wall Clock 1154.540941597s] Trained 32.0 records in 6.775297872 seconds. Throughput is 4.7230396 records/second. Loss is 0.03976368. \n"
          ]
        },
        {
          "output_type": "stream",
          "name": "stderr",
          "text": [
            ""
          ]
        },
        {
          "output_type": "stream",
          "name": "stdout",
          "text": [
            "22-02-10 22:06:45 [Thread-4] INFO  DistriOptimizer$:430 - [Epoch 2 160/5216][Iteration 168][Wall Clock 1161.235367919s] Trained 32.0 records in 6.694426322 seconds. Throughput is 4.7800956 records/second. Loss is 0.048289426. \n"
          ]
        },
        {
          "output_type": "stream",
          "name": "stderr",
          "text": [
            ""
          ]
        },
        {
          "output_type": "stream",
          "name": "stdout",
          "text": [
            "22-02-10 22:06:52 [Thread-4] INFO  DistriOptimizer$:430 - [Epoch 2 192/5216][Iteration 169][Wall Clock 1167.997214223s] Trained 32.0 records in 6.761846304 seconds. Throughput is 4.732435 records/second. Loss is 0.05610858. \n"
          ]
        },
        {
          "output_type": "stream",
          "name": "stderr",
          "text": [
            ""
          ]
        },
        {
          "output_type": "stream",
          "name": "stdout",
          "text": [
            "22-02-10 22:06:59 [Thread-4] INFO  DistriOptimizer$:430 - [Epoch 2 224/5216][Iteration 170][Wall Clock 1174.688523385s] Trained 32.0 records in 6.691309162 seconds. Throughput is 4.782323 records/second. Loss is 0.3479316. \n"
          ]
        },
        {
          "output_type": "stream",
          "name": "stderr",
          "text": [
            ""
          ]
        },
        {
          "output_type": "stream",
          "name": "stdout",
          "text": [
            "22-02-10 22:07:06 [Thread-4] INFO  DistriOptimizer$:430 - [Epoch 2 256/5216][Iteration 171][Wall Clock 1181.413911663s] Trained 32.0 records in 6.725388278 seconds. Throughput is 4.7580895 records/second. Loss is 0.04353298. \n"
          ]
        },
        {
          "output_type": "stream",
          "name": "stderr",
          "text": [
            ""
          ]
        },
        {
          "output_type": "stream",
          "name": "stdout",
          "text": [
            "22-02-10 22:07:12 [Thread-4] INFO  DistriOptimizer$:430 - [Epoch 2 288/5216][Iteration 172][Wall Clock 1188.099443836s] Trained 32.0 records in 6.685532173 seconds. Throughput is 4.786455 records/second. Loss is 0.06224461. \n"
          ]
        },
        {
          "output_type": "stream",
          "name": "stderr",
          "text": [
            ""
          ]
        },
        {
          "output_type": "stream",
          "name": "stdout",
          "text": [
            "22-02-10 22:07:19 [Thread-4] INFO  DistriOptimizer$:430 - [Epoch 2 320/5216][Iteration 173][Wall Clock 1194.85678389s] Trained 32.0 records in 6.757340054 seconds. Throughput is 4.7355914 records/second. Loss is 0.0697163. \n"
          ]
        },
        {
          "output_type": "stream",
          "name": "stderr",
          "text": [
            ""
          ]
        },
        {
          "output_type": "stream",
          "name": "stdout",
          "text": [
            "22-02-10 22:07:26 [Thread-4] INFO  DistriOptimizer$:430 - [Epoch 2 352/5216][Iteration 174][Wall Clock 1201.603889785s] Trained 32.0 records in 6.747105895 seconds. Throughput is 4.742774 records/second. Loss is 0.057634998. \n"
          ]
        },
        {
          "output_type": "stream",
          "name": "stderr",
          "text": [
            ""
          ]
        },
        {
          "output_type": "stream",
          "name": "stdout",
          "text": [
            "22-02-10 22:07:33 [Thread-4] INFO  DistriOptimizer$:430 - [Epoch 2 384/5216][Iteration 175][Wall Clock 1208.333147672s] Trained 32.0 records in 6.729257887 seconds. Throughput is 4.7553535 records/second. Loss is 0.06809784. \n"
          ]
        },
        {
          "output_type": "stream",
          "name": "stderr",
          "text": [
            ""
          ]
        },
        {
          "output_type": "stream",
          "name": "stdout",
          "text": [
            "22-02-10 22:07:39 [Thread-4] INFO  DistriOptimizer$:430 - [Epoch 2 416/5216][Iteration 176][Wall Clock 1215.066628159s] Trained 32.0 records in 6.733480487 seconds. Throughput is 4.7523713 records/second. Loss is 0.11933737. \n"
          ]
        },
        {
          "output_type": "stream",
          "name": "stderr",
          "text": [
            ""
          ]
        },
        {
          "output_type": "stream",
          "name": "stdout",
          "text": [
            "22-02-10 22:07:46 [Thread-4] INFO  DistriOptimizer$:430 - [Epoch 2 448/5216][Iteration 177][Wall Clock 1221.758365541s] Trained 32.0 records in 6.691737382 seconds. Throughput is 4.7820168 records/second. Loss is 0.031336. \n"
          ]
        },
        {
          "output_type": "stream",
          "name": "stderr",
          "text": [
            ""
          ]
        },
        {
          "output_type": "stream",
          "name": "stdout",
          "text": [
            "22-02-10 22:07:53 [Thread-4] INFO  DistriOptimizer$:430 - [Epoch 2 480/5216][Iteration 178][Wall Clock 1228.463282302s] Trained 32.0 records in 6.704916761 seconds. Throughput is 4.772617 records/second. Loss is 0.1301704. \n"
          ]
        },
        {
          "output_type": "stream",
          "name": "stderr",
          "text": [
            ""
          ]
        },
        {
          "output_type": "stream",
          "name": "stdout",
          "text": [
            "22-02-10 22:07:59 [Thread-4] INFO  DistriOptimizer$:430 - [Epoch 2 512/5216][Iteration 179][Wall Clock 1235.242561932s] Trained 32.0 records in 6.77927963 seconds. Throughput is 4.7202654 records/second. Loss is 0.051530637. \n"
          ]
        },
        {
          "output_type": "stream",
          "name": "stderr",
          "text": [
            ""
          ]
        },
        {
          "output_type": "stream",
          "name": "stdout",
          "text": [
            "22-02-10 22:08:06 [Thread-4] INFO  DistriOptimizer$:430 - [Epoch 2 544/5216][Iteration 180][Wall Clock 1241.965783131s] Trained 32.0 records in 6.723221199 seconds. Throughput is 4.759623 records/second. Loss is 0.04075704. \n"
          ]
        },
        {
          "output_type": "stream",
          "name": "stderr",
          "text": [
            ""
          ]
        },
        {
          "output_type": "stream",
          "name": "stdout",
          "text": [
            "22-02-10 22:08:13 [Thread-4] INFO  DistriOptimizer$:430 - [Epoch 2 576/5216][Iteration 181][Wall Clock 1248.669990151s] Trained 32.0 records in 6.70420702 seconds. Throughput is 4.7731223 records/second. Loss is 0.03940622. \n"
          ]
        },
        {
          "output_type": "stream",
          "name": "stderr",
          "text": [
            ""
          ]
        },
        {
          "output_type": "stream",
          "name": "stdout",
          "text": [
            "22-02-10 22:08:20 [Thread-4] INFO  DistriOptimizer$:430 - [Epoch 2 608/5216][Iteration 182][Wall Clock 1255.372045812s] Trained 32.0 records in 6.702055661 seconds. Throughput is 4.7746544 records/second. Loss is 0.091302186. \n"
          ]
        },
        {
          "output_type": "stream",
          "name": "stderr",
          "text": [
            ""
          ]
        },
        {
          "output_type": "stream",
          "name": "stdout",
          "text": [
            "22-02-10 22:08:26 [Thread-4] INFO  DistriOptimizer$:430 - [Epoch 2 640/5216][Iteration 183][Wall Clock 1262.007832872s] Trained 32.0 records in 6.63578706 seconds. Throughput is 4.8223367 records/second. Loss is 0.06382078. \n"
          ]
        },
        {
          "output_type": "stream",
          "name": "stderr",
          "text": [
            ""
          ]
        },
        {
          "output_type": "stream",
          "name": "stdout",
          "text": [
            "22-02-10 22:08:33 [Thread-4] INFO  DistriOptimizer$:430 - [Epoch 2 672/5216][Iteration 184][Wall Clock 1268.645879471s] Trained 32.0 records in 6.638046599 seconds. Throughput is 4.8206954 records/second. Loss is 0.03389951. \n"
          ]
        },
        {
          "output_type": "stream",
          "name": "stderr",
          "text": [
            ""
          ]
        },
        {
          "output_type": "stream",
          "name": "stdout",
          "text": [
            "22-02-10 22:08:40 [Thread-4] INFO  DistriOptimizer$:430 - [Epoch 2 704/5216][Iteration 185][Wall Clock 1275.32009067s] Trained 32.0 records in 6.674211199 seconds. Throughput is 4.7945743 records/second. Loss is 0.16956674. \n"
          ]
        },
        {
          "output_type": "stream",
          "name": "stderr",
          "text": [
            ""
          ]
        },
        {
          "output_type": "stream",
          "name": "stdout",
          "text": [
            "22-02-10 22:08:46 [Thread-4] INFO  DistriOptimizer$:430 - [Epoch 2 736/5216][Iteration 186][Wall Clock 1282.052184831s] Trained 32.0 records in 6.732094161 seconds. Throughput is 4.75335 records/second. Loss is 0.07228024. \n"
          ]
        },
        {
          "output_type": "stream",
          "name": "stderr",
          "text": [
            ""
          ]
        },
        {
          "output_type": "stream",
          "name": "stdout",
          "text": [
            "22-02-10 22:08:53 [Thread-4] INFO  DistriOptimizer$:430 - [Epoch 2 768/5216][Iteration 187][Wall Clock 1288.712290281s] Trained 32.0 records in 6.66010545 seconds. Throughput is 4.804729 records/second. Loss is 0.055083573. \n"
          ]
        },
        {
          "output_type": "stream",
          "name": "stderr",
          "text": [
            ""
          ]
        },
        {
          "output_type": "stream",
          "name": "stdout",
          "text": [
            "22-02-10 22:09:00 [Thread-4] INFO  DistriOptimizer$:430 - [Epoch 2 800/5216][Iteration 188][Wall Clock 1295.493118066s] Trained 32.0 records in 6.780827785 seconds. Throughput is 4.7191877 records/second. Loss is 0.029722702. \n"
          ]
        },
        {
          "output_type": "stream",
          "name": "stderr",
          "text": [
            ""
          ]
        },
        {
          "output_type": "stream",
          "name": "stdout",
          "text": [
            "22-02-10 22:09:06 [Thread-4] INFO  DistriOptimizer$:430 - [Epoch 2 832/5216][Iteration 189][Wall Clock 1302.252409233s] Trained 32.0 records in 6.759291167 seconds. Throughput is 4.7342243 records/second. Loss is 0.03207023. \n"
          ]
        },
        {
          "output_type": "stream",
          "name": "stderr",
          "text": [
            ""
          ]
        },
        {
          "output_type": "stream",
          "name": "stdout",
          "text": [
            "22-02-10 22:09:13 [Thread-4] INFO  DistriOptimizer$:430 - [Epoch 2 864/5216][Iteration 190][Wall Clock 1309.01838384s] Trained 32.0 records in 6.765974607 seconds. Throughput is 4.729548 records/second. Loss is 0.039159685. \n"
          ]
        },
        {
          "output_type": "stream",
          "name": "stderr",
          "text": [
            ""
          ]
        },
        {
          "output_type": "stream",
          "name": "stdout",
          "text": [
            "22-02-10 22:09:20 [Thread-4] INFO  DistriOptimizer$:430 - [Epoch 2 896/5216][Iteration 191][Wall Clock 1315.75699324s] Trained 32.0 records in 6.7386094 seconds. Throughput is 4.7487545 records/second. Loss is 0.067178294. \n"
          ]
        },
        {
          "output_type": "stream",
          "name": "stderr",
          "text": [
            ""
          ]
        },
        {
          "output_type": "stream",
          "name": "stdout",
          "text": [
            "22-02-10 22:09:27 [Thread-4] INFO  DistriOptimizer$:430 - [Epoch 2 928/5216][Iteration 192][Wall Clock 1322.537886275s] Trained 32.0 records in 6.780893035 seconds. Throughput is 4.7191424 records/second. Loss is 0.032825556. \n"
          ]
        },
        {
          "output_type": "stream",
          "name": "stderr",
          "text": [
            ""
          ]
        },
        {
          "output_type": "stream",
          "name": "stdout",
          "text": [
            "22-02-10 22:09:34 [Thread-4] INFO  DistriOptimizer$:430 - [Epoch 2 960/5216][Iteration 193][Wall Clock 1329.310162991s] Trained 32.0 records in 6.772276716 seconds. Throughput is 4.7251463 records/second. Loss is 0.15694778. \n"
          ]
        },
        {
          "output_type": "stream",
          "name": "stderr",
          "text": [
            ""
          ]
        },
        {
          "output_type": "stream",
          "name": "stdout",
          "text": [
            "22-02-10 22:09:40 [Thread-4] INFO  DistriOptimizer$:430 - [Epoch 2 992/5216][Iteration 194][Wall Clock 1335.966928802s] Trained 32.0 records in 6.656765811 seconds. Throughput is 4.807139 records/second. Loss is 0.055101987. \n"
          ]
        },
        {
          "output_type": "stream",
          "name": "stderr",
          "text": [
            ""
          ]
        },
        {
          "output_type": "stream",
          "name": "stdout",
          "text": [
            "22-02-10 22:09:47 [Thread-4] INFO  DistriOptimizer$:430 - [Epoch 2 1024/5216][Iteration 195][Wall Clock 1342.712421841s] Trained 32.0 records in 6.745493039 seconds. Throughput is 4.7439084 records/second. Loss is 0.13609813. \n"
          ]
        },
        {
          "output_type": "stream",
          "name": "stderr",
          "text": [
            ""
          ]
        },
        {
          "output_type": "stream",
          "name": "stdout",
          "text": [
            "22-02-10 22:09:54 [Thread-4] INFO  DistriOptimizer$:430 - [Epoch 2 1056/5216][Iteration 196][Wall Clock 1349.500486955s] Trained 32.0 records in 6.788065114 seconds. Throughput is 4.7141566 records/second. Loss is 0.0583543. \n"
          ]
        },
        {
          "output_type": "stream",
          "name": "stderr",
          "text": [
            ""
          ]
        },
        {
          "output_type": "stream",
          "name": "stdout",
          "text": [
            "22-02-10 22:10:00 [Thread-4] INFO  DistriOptimizer$:430 - [Epoch 2 1088/5216][Iteration 197][Wall Clock 1356.238547285s] Trained 32.0 records in 6.73806033 seconds. Throughput is 4.749141 records/second. Loss is 0.029106714. \n"
          ]
        },
        {
          "output_type": "stream",
          "name": "stderr",
          "text": [
            ""
          ]
        },
        {
          "output_type": "stream",
          "name": "stdout",
          "text": [
            "22-02-10 22:10:07 [Thread-4] INFO  DistriOptimizer$:430 - [Epoch 2 1120/5216][Iteration 198][Wall Clock 1362.892775037s] Trained 32.0 records in 6.654227752 seconds. Throughput is 4.808973 records/second. Loss is 0.035754457. \n"
          ]
        },
        {
          "output_type": "stream",
          "name": "stderr",
          "text": [
            ""
          ]
        },
        {
          "output_type": "stream",
          "name": "stdout",
          "text": [
            "22-02-10 22:10:14 [Thread-4] INFO  DistriOptimizer$:430 - [Epoch 2 1152/5216][Iteration 199][Wall Clock 1369.656477513s] Trained 32.0 records in 6.763702476 seconds. Throughput is 4.731137 records/second. Loss is 0.046034694. \n"
          ]
        },
        {
          "output_type": "stream",
          "name": "stderr",
          "text": [
            ""
          ]
        },
        {
          "output_type": "stream",
          "name": "stdout",
          "text": [
            "22-02-10 22:10:21 [Thread-4] INFO  DistriOptimizer$:430 - [Epoch 2 1184/5216][Iteration 200][Wall Clock 1376.377429796s] Trained 32.0 records in 6.720952283 seconds. Throughput is 4.76123 records/second. Loss is 0.03228614. \n"
          ]
        },
        {
          "output_type": "stream",
          "name": "stderr",
          "text": [
            ""
          ]
        },
        {
          "output_type": "stream",
          "name": "stdout",
          "text": [
            "22-02-10 22:10:27 [Thread-4] INFO  DistriOptimizer$:430 - [Epoch 2 1216/5216][Iteration 201][Wall Clock 1383.150826202s] Trained 32.0 records in 6.773396406 seconds. Throughput is 4.724365 records/second. Loss is 0.043486226. \n"
          ]
        },
        {
          "output_type": "stream",
          "name": "stderr",
          "text": [
            ""
          ]
        },
        {
          "output_type": "stream",
          "name": "stdout",
          "text": [
            "22-02-10 22:10:34 [Thread-4] INFO  DistriOptimizer$:430 - [Epoch 2 1248/5216][Iteration 202][Wall Clock 1389.824220951s] Trained 32.0 records in 6.673394749 seconds. Throughput is 4.795161 records/second. Loss is 0.049988642. \n"
          ]
        },
        {
          "output_type": "stream",
          "name": "stderr",
          "text": [
            ""
          ]
        },
        {
          "output_type": "stream",
          "name": "stdout",
          "text": [
            "22-02-10 22:10:41 [Thread-4] INFO  DistriOptimizer$:430 - [Epoch 2 1280/5216][Iteration 203][Wall Clock 1396.582125549s] Trained 32.0 records in 6.757904598 seconds. Throughput is 4.7351956 records/second. Loss is 0.05529841. \n"
          ]
        },
        {
          "output_type": "stream",
          "name": "stderr",
          "text": [
            ""
          ]
        },
        {
          "output_type": "stream",
          "name": "stdout",
          "text": [
            "22-02-10 22:10:48 [Thread-4] INFO  DistriOptimizer$:430 - [Epoch 2 1312/5216][Iteration 204][Wall Clock 1403.31175064s] Trained 32.0 records in 6.729625091 seconds. Throughput is 4.755094 records/second. Loss is 0.09950498. \n"
          ]
        },
        {
          "output_type": "stream",
          "name": "stderr",
          "text": [
            ""
          ]
        },
        {
          "output_type": "stream",
          "name": "stdout",
          "text": [
            "22-02-10 22:10:54 [Thread-4] INFO  DistriOptimizer$:430 - [Epoch 2 1344/5216][Iteration 205][Wall Clock 1410.081862016s] Trained 32.0 records in 6.770111376 seconds. Throughput is 4.726658 records/second. Loss is 0.048566222. \n"
          ]
        },
        {
          "output_type": "stream",
          "name": "stderr",
          "text": [
            ""
          ]
        },
        {
          "output_type": "stream",
          "name": "stdout",
          "text": [
            "22-02-10 22:11:01 [Thread-4] INFO  DistriOptimizer$:430 - [Epoch 2 1376/5216][Iteration 206][Wall Clock 1416.79208471s] Trained 32.0 records in 6.710222694 seconds. Throughput is 4.768843 records/second. Loss is 0.1152859. \n"
          ]
        },
        {
          "output_type": "stream",
          "name": "stderr",
          "text": [
            ""
          ]
        },
        {
          "output_type": "stream",
          "name": "stdout",
          "text": [
            "22-02-10 22:11:08 [Thread-4] INFO  DistriOptimizer$:430 - [Epoch 2 1408/5216][Iteration 207][Wall Clock 1423.502216374s] Trained 32.0 records in 6.710131664 seconds. Throughput is 4.768908 records/second. Loss is 0.2416677. \n"
          ]
        },
        {
          "output_type": "stream",
          "name": "stderr",
          "text": [
            ""
          ]
        },
        {
          "output_type": "stream",
          "name": "stdout",
          "text": [
            "22-02-10 22:11:14 [Thread-4] INFO  DistriOptimizer$:430 - [Epoch 2 1440/5216][Iteration 208][Wall Clock 1430.213018097s] Trained 32.0 records in 6.710801723 seconds. Throughput is 4.7684317 records/second. Loss is 0.06569219. \n"
          ]
        },
        {
          "output_type": "stream",
          "name": "stderr",
          "text": [
            ""
          ]
        },
        {
          "output_type": "stream",
          "name": "stdout",
          "text": [
            "22-02-10 22:11:21 [Thread-4] INFO  DistriOptimizer$:430 - [Epoch 2 1472/5216][Iteration 209][Wall Clock 1436.888735726s] Trained 32.0 records in 6.675717629 seconds. Throughput is 4.793492 records/second. Loss is 0.055820663. \n"
          ]
        },
        {
          "output_type": "stream",
          "name": "stderr",
          "text": [
            ""
          ]
        },
        {
          "output_type": "stream",
          "name": "stdout",
          "text": [
            "22-02-10 22:11:28 [Thread-4] INFO  DistriOptimizer$:430 - [Epoch 2 1504/5216][Iteration 210][Wall Clock 1443.623574487s] Trained 32.0 records in 6.734838761 seconds. Throughput is 4.751413 records/second. Loss is 0.03864559. \n"
          ]
        },
        {
          "output_type": "stream",
          "name": "stderr",
          "text": [
            ""
          ]
        },
        {
          "output_type": "stream",
          "name": "stdout",
          "text": [
            "22-02-10 22:11:35 [Thread-4] INFO  DistriOptimizer$:430 - [Epoch 2 1536/5216][Iteration 211][Wall Clock 1450.404357542s] Trained 32.0 records in 6.780783055 seconds. Throughput is 4.7192187 records/second. Loss is 0.060453054. \n"
          ]
        },
        {
          "output_type": "stream",
          "name": "stderr",
          "text": [
            ""
          ]
        },
        {
          "output_type": "stream",
          "name": "stdout",
          "text": [
            "22-02-10 22:11:41 [Thread-4] INFO  DistriOptimizer$:430 - [Epoch 2 1568/5216][Iteration 212][Wall Clock 1457.051590934s] Trained 32.0 records in 6.647233392 seconds. Throughput is 4.814033 records/second. Loss is 0.05805398. \n"
          ]
        },
        {
          "output_type": "stream",
          "name": "stderr",
          "text": [
            ""
          ]
        },
        {
          "output_type": "stream",
          "name": "stdout",
          "text": [
            "22-02-10 22:11:48 [Thread-4] INFO  DistriOptimizer$:430 - [Epoch 2 1600/5216][Iteration 213][Wall Clock 1463.773017707s] Trained 32.0 records in 6.721426773 seconds. Throughput is 4.760894 records/second. Loss is 0.055497084. \n"
          ]
        },
        {
          "output_type": "stream",
          "name": "stderr",
          "text": [
            ""
          ]
        },
        {
          "output_type": "stream",
          "name": "stdout",
          "text": [
            "22-02-10 22:11:55 [Thread-4] INFO  DistriOptimizer$:430 - [Epoch 2 1632/5216][Iteration 214][Wall Clock 1470.516832106s] Trained 32.0 records in 6.743814399 seconds. Throughput is 4.745089 records/second. Loss is 0.038889542. \n"
          ]
        },
        {
          "output_type": "stream",
          "name": "stderr",
          "text": [
            ""
          ]
        },
        {
          "output_type": "stream",
          "name": "stdout",
          "text": [
            "22-02-10 22:12:02 [Thread-4] INFO  DistriOptimizer$:430 - [Epoch 2 1664/5216][Iteration 215][Wall Clock 1477.38424505s] Trained 32.0 records in 6.867412944 seconds. Throughput is 4.6596875 records/second. Loss is 0.03774552. \n"
          ]
        },
        {
          "output_type": "stream",
          "name": "stderr",
          "text": [
            ""
          ]
        },
        {
          "output_type": "stream",
          "name": "stdout",
          "text": [
            "22-02-10 22:12:08 [Thread-4] INFO  DistriOptimizer$:430 - [Epoch 2 1696/5216][Iteration 216][Wall Clock 1484.150667477s] Trained 32.0 records in 6.766422427 seconds. Throughput is 4.7292347 records/second. Loss is 0.046205066. \n"
          ]
        },
        {
          "output_type": "stream",
          "name": "stderr",
          "text": [
            ""
          ]
        },
        {
          "output_type": "stream",
          "name": "stdout",
          "text": [
            "22-02-10 22:12:15 [Thread-4] INFO  DistriOptimizer$:430 - [Epoch 2 1728/5216][Iteration 217][Wall Clock 1490.811895297s] Trained 32.0 records in 6.66122782 seconds. Throughput is 4.8039193 records/second. Loss is 0.0330094. \n"
          ]
        },
        {
          "output_type": "stream",
          "name": "stderr",
          "text": [
            ""
          ]
        },
        {
          "output_type": "stream",
          "name": "stdout",
          "text": [
            "22-02-10 22:12:22 [Thread-4] INFO  DistriOptimizer$:430 - [Epoch 2 1760/5216][Iteration 218][Wall Clock 1497.579142284s] Trained 32.0 records in 6.767246987 seconds. Throughput is 4.728658 records/second. Loss is 0.061001375. \n"
          ]
        },
        {
          "output_type": "stream",
          "name": "stderr",
          "text": [
            ""
          ]
        },
        {
          "output_type": "stream",
          "name": "stdout",
          "text": [
            "22-02-10 22:12:29 [Thread-4] INFO  DistriOptimizer$:430 - [Epoch 2 1792/5216][Iteration 219][Wall Clock 1504.303488896s] Trained 32.0 records in 6.724346612 seconds. Throughput is 4.7588267 records/second. Loss is 0.027015787. \n"
          ]
        },
        {
          "output_type": "stream",
          "name": "stderr",
          "text": [
            ""
          ]
        },
        {
          "output_type": "stream",
          "name": "stdout",
          "text": [
            "22-02-10 22:12:35 [Thread-4] INFO  DistriOptimizer$:430 - [Epoch 2 1824/5216][Iteration 220][Wall Clock 1510.978417974s] Trained 32.0 records in 6.674929078 seconds. Throughput is 4.7940583 records/second. Loss is 0.12283087. \n"
          ]
        },
        {
          "output_type": "stream",
          "name": "stderr",
          "text": [
            ""
          ]
        },
        {
          "output_type": "stream",
          "name": "stdout",
          "text": [
            "22-02-10 22:12:42 [Thread-4] INFO  DistriOptimizer$:430 - [Epoch 2 1856/5216][Iteration 221][Wall Clock 1517.677838539s] Trained 32.0 records in 6.699420565 seconds. Throughput is 4.7765326 records/second. Loss is 0.09080452. \n"
          ]
        },
        {
          "output_type": "stream",
          "name": "stderr",
          "text": [
            ""
          ]
        },
        {
          "output_type": "stream",
          "name": "stdout",
          "text": [
            "22-02-10 22:12:49 [Thread-4] INFO  DistriOptimizer$:430 - [Epoch 2 1888/5216][Iteration 222][Wall Clock 1524.283433417s] Trained 32.0 records in 6.605594878 seconds. Throughput is 4.844378 records/second. Loss is 0.02359111. \n"
          ]
        },
        {
          "output_type": "stream",
          "name": "stderr",
          "text": [
            ""
          ]
        },
        {
          "output_type": "stream",
          "name": "stdout",
          "text": [
            "22-02-10 22:12:55 [Thread-4] INFO  DistriOptimizer$:430 - [Epoch 2 1920/5216][Iteration 223][Wall Clock 1530.965340204s] Trained 32.0 records in 6.681906787 seconds. Throughput is 4.789052 records/second. Loss is 0.028524905. \n"
          ]
        },
        {
          "output_type": "stream",
          "name": "stderr",
          "text": [
            ""
          ]
        },
        {
          "output_type": "stream",
          "name": "stdout",
          "text": [
            "22-02-10 22:13:02 [Thread-4] INFO  DistriOptimizer$:430 - [Epoch 2 1952/5216][Iteration 224][Wall Clock 1537.708045814s] Trained 32.0 records in 6.74270561 seconds. Throughput is 4.745869 records/second. Loss is 0.17805855. \n"
          ]
        },
        {
          "output_type": "stream",
          "name": "stderr",
          "text": [
            ""
          ]
        },
        {
          "output_type": "stream",
          "name": "stdout",
          "text": [
            "22-02-10 22:13:09 [Thread-4] INFO  DistriOptimizer$:430 - [Epoch 2 1984/5216][Iteration 225][Wall Clock 1544.454680503s] Trained 32.0 records in 6.746634689 seconds. Throughput is 4.7431054 records/second. Loss is 0.24332428. \n"
          ]
        },
        {
          "output_type": "stream",
          "name": "stderr",
          "text": [
            ""
          ]
        },
        {
          "output_type": "stream",
          "name": "stdout",
          "text": [
            "22-02-10 22:13:15 [Thread-4] INFO  DistriOptimizer$:430 - [Epoch 2 2016/5216][Iteration 226][Wall Clock 1551.126635792s] Trained 32.0 records in 6.671955289 seconds. Throughput is 4.7961955 records/second. Loss is 0.039940715. \n"
          ]
        },
        {
          "output_type": "stream",
          "name": "stderr",
          "text": [
            ""
          ]
        },
        {
          "output_type": "stream",
          "name": "stdout",
          "text": [
            "22-02-10 22:13:22 [Thread-4] INFO  DistriOptimizer$:430 - [Epoch 2 2048/5216][Iteration 227][Wall Clock 1557.847741925s] Trained 32.0 records in 6.721106133 seconds. Throughput is 4.7611213 records/second. Loss is 0.019942332. \n"
          ]
        },
        {
          "output_type": "stream",
          "name": "stderr",
          "text": [
            ""
          ]
        },
        {
          "output_type": "stream",
          "name": "stdout",
          "text": [
            "22-02-10 22:13:29 [Thread-4] INFO  DistriOptimizer$:430 - [Epoch 2 2080/5216][Iteration 228][Wall Clock 1564.520986414s] Trained 32.0 records in 6.673244489 seconds. Throughput is 4.7952685 records/second. Loss is 0.026350595. \n"
          ]
        },
        {
          "output_type": "stream",
          "name": "stderr",
          "text": [
            ""
          ]
        },
        {
          "output_type": "stream",
          "name": "stdout",
          "text": [
            "22-02-10 22:13:36 [Thread-4] INFO  DistriOptimizer$:430 - [Epoch 2 2112/5216][Iteration 229][Wall Clock 1571.379855649s] Trained 32.0 records in 6.858869235 seconds. Throughput is 4.665492 records/second. Loss is 0.0607169. \n"
          ]
        },
        {
          "output_type": "stream",
          "name": "stderr",
          "text": [
            ""
          ]
        },
        {
          "output_type": "stream",
          "name": "stdout",
          "text": [
            "22-02-10 22:13:42 [Thread-4] INFO  DistriOptimizer$:430 - [Epoch 2 2144/5216][Iteration 230][Wall Clock 1578.193939739s] Trained 32.0 records in 6.81408409 seconds. Throughput is 4.6961555 records/second. Loss is 0.18790375. \n"
          ]
        },
        {
          "output_type": "stream",
          "name": "stderr",
          "text": [
            ""
          ]
        },
        {
          "output_type": "stream",
          "name": "stdout",
          "text": [
            "22-02-10 22:13:49 [Thread-4] INFO  DistriOptimizer$:430 - [Epoch 2 2176/5216][Iteration 231][Wall Clock 1584.888451215s] Trained 32.0 records in 6.694511476 seconds. Throughput is 4.780035 records/second. Loss is 0.06759616. \n"
          ]
        },
        {
          "output_type": "stream",
          "name": "stderr",
          "text": [
            ""
          ]
        },
        {
          "output_type": "stream",
          "name": "stdout",
          "text": [
            "22-02-10 22:13:56 [Thread-4] INFO  DistriOptimizer$:430 - [Epoch 2 2208/5216][Iteration 232][Wall Clock 1591.600821358s] Trained 32.0 records in 6.712370143 seconds. Throughput is 4.767318 records/second. Loss is 0.052260593. \n"
          ]
        },
        {
          "output_type": "stream",
          "name": "stderr",
          "text": [
            ""
          ]
        },
        {
          "output_type": "stream",
          "name": "stdout",
          "text": [
            "22-02-10 22:14:03 [Thread-4] INFO  DistriOptimizer$:430 - [Epoch 2 2240/5216][Iteration 233][Wall Clock 1598.346263438s] Trained 32.0 records in 6.74544208 seconds. Throughput is 4.743944 records/second. Loss is 0.052328777. \n"
          ]
        },
        {
          "output_type": "stream",
          "name": "stderr",
          "text": [
            ""
          ]
        },
        {
          "output_type": "stream",
          "name": "stdout",
          "text": [
            "22-02-10 22:14:09 [Thread-4] INFO  DistriOptimizer$:430 - [Epoch 2 2272/5216][Iteration 234][Wall Clock 1605.06733383s] Trained 32.0 records in 6.721070392 seconds. Throughput is 4.7611465 records/second. Loss is 0.028220266. \n"
          ]
        },
        {
          "output_type": "stream",
          "name": "stderr",
          "text": [
            ""
          ]
        },
        {
          "output_type": "stream",
          "name": "stdout",
          "text": [
            "22-02-10 22:14:16 [Thread-4] INFO  DistriOptimizer$:430 - [Epoch 2 2304/5216][Iteration 235][Wall Clock 1611.788666362s] Trained 32.0 records in 6.721332532 seconds. Throughput is 4.7609606 records/second. Loss is 0.060379624. \n"
          ]
        },
        {
          "output_type": "stream",
          "name": "stderr",
          "text": [
            ""
          ]
        },
        {
          "output_type": "stream",
          "name": "stdout",
          "text": [
            "22-02-10 22:14:23 [Thread-4] INFO  DistriOptimizer$:430 - [Epoch 2 2336/5216][Iteration 236][Wall Clock 1618.415896087s] Trained 32.0 records in 6.627229725 seconds. Throughput is 4.8285637 records/second. Loss is 0.24005209. \n"
          ]
        },
        {
          "output_type": "stream",
          "name": "stderr",
          "text": [
            ""
          ]
        },
        {
          "output_type": "stream",
          "name": "stdout",
          "text": [
            "22-02-10 22:14:29 [Thread-4] INFO  DistriOptimizer$:430 - [Epoch 2 2368/5216][Iteration 237][Wall Clock 1625.153758887s] Trained 32.0 records in 6.7378628 seconds. Throughput is 4.7492805 records/second. Loss is 0.13914071. \n"
          ]
        },
        {
          "output_type": "stream",
          "name": "stderr",
          "text": [
            ""
          ]
        },
        {
          "output_type": "stream",
          "name": "stdout",
          "text": [
            "22-02-10 22:14:36 [Thread-4] INFO  DistriOptimizer$:430 - [Epoch 2 2400/5216][Iteration 238][Wall Clock 1631.829330105s] Trained 32.0 records in 6.675571218 seconds. Throughput is 4.793597 records/second. Loss is 0.04872594. \n"
          ]
        },
        {
          "output_type": "stream",
          "name": "stderr",
          "text": [
            ""
          ]
        },
        {
          "output_type": "stream",
          "name": "stdout",
          "text": [
            "22-02-10 22:14:43 [Thread-4] INFO  DistriOptimizer$:430 - [Epoch 2 2432/5216][Iteration 239][Wall Clock 1638.569506515s] Trained 32.0 records in 6.74017641 seconds. Throughput is 4.74765 records/second. Loss is 0.09358146. \n"
          ]
        },
        {
          "output_type": "stream",
          "name": "stderr",
          "text": [
            ""
          ]
        },
        {
          "output_type": "stream",
          "name": "stdout",
          "text": [
            "22-02-10 22:14:49 [Thread-4] INFO  DistriOptimizer$:430 - [Epoch 2 2464/5216][Iteration 240][Wall Clock 1645.246258753s] Trained 32.0 records in 6.676752238 seconds. Throughput is 4.7927494 records/second. Loss is 0.03792737. \n"
          ]
        },
        {
          "output_type": "stream",
          "name": "stderr",
          "text": [
            ""
          ]
        },
        {
          "output_type": "stream",
          "name": "stdout",
          "text": [
            "22-02-10 22:14:56 [Thread-4] INFO  DistriOptimizer$:430 - [Epoch 2 2496/5216][Iteration 241][Wall Clock 1651.987828703s] Trained 32.0 records in 6.74156995 seconds. Throughput is 4.746669 records/second. Loss is 0.039696902. \n"
          ]
        },
        {
          "output_type": "stream",
          "name": "stderr",
          "text": [
            ""
          ]
        },
        {
          "output_type": "stream",
          "name": "stdout",
          "text": [
            "22-02-10 22:15:03 [Thread-4] INFO  DistriOptimizer$:430 - [Epoch 2 2528/5216][Iteration 242][Wall Clock 1658.684211539s] Trained 32.0 records in 6.696382836 seconds. Throughput is 4.7786994 records/second. Loss is 0.028509516. \n"
          ]
        },
        {
          "output_type": "stream",
          "name": "stderr",
          "text": [
            ""
          ]
        },
        {
          "output_type": "stream",
          "name": "stdout",
          "text": [
            "22-02-10 22:15:10 [Thread-4] INFO  DistriOptimizer$:430 - [Epoch 2 2560/5216][Iteration 243][Wall Clock 1665.350753539s] Trained 32.0 records in 6.666542 seconds. Throughput is 4.80009 records/second. Loss is 0.054182403. \n"
          ]
        },
        {
          "output_type": "stream",
          "name": "stderr",
          "text": [
            ""
          ]
        },
        {
          "output_type": "stream",
          "name": "stdout",
          "text": [
            "22-02-10 22:15:16 [Thread-4] INFO  DistriOptimizer$:430 - [Epoch 2 2592/5216][Iteration 244][Wall Clock 1672.098503858s] Trained 32.0 records in 6.747750319 seconds. Throughput is 4.7423215 records/second. Loss is 0.030029643. \n"
          ]
        },
        {
          "output_type": "stream",
          "name": "stderr",
          "text": [
            ""
          ]
        },
        {
          "output_type": "stream",
          "name": "stdout",
          "text": [
            "22-02-10 22:15:23 [Thread-4] INFO  DistriOptimizer$:430 - [Epoch 2 2624/5216][Iteration 245][Wall Clock 1678.801408993s] Trained 32.0 records in 6.702905135 seconds. Throughput is 4.7740493 records/second. Loss is 0.04768407. \n"
          ]
        },
        {
          "output_type": "stream",
          "name": "stderr",
          "text": [
            ""
          ]
        },
        {
          "output_type": "stream",
          "name": "stdout",
          "text": [
            "22-02-10 22:15:30 [Thread-4] INFO  DistriOptimizer$:430 - [Epoch 2 2656/5216][Iteration 246][Wall Clock 1685.552404891s] Trained 32.0 records in 6.750995898 seconds. Throughput is 4.7400413 records/second. Loss is 0.03326167. \n"
          ]
        },
        {
          "output_type": "stream",
          "name": "stderr",
          "text": [
            ""
          ]
        },
        {
          "output_type": "stream",
          "name": "stdout",
          "text": [
            "22-02-10 22:15:37 [Thread-4] INFO  DistriOptimizer$:430 - [Epoch 2 2688/5216][Iteration 247][Wall Clock 1692.287650001s] Trained 32.0 records in 6.73524511 seconds. Throughput is 4.7511263 records/second. Loss is 0.035007305. \n"
          ]
        },
        {
          "output_type": "stream",
          "name": "stderr",
          "text": [
            ""
          ]
        },
        {
          "output_type": "stream",
          "name": "stdout",
          "text": [
            "22-02-10 22:15:43 [Thread-4] INFO  DistriOptimizer$:430 - [Epoch 2 2720/5216][Iteration 248][Wall Clock 1698.974355358s] Trained 32.0 records in 6.686705357 seconds. Throughput is 4.7856154 records/second. Loss is 0.08013898. \n"
          ]
        },
        {
          "output_type": "stream",
          "name": "stderr",
          "text": [
            ""
          ]
        },
        {
          "output_type": "stream",
          "name": "stdout",
          "text": [
            "22-02-10 22:15:50 [Thread-4] INFO  DistriOptimizer$:430 - [Epoch 2 2752/5216][Iteration 249][Wall Clock 1705.738966956s] Trained 32.0 records in 6.764611598 seconds. Throughput is 4.7305007 records/second. Loss is 0.13905539. \n"
          ]
        },
        {
          "output_type": "stream",
          "name": "stderr",
          "text": [
            ""
          ]
        },
        {
          "output_type": "stream",
          "name": "stdout",
          "text": [
            "22-02-10 22:15:57 [Thread-4] INFO  DistriOptimizer$:430 - [Epoch 2 2784/5216][Iteration 250][Wall Clock 1712.434349602s] Trained 32.0 records in 6.695382646 seconds. Throughput is 4.779413 records/second. Loss is 0.026021753. \n"
          ]
        },
        {
          "output_type": "stream",
          "name": "stderr",
          "text": [
            ""
          ]
        },
        {
          "output_type": "stream",
          "name": "stdout",
          "text": [
            "22-02-10 22:16:03 [Thread-4] INFO  DistriOptimizer$:430 - [Epoch 2 2816/5216][Iteration 251][Wall Clock 1719.180325062s] Trained 32.0 records in 6.74597546 seconds. Throughput is 4.743569 records/second. Loss is 0.1869105. \n"
          ]
        },
        {
          "output_type": "stream",
          "name": "stderr",
          "text": [
            ""
          ]
        },
        {
          "output_type": "stream",
          "name": "stdout",
          "text": [
            "22-02-10 22:16:10 [Thread-4] INFO  DistriOptimizer$:430 - [Epoch 2 2848/5216][Iteration 252][Wall Clock 1725.854752332s] Trained 32.0 records in 6.67442727 seconds. Throughput is 4.794419 records/second. Loss is 0.024402078. \n"
          ]
        },
        {
          "output_type": "stream",
          "name": "stderr",
          "text": [
            ""
          ]
        },
        {
          "output_type": "stream",
          "name": "stdout",
          "text": [
            "22-02-10 22:16:17 [Thread-4] INFO  DistriOptimizer$:430 - [Epoch 2 2880/5216][Iteration 253][Wall Clock 1732.560972607s] Trained 32.0 records in 6.706220275 seconds. Throughput is 4.7716894 records/second. Loss is 0.034902662. \n"
          ]
        },
        {
          "output_type": "stream",
          "name": "stderr",
          "text": [
            ""
          ]
        },
        {
          "output_type": "stream",
          "name": "stdout",
          "text": [
            "22-02-10 22:16:24 [Thread-4] INFO  DistriOptimizer$:430 - [Epoch 2 2912/5216][Iteration 254][Wall Clock 1739.2724565s] Trained 32.0 records in 6.711483893 seconds. Throughput is 4.767947 records/second. Loss is 0.06654404. \n"
          ]
        },
        {
          "output_type": "stream",
          "name": "stderr",
          "text": [
            ""
          ]
        },
        {
          "output_type": "stream",
          "name": "stdout",
          "text": [
            "22-02-10 22:16:30 [Thread-4] INFO  DistriOptimizer$:430 - [Epoch 2 2944/5216][Iteration 255][Wall Clock 1745.940964461s] Trained 32.0 records in 6.668507961 seconds. Throughput is 4.7986746 records/second. Loss is 0.14967342. \n"
          ]
        },
        {
          "output_type": "stream",
          "name": "stderr",
          "text": [
            ""
          ]
        },
        {
          "output_type": "stream",
          "name": "stdout",
          "text": [
            "22-02-10 22:16:37 [Thread-4] INFO  DistriOptimizer$:430 - [Epoch 2 2976/5216][Iteration 256][Wall Clock 1752.581416815s] Trained 32.0 records in 6.640452354 seconds. Throughput is 4.8189487 records/second. Loss is 0.083600916. \n"
          ]
        },
        {
          "output_type": "stream",
          "name": "stderr",
          "text": [
            ""
          ]
        },
        {
          "output_type": "stream",
          "name": "stdout",
          "text": [
            "22-02-10 22:16:44 [Thread-4] INFO  DistriOptimizer$:430 - [Epoch 2 3008/5216][Iteration 257][Wall Clock 1759.306806007s] Trained 32.0 records in 6.725389192 seconds. Throughput is 4.758089 records/second. Loss is 0.079755664. \n"
          ]
        },
        {
          "output_type": "stream",
          "name": "stderr",
          "text": [
            ""
          ]
        },
        {
          "output_type": "stream",
          "name": "stdout",
          "text": [
            "22-02-10 22:16:50 [Thread-4] INFO  DistriOptimizer$:430 - [Epoch 2 3040/5216][Iteration 258][Wall Clock 1765.974021237s] Trained 32.0 records in 6.66721523 seconds. Throughput is 4.799605 records/second. Loss is 0.06145911. \n"
          ]
        },
        {
          "output_type": "stream",
          "name": "stderr",
          "text": [
            ""
          ]
        },
        {
          "output_type": "stream",
          "name": "stdout",
          "text": [
            "22-02-10 22:16:57 [Thread-4] INFO  DistriOptimizer$:430 - [Epoch 2 3072/5216][Iteration 259][Wall Clock 1772.658226354s] Trained 32.0 records in 6.684205117 seconds. Throughput is 4.7874055 records/second. Loss is 0.014912148. \n"
          ]
        },
        {
          "output_type": "stream",
          "name": "stderr",
          "text": [
            ""
          ]
        },
        {
          "output_type": "stream",
          "name": "stdout",
          "text": [
            "22-02-10 22:17:04 [Thread-4] INFO  DistriOptimizer$:430 - [Epoch 2 3104/5216][Iteration 260][Wall Clock 1779.508033579s] Trained 32.0 records in 6.849807225 seconds. Throughput is 4.671664 records/second. Loss is 0.03870481. \n"
          ]
        },
        {
          "output_type": "stream",
          "name": "stderr",
          "text": [
            ""
          ]
        },
        {
          "output_type": "stream",
          "name": "stdout",
          "text": [
            "22-02-10 22:17:10 [Thread-4] INFO  DistriOptimizer$:430 - [Epoch 2 3136/5216][Iteration 261][Wall Clock 1786.182107258s] Trained 32.0 records in 6.674073679 seconds. Throughput is 4.794673 records/second. Loss is 0.03249783. \n"
          ]
        },
        {
          "output_type": "stream",
          "name": "stderr",
          "text": [
            ""
          ]
        },
        {
          "output_type": "stream",
          "name": "stdout",
          "text": [
            "22-02-10 22:17:17 [Thread-4] INFO  DistriOptimizer$:430 - [Epoch 2 3168/5216][Iteration 262][Wall Clock 1793.046367602s] Trained 32.0 records in 6.864260344 seconds. Throughput is 4.661828 records/second. Loss is 0.23055264. \n"
          ]
        },
        {
          "output_type": "stream",
          "name": "stderr",
          "text": [
            ""
          ]
        },
        {
          "output_type": "stream",
          "name": "stdout",
          "text": [
            "22-02-10 22:17:24 [Thread-4] INFO  DistriOptimizer$:430 - [Epoch 2 3200/5216][Iteration 263][Wall Clock 1799.843235054s] Trained 32.0 records in 6.796867452 seconds. Throughput is 4.708051 records/second. Loss is 0.032320842. \n"
          ]
        },
        {
          "output_type": "stream",
          "name": "stderr",
          "text": [
            ""
          ]
        },
        {
          "output_type": "stream",
          "name": "stdout",
          "text": [
            "22-02-10 22:17:31 [Thread-4] INFO  DistriOptimizer$:430 - [Epoch 2 3232/5216][Iteration 264][Wall Clock 1806.503550395s] Trained 32.0 records in 6.660315341 seconds. Throughput is 4.8045774 records/second. Loss is 0.08232775. \n"
          ]
        },
        {
          "output_type": "stream",
          "name": "stderr",
          "text": [
            ""
          ]
        },
        {
          "output_type": "stream",
          "name": "stdout",
          "text": [
            "22-02-10 22:17:38 [Thread-4] INFO  DistriOptimizer$:430 - [Epoch 2 3264/5216][Iteration 265][Wall Clock 1813.264386102s] Trained 32.0 records in 6.760835707 seconds. Throughput is 4.733143 records/second. Loss is 0.024289446. \n"
          ]
        },
        {
          "output_type": "stream",
          "name": "stderr",
          "text": [
            ""
          ]
        },
        {
          "output_type": "stream",
          "name": "stdout",
          "text": [
            "22-02-10 22:17:44 [Thread-4] INFO  DistriOptimizer$:430 - [Epoch 2 3296/5216][Iteration 266][Wall Clock 1820.02098112s] Trained 32.0 records in 6.756595018 seconds. Throughput is 4.736113 records/second. Loss is 0.053901657. \n"
          ]
        },
        {
          "output_type": "stream",
          "name": "stderr",
          "text": [
            ""
          ]
        },
        {
          "output_type": "stream",
          "name": "stdout",
          "text": [
            "22-02-10 22:17:51 [Thread-4] INFO  DistriOptimizer$:430 - [Epoch 2 3328/5216][Iteration 267][Wall Clock 1826.729380544s] Trained 32.0 records in 6.708399424 seconds. Throughput is 4.770139 records/second. Loss is 0.05734954. \n"
          ]
        },
        {
          "output_type": "stream",
          "name": "stderr",
          "text": [
            ""
          ]
        },
        {
          "output_type": "stream",
          "name": "stdout",
          "text": [
            "22-02-10 22:17:58 [Thread-4] INFO  DistriOptimizer$:430 - [Epoch 2 3360/5216][Iteration 268][Wall Clock 1833.451298696s] Trained 32.0 records in 6.721918152 seconds. Throughput is 4.7605457 records/second. Loss is 0.026738394. \n"
          ]
        },
        {
          "output_type": "stream",
          "name": "stderr",
          "text": [
            ""
          ]
        },
        {
          "output_type": "stream",
          "name": "stdout",
          "text": [
            "22-02-10 22:18:05 [Thread-4] INFO  DistriOptimizer$:430 - [Epoch 2 3392/5216][Iteration 269][Wall Clock 1840.247661149s] Trained 32.0 records in 6.796362453 seconds. Throughput is 4.708401 records/second. Loss is 0.04109376. \n"
          ]
        },
        {
          "output_type": "stream",
          "name": "stderr",
          "text": [
            ""
          ]
        },
        {
          "output_type": "stream",
          "name": "stdout",
          "text": [
            "22-02-10 22:18:11 [Thread-4] INFO  DistriOptimizer$:430 - [Epoch 2 3424/5216][Iteration 270][Wall Clock 1846.889504972s] Trained 32.0 records in 6.641843823 seconds. Throughput is 4.8179393 records/second. Loss is 0.045827955. \n"
          ]
        },
        {
          "output_type": "stream",
          "name": "stderr",
          "text": [
            ""
          ]
        },
        {
          "output_type": "stream",
          "name": "stdout",
          "text": [
            "22-02-10 22:18:18 [Thread-4] INFO  DistriOptimizer$:430 - [Epoch 2 3456/5216][Iteration 271][Wall Clock 1853.618465633s] Trained 32.0 records in 6.728960661 seconds. Throughput is 4.7555637 records/second. Loss is 0.09872858. \n"
          ]
        },
        {
          "output_type": "stream",
          "name": "stderr",
          "text": [
            ""
          ]
        },
        {
          "output_type": "stream",
          "name": "stdout",
          "text": [
            "22-02-10 22:18:25 [Thread-4] INFO  DistriOptimizer$:430 - [Epoch 2 3488/5216][Iteration 272][Wall Clock 1860.30499014s] Trained 32.0 records in 6.686524507 seconds. Throughput is 4.7857447 records/second. Loss is 0.0303055. \n"
          ]
        },
        {
          "output_type": "stream",
          "name": "stderr",
          "text": [
            ""
          ]
        },
        {
          "output_type": "stream",
          "name": "stdout",
          "text": [
            "22-02-10 22:18:31 [Thread-4] INFO  DistriOptimizer$:430 - [Epoch 2 3520/5216][Iteration 273][Wall Clock 1867.093860784s] Trained 32.0 records in 6.788870644 seconds. Throughput is 4.713597 records/second. Loss is 0.016503073. \n"
          ]
        },
        {
          "output_type": "stream",
          "name": "stderr",
          "text": [
            ""
          ]
        },
        {
          "output_type": "stream",
          "name": "stdout",
          "text": [
            "22-02-10 22:18:38 [Thread-4] INFO  DistriOptimizer$:430 - [Epoch 2 3552/5216][Iteration 274][Wall Clock 1873.866666529s] Trained 32.0 records in 6.772805745 seconds. Throughput is 4.7247777 records/second. Loss is 0.019285396. \n"
          ]
        },
        {
          "output_type": "stream",
          "name": "stderr",
          "text": [
            ""
          ]
        },
        {
          "output_type": "stream",
          "name": "stdout",
          "text": [
            "22-02-10 22:18:45 [Thread-4] INFO  DistriOptimizer$:430 - [Epoch 2 3584/5216][Iteration 275][Wall Clock 1880.620021597s] Trained 32.0 records in 6.753355068 seconds. Throughput is 4.7383857 records/second. Loss is 0.034037814. \n"
          ]
        },
        {
          "output_type": "stream",
          "name": "stderr",
          "text": [
            ""
          ]
        },
        {
          "output_type": "stream",
          "name": "stdout",
          "text": [
            "22-02-10 22:18:52 [Thread-4] INFO  DistriOptimizer$:430 - [Epoch 2 3616/5216][Iteration 276][Wall Clock 1887.268651739s] Trained 32.0 records in 6.648630142 seconds. Throughput is 4.8130217 records/second. Loss is 0.026287517. \n"
          ]
        },
        {
          "output_type": "stream",
          "name": "stderr",
          "text": [
            ""
          ]
        },
        {
          "output_type": "stream",
          "name": "stdout",
          "text": [
            "22-02-10 22:18:58 [Thread-4] INFO  DistriOptimizer$:430 - [Epoch 2 3648/5216][Iteration 277][Wall Clock 1894.016612318s] Trained 32.0 records in 6.747960579 seconds. Throughput is 4.7421737 records/second. Loss is 0.028653044. \n"
          ]
        },
        {
          "output_type": "stream",
          "name": "stderr",
          "text": [
            ""
          ]
        },
        {
          "output_type": "stream",
          "name": "stdout",
          "text": [
            "22-02-10 22:19:05 [Thread-4] INFO  DistriOptimizer$:430 - [Epoch 2 3680/5216][Iteration 278][Wall Clock 1900.791093414s] Trained 32.0 records in 6.774481096 seconds. Throughput is 4.723609 records/second. Loss is 0.061908815. \n"
          ]
        },
        {
          "output_type": "stream",
          "name": "stderr",
          "text": [
            ""
          ]
        },
        {
          "output_type": "stream",
          "name": "stdout",
          "text": [
            "22-02-10 22:19:12 [Thread-4] INFO  DistriOptimizer$:430 - [Epoch 2 3712/5216][Iteration 279][Wall Clock 1907.442058806s] Trained 32.0 records in 6.650965392 seconds. Throughput is 4.8113317 records/second. Loss is 0.16787758. \n"
          ]
        },
        {
          "output_type": "stream",
          "name": "stderr",
          "text": [
            ""
          ]
        },
        {
          "output_type": "stream",
          "name": "stdout",
          "text": [
            "22-02-10 22:19:18 [Thread-4] INFO  DistriOptimizer$:430 - [Epoch 2 3744/5216][Iteration 280][Wall Clock 1914.165572288s] Trained 32.0 records in 6.723513482 seconds. Throughput is 4.759416 records/second. Loss is 0.019417007. \n"
          ]
        },
        {
          "output_type": "stream",
          "name": "stderr",
          "text": [
            ""
          ]
        },
        {
          "output_type": "stream",
          "name": "stdout",
          "text": [
            "22-02-10 22:19:25 [Thread-4] INFO  DistriOptimizer$:430 - [Epoch 2 3776/5216][Iteration 281][Wall Clock 1920.843786956s] Trained 32.0 records in 6.678214668 seconds. Throughput is 4.7917 records/second. Loss is 0.025936026. \n"
          ]
        },
        {
          "output_type": "stream",
          "name": "stderr",
          "text": [
            ""
          ]
        },
        {
          "output_type": "stream",
          "name": "stdout",
          "text": [
            "22-02-10 22:19:32 [Thread-4] INFO  DistriOptimizer$:430 - [Epoch 2 3808/5216][Iteration 282][Wall Clock 1927.517299105s] Trained 32.0 records in 6.673512149 seconds. Throughput is 4.7950764 records/second. Loss is 0.023232222. \n"
          ]
        },
        {
          "output_type": "stream",
          "name": "stderr",
          "text": [
            ""
          ]
        },
        {
          "output_type": "stream",
          "name": "stdout",
          "text": [
            "22-02-10 22:19:38 [Thread-4] INFO  DistriOptimizer$:430 - [Epoch 2 3840/5216][Iteration 283][Wall Clock 1934.194099863s] Trained 32.0 records in 6.676800758 seconds. Throughput is 4.7927146 records/second. Loss is 0.0252783. \n"
          ]
        },
        {
          "output_type": "stream",
          "name": "stderr",
          "text": [
            ""
          ]
        },
        {
          "output_type": "stream",
          "name": "stdout",
          "text": [
            "22-02-10 22:19:45 [Thread-4] INFO  DistriOptimizer$:430 - [Epoch 2 3872/5216][Iteration 284][Wall Clock 1940.886500089s] Trained 32.0 records in 6.692400226 seconds. Throughput is 4.781543 records/second. Loss is 0.044139814. \n"
          ]
        },
        {
          "output_type": "stream",
          "name": "stderr",
          "text": [
            ""
          ]
        },
        {
          "output_type": "stream",
          "name": "stdout",
          "text": [
            "22-02-10 22:19:52 [Thread-4] INFO  DistriOptimizer$:430 - [Epoch 2 3904/5216][Iteration 285][Wall Clock 1947.580761725s] Trained 32.0 records in 6.694261636 seconds. Throughput is 4.7802134 records/second. Loss is 0.018998697. \n"
          ]
        },
        {
          "output_type": "stream",
          "name": "stderr",
          "text": [
            ""
          ]
        },
        {
          "output_type": "stream",
          "name": "stdout",
          "text": [
            "22-02-10 22:19:59 [Thread-4] INFO  DistriOptimizer$:430 - [Epoch 2 3936/5216][Iteration 286][Wall Clock 1954.328206394s] Trained 32.0 records in 6.747444669 seconds. Throughput is 4.742536 records/second. Loss is 0.013950298. \n"
          ]
        },
        {
          "output_type": "stream",
          "name": "stderr",
          "text": [
            ""
          ]
        },
        {
          "output_type": "stream",
          "name": "stdout",
          "text": [
            "22-02-10 22:20:05 [Thread-4] INFO  DistriOptimizer$:430 - [Epoch 2 3968/5216][Iteration 287][Wall Clock 1961.031168589s] Trained 32.0 records in 6.702962195 seconds. Throughput is 4.7740088 records/second. Loss is 0.0382402. \n"
          ]
        },
        {
          "output_type": "stream",
          "name": "stderr",
          "text": [
            ""
          ]
        },
        {
          "output_type": "stream",
          "name": "stdout",
          "text": [
            "22-02-10 22:20:12 [Thread-4] INFO  DistriOptimizer$:430 - [Epoch 2 4000/5216][Iteration 288][Wall Clock 1967.754647461s] Trained 32.0 records in 6.723478872 seconds. Throughput is 4.759441 records/second. Loss is 0.029997641. \n"
          ]
        },
        {
          "output_type": "stream",
          "name": "stderr",
          "text": [
            ""
          ]
        },
        {
          "output_type": "stream",
          "name": "stdout",
          "text": [
            "22-02-10 22:20:19 [Thread-4] INFO  DistriOptimizer$:430 - [Epoch 2 4032/5216][Iteration 289][Wall Clock 1974.355268539s] Trained 32.0 records in 6.600621078 seconds. Throughput is 4.8480287 records/second. Loss is 0.020224579. \n"
          ]
        },
        {
          "output_type": "stream",
          "name": "stderr",
          "text": [
            ""
          ]
        },
        {
          "output_type": "stream",
          "name": "stdout",
          "text": [
            "22-02-10 22:20:25 [Thread-4] INFO  DistriOptimizer$:430 - [Epoch 2 4064/5216][Iteration 290][Wall Clock 1981.075092512s] Trained 32.0 records in 6.719823973 seconds. Throughput is 4.7620296 records/second. Loss is 0.022528406. \n"
          ]
        },
        {
          "output_type": "stream",
          "name": "stderr",
          "text": [
            ""
          ]
        },
        {
          "output_type": "stream",
          "name": "stdout",
          "text": [
            "22-02-10 22:20:32 [Thread-4] INFO  DistriOptimizer$:430 - [Epoch 2 4096/5216][Iteration 291][Wall Clock 1987.790228325s] Trained 32.0 records in 6.715135813 seconds. Throughput is 4.765354 records/second. Loss is 0.029973663. \n"
          ]
        },
        {
          "output_type": "stream",
          "name": "stderr",
          "text": [
            ""
          ]
        },
        {
          "output_type": "stream",
          "name": "stdout",
          "text": [
            "22-02-10 22:20:39 [Thread-4] INFO  DistriOptimizer$:430 - [Epoch 2 4128/5216][Iteration 292][Wall Clock 1994.477276032s] Trained 32.0 records in 6.687047707 seconds. Throughput is 4.7853703 records/second. Loss is 0.020508267. \n"
          ]
        },
        {
          "output_type": "stream",
          "name": "stderr",
          "text": [
            ""
          ]
        },
        {
          "output_type": "stream",
          "name": "stdout",
          "text": [
            "22-02-10 22:20:45 [Thread-4] INFO  DistriOptimizer$:430 - [Epoch 2 4160/5216][Iteration 293][Wall Clock 2001.184920536s] Trained 32.0 records in 6.707644504 seconds. Throughput is 4.770676 records/second. Loss is 0.018784666. \n"
          ]
        },
        {
          "output_type": "stream",
          "name": "stderr",
          "text": [
            ""
          ]
        },
        {
          "output_type": "stream",
          "name": "stdout",
          "text": [
            "22-02-10 22:20:52 [Thread-4] INFO  DistriOptimizer$:430 - [Epoch 2 4192/5216][Iteration 294][Wall Clock 2007.89370223s] Trained 32.0 records in 6.708781694 seconds. Throughput is 4.7698674 records/second. Loss is 0.025164114. \n"
          ]
        },
        {
          "output_type": "stream",
          "name": "stderr",
          "text": [
            ""
          ]
        },
        {
          "output_type": "stream",
          "name": "stdout",
          "text": [
            "22-02-10 22:20:59 [Thread-4] INFO  DistriOptimizer$:430 - [Epoch 2 4224/5216][Iteration 295][Wall Clock 2014.624621431s] Trained 32.0 records in 6.730919201 seconds. Throughput is 4.7541795 records/second. Loss is 0.019716263. \n"
          ]
        },
        {
          "output_type": "stream",
          "name": "stderr",
          "text": [
            ""
          ]
        },
        {
          "output_type": "stream",
          "name": "stdout",
          "text": [
            "22-02-10 22:21:06 [Thread-4] INFO  DistriOptimizer$:430 - [Epoch 2 4256/5216][Iteration 296][Wall Clock 2021.368797681s] Trained 32.0 records in 6.74417625 seconds. Throughput is 4.7448344 records/second. Loss is 0.023273723. \n"
          ]
        },
        {
          "output_type": "stream",
          "name": "stderr",
          "text": [
            ""
          ]
        },
        {
          "output_type": "stream",
          "name": "stdout",
          "text": [
            "22-02-10 22:21:12 [Thread-4] INFO  DistriOptimizer$:430 - [Epoch 2 4288/5216][Iteration 297][Wall Clock 2028.108449761s] Trained 32.0 records in 6.73965208 seconds. Throughput is 4.7480197 records/second. Loss is 0.044285476. \n"
          ]
        },
        {
          "output_type": "stream",
          "name": "stderr",
          "text": [
            ""
          ]
        },
        {
          "output_type": "stream",
          "name": "stdout",
          "text": [
            "22-02-10 22:21:19 [Thread-4] INFO  DistriOptimizer$:430 - [Epoch 2 4320/5216][Iteration 298][Wall Clock 2034.78523545s] Trained 32.0 records in 6.676785689 seconds. Throughput is 4.7927256 records/second. Loss is 0.015211448. \n"
          ]
        },
        {
          "output_type": "stream",
          "name": "stderr",
          "text": [
            ""
          ]
        },
        {
          "output_type": "stream",
          "name": "stdout",
          "text": [
            "22-02-10 22:21:26 [Thread-4] INFO  DistriOptimizer$:430 - [Epoch 2 4352/5216][Iteration 299][Wall Clock 2041.479516216s] Trained 32.0 records in 6.694280766 seconds. Throughput is 4.7802 records/second. Loss is 0.07407382. \n"
          ]
        },
        {
          "output_type": "stream",
          "name": "stderr",
          "text": [
            ""
          ]
        },
        {
          "output_type": "stream",
          "name": "stdout",
          "text": [
            "22-02-10 22:21:33 [Thread-4] INFO  DistriOptimizer$:430 - [Epoch 2 4384/5216][Iteration 300][Wall Clock 2048.211063737s] Trained 32.0 records in 6.731547521 seconds. Throughput is 4.753736 records/second. Loss is 0.071602456. \n"
          ]
        },
        {
          "output_type": "stream",
          "name": "stderr",
          "text": [
            ""
          ]
        },
        {
          "output_type": "stream",
          "name": "stdout",
          "text": [
            "22-02-10 22:21:39 [Thread-4] INFO  DistriOptimizer$:430 - [Epoch 2 4416/5216][Iteration 301][Wall Clock 2054.953166037s] Trained 32.0 records in 6.7421023 seconds. Throughput is 4.746294 records/second. Loss is 0.030040426. \n"
          ]
        },
        {
          "output_type": "stream",
          "name": "stderr",
          "text": [
            ""
          ]
        },
        {
          "output_type": "stream",
          "name": "stdout",
          "text": [
            "22-02-10 22:21:46 [Thread-4] INFO  DistriOptimizer$:430 - [Epoch 2 4448/5216][Iteration 302][Wall Clock 2061.652367832s] Trained 32.0 records in 6.699201795 seconds. Throughput is 4.7766886 records/second. Loss is 0.014070113. \n"
          ]
        },
        {
          "output_type": "stream",
          "name": "stderr",
          "text": [
            ""
          ]
        },
        {
          "output_type": "stream",
          "name": "stdout",
          "text": [
            "22-02-10 22:21:53 [Thread-4] INFO  DistriOptimizer$:430 - [Epoch 2 4480/5216][Iteration 303][Wall Clock 2068.366014095s] Trained 32.0 records in 6.713646263 seconds. Throughput is 4.7664113 records/second. Loss is 0.0331312. \n"
          ]
        },
        {
          "output_type": "stream",
          "name": "stderr",
          "text": [
            ""
          ]
        },
        {
          "output_type": "stream",
          "name": "stdout",
          "text": [
            "22-02-10 22:21:59 [Thread-4] INFO  DistriOptimizer$:430 - [Epoch 2 4512/5216][Iteration 304][Wall Clock 2075.062861121s] Trained 32.0 records in 6.696847026 seconds. Throughput is 4.778368 records/second. Loss is 0.2497082. \n"
          ]
        },
        {
          "output_type": "stream",
          "name": "stderr",
          "text": [
            ""
          ]
        },
        {
          "output_type": "stream",
          "name": "stdout",
          "text": [
            "22-02-10 22:22:06 [Thread-4] INFO  DistriOptimizer$:430 - [Epoch 2 4544/5216][Iteration 305][Wall Clock 2081.80987463s] Trained 32.0 records in 6.747013509 seconds. Throughput is 4.7428393 records/second. Loss is 0.012969022. \n"
          ]
        },
        {
          "output_type": "stream",
          "name": "stderr",
          "text": [
            ""
          ]
        },
        {
          "output_type": "stream",
          "name": "stdout",
          "text": [
            "22-02-10 22:22:13 [Thread-4] INFO  DistriOptimizer$:430 - [Epoch 2 4576/5216][Iteration 306][Wall Clock 2088.511788305s] Trained 32.0 records in 6.701913675 seconds. Throughput is 4.7747555 records/second. Loss is 0.01994078. \n"
          ]
        },
        {
          "output_type": "stream",
          "name": "stderr",
          "text": [
            ""
          ]
        },
        {
          "output_type": "stream",
          "name": "stdout",
          "text": [
            "22-02-10 22:22:20 [Thread-4] INFO  DistriOptimizer$:430 - [Epoch 2 4608/5216][Iteration 307][Wall Clock 2095.261551654s] Trained 32.0 records in 6.749763349 seconds. Throughput is 4.7409067 records/second. Loss is 0.01698431. \n"
          ]
        },
        {
          "output_type": "stream",
          "name": "stderr",
          "text": [
            ""
          ]
        },
        {
          "output_type": "stream",
          "name": "stdout",
          "text": [
            "22-02-10 22:22:26 [Thread-4] INFO  DistriOptimizer$:430 - [Epoch 2 4640/5216][Iteration 308][Wall Clock 2101.914542336s] Trained 32.0 records in 6.652990682 seconds. Throughput is 4.809867 records/second. Loss is 0.104677595. \n"
          ]
        },
        {
          "output_type": "stream",
          "name": "stderr",
          "text": [
            ""
          ]
        },
        {
          "output_type": "stream",
          "name": "stdout",
          "text": [
            "22-02-10 22:22:33 [Thread-4] INFO  DistriOptimizer$:430 - [Epoch 2 4672/5216][Iteration 309][Wall Clock 2108.741846795s] Trained 32.0 records in 6.827304459 seconds. Throughput is 4.6870623 records/second. Loss is 0.084604755. \n"
          ]
        },
        {
          "output_type": "stream",
          "name": "stderr",
          "text": [
            ""
          ]
        },
        {
          "output_type": "stream",
          "name": "stdout",
          "text": [
            "22-02-10 22:22:40 [Thread-4] INFO  DistriOptimizer$:430 - [Epoch 2 4704/5216][Iteration 310][Wall Clock 2115.429156291s] Trained 32.0 records in 6.687309496 seconds. Throughput is 4.7851834 records/second. Loss is 0.020980034. \n"
          ]
        },
        {
          "output_type": "stream",
          "name": "stderr",
          "text": [
            ""
          ]
        },
        {
          "output_type": "stream",
          "name": "stdout",
          "text": [
            "22-02-10 22:22:46 [Thread-4] INFO  DistriOptimizer$:430 - [Epoch 2 4736/5216][Iteration 311][Wall Clock 2122.120532287s] Trained 32.0 records in 6.691375996 seconds. Throughput is 4.7822747 records/second. Loss is 0.02066752. \n"
          ]
        },
        {
          "output_type": "stream",
          "name": "stderr",
          "text": [
            ""
          ]
        },
        {
          "output_type": "stream",
          "name": "stdout",
          "text": [
            "22-02-10 22:22:53 [Thread-4] INFO  DistriOptimizer$:430 - [Epoch 2 4768/5216][Iteration 312][Wall Clock 2128.860778147s] Trained 32.0 records in 6.74024586 seconds. Throughput is 4.7476015 records/second. Loss is 0.011349203. \n"
          ]
        },
        {
          "output_type": "stream",
          "name": "stderr",
          "text": [
            ""
          ]
        },
        {
          "output_type": "stream",
          "name": "stdout",
          "text": [
            "22-02-10 22:23:00 [Thread-4] INFO  DistriOptimizer$:430 - [Epoch 2 4800/5216][Iteration 313][Wall Clock 2135.597747917s] Trained 32.0 records in 6.73696977 seconds. Throughput is 4.74991 records/second. Loss is 0.011085096. \n"
          ]
        },
        {
          "output_type": "stream",
          "name": "stderr",
          "text": [
            ""
          ]
        },
        {
          "output_type": "stream",
          "name": "stdout",
          "text": [
            "22-02-10 22:23:07 [Thread-4] INFO  DistriOptimizer$:430 - [Epoch 2 4832/5216][Iteration 314][Wall Clock 2142.335336538s] Trained 32.0 records in 6.737588621 seconds. Throughput is 4.749474 records/second. Loss is 0.019572549. \n"
          ]
        },
        {
          "output_type": "stream",
          "name": "stderr",
          "text": [
            ""
          ]
        },
        {
          "output_type": "stream",
          "name": "stdout",
          "text": [
            "22-02-10 22:23:13 [Thread-4] INFO  DistriOptimizer$:430 - [Epoch 2 4864/5216][Iteration 315][Wall Clock 2149.017871686s] Trained 32.0 records in 6.682535148 seconds. Throughput is 4.788602 records/second. Loss is 0.02794234. \n"
          ]
        },
        {
          "output_type": "stream",
          "name": "stderr",
          "text": [
            ""
          ]
        },
        {
          "output_type": "stream",
          "name": "stdout",
          "text": [
            "22-02-10 22:23:20 [Thread-4] INFO  DistriOptimizer$:430 - [Epoch 2 4896/5216][Iteration 316][Wall Clock 2155.658202899s] Trained 32.0 records in 6.640331213 seconds. Throughput is 4.8190365 records/second. Loss is 0.00976663. \n"
          ]
        },
        {
          "output_type": "stream",
          "name": "stderr",
          "text": [
            ""
          ]
        },
        {
          "output_type": "stream",
          "name": "stdout",
          "text": [
            "22-02-10 22:23:27 [Thread-4] INFO  DistriOptimizer$:430 - [Epoch 2 4928/5216][Iteration 317][Wall Clock 2162.362889224s] Trained 32.0 records in 6.704686325 seconds. Throughput is 4.7727814 records/second. Loss is 0.0084485095. \n"
          ]
        },
        {
          "output_type": "stream",
          "name": "stderr",
          "text": [
            ""
          ]
        },
        {
          "output_type": "stream",
          "name": "stdout",
          "text": [
            "22-02-10 22:23:34 [Thread-4] INFO  DistriOptimizer$:430 - [Epoch 2 4960/5216][Iteration 318][Wall Clock 2169.700619155s] Trained 32.0 records in 7.337729931 seconds. Throughput is 4.361022 records/second. Loss is 0.022894122. \n"
          ]
        },
        {
          "output_type": "stream",
          "name": "stderr",
          "text": [
            ""
          ]
        },
        {
          "output_type": "stream",
          "name": "stdout",
          "text": [
            "22-02-10 22:23:41 [Thread-4] INFO  DistriOptimizer$:430 - [Epoch 2 4992/5216][Iteration 319][Wall Clock 2176.999067873s] Trained 32.0 records in 7.298448718 seconds. Throughput is 4.3844934 records/second. Loss is 0.030613616. \n"
          ]
        },
        {
          "output_type": "stream",
          "name": "stderr",
          "text": [
            ""
          ]
        },
        {
          "output_type": "stream",
          "name": "stdout",
          "text": [
            "22-02-10 22:23:48 [Thread-4] INFO  DistriOptimizer$:430 - [Epoch 2 5024/5216][Iteration 320][Wall Clock 2183.947033116s] Trained 32.0 records in 6.947965243 seconds. Throughput is 4.605665 records/second. Loss is 0.013181107. \n"
          ]
        },
        {
          "output_type": "stream",
          "name": "stderr",
          "text": [
            ""
          ]
        },
        {
          "output_type": "stream",
          "name": "stdout",
          "text": [
            "22-02-10 22:23:55 [Thread-4] INFO  DistriOptimizer$:430 - [Epoch 2 5056/5216][Iteration 321][Wall Clock 2190.758897207s] Trained 32.0 records in 6.811864091 seconds. Throughput is 4.697686 records/second. Loss is 0.012222898. \n"
          ]
        },
        {
          "output_type": "stream",
          "name": "stderr",
          "text": [
            ""
          ]
        },
        {
          "output_type": "stream",
          "name": "stdout",
          "text": [
            "22-02-10 22:24:02 [Thread-4] INFO  DistriOptimizer$:430 - [Epoch 2 5088/5216][Iteration 322][Wall Clock 2197.469852111s] Trained 32.0 records in 6.710954904 seconds. Throughput is 4.768323 records/second. Loss is 0.03385044. \n"
          ]
        },
        {
          "output_type": "stream",
          "name": "stderr",
          "text": [
            ""
          ]
        },
        {
          "output_type": "stream",
          "name": "stdout",
          "text": [
            "22-02-10 22:24:08 [Thread-4] INFO  DistriOptimizer$:430 - [Epoch 2 5120/5216][Iteration 323][Wall Clock 2204.152217718s] Trained 32.0 records in 6.682365607 seconds. Throughput is 4.7887235 records/second. Loss is 0.011642132. \n"
          ]
        },
        {
          "output_type": "stream",
          "name": "stderr",
          "text": [
            ""
          ]
        },
        {
          "output_type": "stream",
          "name": "stdout",
          "text": [
            "22-02-10 22:24:15 [Thread-4] INFO  DistriOptimizer$:430 - [Epoch 2 5152/5216][Iteration 324][Wall Clock 2210.818264148s] Trained 32.0 records in 6.66604643 seconds. Throughput is 4.8004465 records/second. Loss is 0.035903994. \n"
          ]
        },
        {
          "output_type": "stream",
          "name": "stderr",
          "text": [
            ""
          ]
        },
        {
          "output_type": "stream",
          "name": "stdout",
          "text": [
            "22-02-10 22:24:22 [Thread-4] INFO  DistriOptimizer$:430 - [Epoch 2 5184/5216][Iteration 325][Wall Clock 2217.585153504s] Trained 32.0 records in 6.766889356 seconds. Throughput is 4.728908 records/second. Loss is 0.02853406. \n"
          ]
        },
        {
          "output_type": "stream",
          "name": "stderr",
          "text": [
            ""
          ]
        },
        {
          "output_type": "stream",
          "name": "stdout",
          "text": [
            "22-02-10 22:24:29 [Thread-4] INFO  DistriOptimizer$:430 - [Epoch 2 5216/5216][Iteration 326][Wall Clock 2224.273770891s] Trained 32.0 records in 6.688617387 seconds. Throughput is 4.7842474 records/second. Loss is 0.04148032. \n",
            "22-02-10 22:24:29 [Thread-4] INFO  DistriOptimizer$:475 - [Epoch 2 5216/5216][Iteration 326][Wall Clock 2224.273770891s] Epoch finished. Wall clock time is 2325974.391781 ms\n",
            "22-02-10 22:24:29 [Thread-4] INFO  DistriOptimizer$:112 - [Epoch 2 5216/5216][Iteration 326][Wall Clock 2224.273770891s] Validate model...\n"
          ]
        },
        {
          "output_type": "stream",
          "name": "stderr",
          "text": [
            ""
          ]
        },
        {
          "output_type": "stream",
          "name": "stdout",
          "text": [
            "22-02-10 22:26:10 [Thread-4] INFO  DistriOptimizer$:178 - [Epoch 2 5216/5216][Iteration 326][Wall Clock 2224.273770891s] validate model throughput is 6.124821 records/second\n",
            "22-02-10 22:26:10 [Thread-4] INFO  DistriOptimizer$:181 - [Epoch 2 5216/5216][Iteration 326][Wall Clock 2224.273770891s] Top1Accuracy is Accuracy(correct: 419, count: 624, accuracy: 0.6714743589743589)\n"
          ]
        },
        {
          "output_type": "execute_result",
          "data": {
            "text/plain": [
              "<bigdl.orca.learn.pytorch.pytorch_spark_estimator.PyTorchSparkEstimator at 0x7f7cf0f7fc10>"
            ]
          },
          "metadata": {},
          "execution_count": 22
        }
      ],
      "source": [
        "from bigdl.orca.learn.trigger import EveryEpoch \n",
        "\n",
        "est.fit(data=train_loader, epochs=2, validation_data=test_loader,\n",
        "        checkpoint_trigger=EveryEpoch())"
      ]
    },
    {
      "cell_type": "code",
      "execution_count": null,
      "metadata": {
        "id": "Gd2DejdHqUOx",
        "colab": {
          "base_uri": "https://localhost:8080/"
        },
        "outputId": "f23a1be8-4580-4810-b01b-250bb1e2018f"
      },
      "outputs": [
        {
          "output_type": "stream",
          "name": "stderr",
          "text": [
            "[Stage 665:>                                                        (0 + 1) / 1]"
          ]
        },
        {
          "output_type": "stream",
          "name": "stdout",
          "text": [
            "22-02-10 22:27:53 [Thread-4] INFO  DistriOptimizer$:1518 - Top1Accuracy is Accuracy(correct: 426, count: 624, accuracy: 0.6826923076923077)\n",
            "Top1Accuracy : 0.682692289352417\n"
          ]
        },
        {
          "output_type": "stream",
          "name": "stderr",
          "text": [
            "\r                                                                                \r"
          ]
        }
      ],
      "source": [
        "result = est.evaluate(data=test_loader)\n",
        "for r in result:\n",
        "    print(r, \":\", result[r])"
      ]
    },
    {
      "cell_type": "markdown",
      "source": [
        "The final accuracy is 68.26%."
      ],
      "metadata": {
        "id": "WELVsIO1vDXJ"
      }
    },
    {
      "cell_type": "code",
      "source": [
        "est.save(\"/content/drive/MyDrive/Colab_Notebooks/integratedNet\") # save the model"
      ],
      "metadata": {
        "colab": {
          "base_uri": "https://localhost:8080/",
          "height": 35
        },
        "id": "ueOWjQUE3-hn",
        "outputId": "da8ccc8c-eb87-454d-af5b-6afd53491094"
      },
      "execution_count": null,
      "outputs": [
        {
          "output_type": "execute_result",
          "data": {
            "application/vnd.google.colaboratory.intrinsic+json": {
              "type": "string"
            },
            "text/plain": [
              "'/content/drive/MyDrive/Colab_Notebooks/integratedNet'"
            ]
          },
          "metadata": {},
          "execution_count": 24
        }
      ]
    },
    {
      "cell_type": "code",
      "execution_count": null,
      "metadata": {
        "id": "XYMbDnJmqWRK",
        "colab": {
          "base_uri": "https://localhost:8080/"
        },
        "outputId": "7fc4d121-f047-4a30-d8d2-3c13c2b143b0"
      },
      "outputs": [
        {
          "output_type": "stream",
          "name": "stdout",
          "text": [
            "Stopping orca context\n"
          ]
        }
      ],
      "source": [
        "# stop orca context when program finishes\n",
        "stop_orca_context()"
      ]
    }
  ],
  "metadata": {
    "colab": {
      "collapsed_sections": [],
      "name": "Annex_I_Xray_images_big_data.ipynb",
      "provenance": [],
      "machine_shape": "hm",
      "mount_file_id": "1rIH3q7vYoErc3JxVTgbU8Q8_fL5z9KbE",
      "authorship_tag": "ABX9TyPz7xBepnn21Ey2FrQC//1w",
      "include_colab_link": true
    },
    "kernelspec": {
      "display_name": "Python 3",
      "name": "python3"
    },
    "language_info": {
      "name": "python"
    }
  },
  "nbformat": 4,
  "nbformat_minor": 0
}